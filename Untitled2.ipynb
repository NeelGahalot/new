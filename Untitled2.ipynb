{
 "cells": [
  {
   "cell_type": "code",
   "execution_count": 1,
   "id": "7d6a72d0-6686-48d9-90eb-bf6eb182fb5d",
   "metadata": {},
   "outputs": [
    {
     "name": "stderr",
     "output_type": "stream",
     "text": [
      "\n",
      "WARNING: apt does not have a stable CLI interface. Use with caution in scripts.\n",
      "\n",
      "E: Could not open lock file /var/lib/dpkg/lock-frontend - open (13: Permission denied)\n",
      "E: Unable to acquire the dpkg frontend lock (/var/lib/dpkg/lock-frontend), are you root?\n"
     ]
    }
   ],
   "source": [
    "from kora.xattr import get_id\n",
    "import os\n",
    "import json\n",
    "import gdown\n",
    "import requests"
   ]
  },
  {
   "cell_type": "code",
   "execution_count": 2,
   "id": "c9bbefec-5d10-44fa-8cbe-1938d249b041",
   "metadata": {},
   "outputs": [],
   "source": [
    "def download_file(file_id, destination_path):\n",
    "    to_download = f'https://drive.google.com/uc?id={file_id}'\n",
    "    os.system(f'gdown {to_download} -O {destination_path}')"
   ]
  },
  {
   "cell_type": "code",
   "execution_count": 10,
   "id": "3851798b-a7af-4c1b-bd28-32801ca2b2fa",
   "metadata": {},
   "outputs": [
    {
     "name": "stdout",
     "output_type": "stream",
     "text": [
      "/teamspace/studios/this_studio/Deeplab\n"
     ]
    }
   ],
   "source": [
    "print(os.getcwd())"
   ]
  },
  {
   "cell_type": "code",
   "execution_count": 11,
   "id": "49d50222-3ce4-4557-82a4-02b920848d08",
   "metadata": {},
   "outputs": [
    {
     "name": "stderr",
     "output_type": "stream",
     "text": [
      "Downloading...\n",
      "From: https://drive.google.com/uc?id=1-5q6CqTf04qKld9lFEiyUWkBcdraDtVX\n",
      "To: /teamspace/studios/this_studio/Deeplab/new.json\n",
      "100%|██████████| 1.83k/1.83k [00:00<00:00, 13.4MB/s]\n"
     ]
    }
   ],
   "source": [
    "download_file('1-5q6CqTf04qKld9lFEiyUWkBcdraDtVX', 'new.json')"
   ]
  },
  {
   "cell_type": "code",
   "execution_count": 6,
   "id": "60a52f11-6ee6-43da-914f-2ce6f7751062",
   "metadata": {},
   "outputs": [],
   "source": [
    "def download(key, base_destination):\n",
    "    to_download = f'https://drive.google.com/uc?id={key}'\n",
    "    response = requests.get(to_download)\n",
    "    response.raise_for_status()  # Ensure we notice bad responses\n",
    "\n",
    "    # Load JSON content from response text\n",
    "    file_dict = json.loads(response.text)\n",
    "\n",
    "    for relative_path, file_id in file_dict.items():\n",
    "        destination_path = os.path.join(base_destination, relative_path)\n",
    "        os.makedirs(os.path.dirname(destination_path), exist_ok=True)\n",
    "        download_file(file_id, destination_path)"
   ]
  },
  {
   "cell_type": "code",
   "execution_count": 12,
   "id": "2ab2f082-6bd7-4ee2-b5ce-f78a7136d64d",
   "metadata": {},
   "outputs": [
    {
     "name": "stderr",
     "output_type": "stream",
     "text": [
      "Downloading...\n",
      "From: https://drive.google.com/uc?id=1-ihoDO7Fz4y3OCW2_KnHpZY0_EevDuHF\n",
      "To: /teamspace/studios/this_studio/Deeplab/inhouse_india/samples/test_5.jpg\n",
      "100%|██████████| 199k/199k [00:00<00:00, 30.9MB/s]\n",
      "Downloading...\n",
      "From: https://drive.google.com/uc?id=1-v9wPxNo63lKOD9cQXQbvH5Sl5MBdM95\n",
      "To: /teamspace/studios/this_studio/Deeplab/inhouse_india/samples/test_7.jpg\n",
      "100%|██████████| 197k/197k [00:00<00:00, 23.0MB/s]\n",
      "Downloading...\n",
      "From: https://drive.google.com/uc?id=1-xGKanDIiC_Gmk3Jfu6IiAgMaLKVTR_h\n",
      "To: /teamspace/studios/this_studio/Deeplab/inhouse_india/samples/test_8.jpg\n",
      "100%|██████████| 181k/181k [00:00<00:00, 23.8MB/s]\n",
      "Downloading...\n",
      "From: https://drive.google.com/uc?id=10EamDOtKaqw023c_MKO7E5F6o5fcn5IG\n",
      "To: /teamspace/studios/this_studio/Deeplab/inhouse_india/samples/test_9.jpg\n",
      "100%|██████████| 190k/190k [00:00<00:00, 22.3MB/s]\n",
      "Downloading...\n",
      "From: https://drive.google.com/uc?id=10UVuI86mHF_gRiY8aqpJQLxIluq-RjMt\n",
      "To: /teamspace/studios/this_studio/Deeplab/inhouse_india/samples/test_11.jpg\n",
      "100%|██████████| 178k/178k [00:00<00:00, 22.7MB/s]\n",
      "Downloading...\n",
      "From: https://drive.google.com/uc?id=1VfNX-Va4P6ZuNt9gCU5MxMNQpBB7xU0I\n",
      "To: /teamspace/studios/this_studio/Deeplab/inhouse_india/samples/test_1.jpg\n",
      "100%|██████████| 157k/157k [00:00<00:00, 23.2MB/s]\n",
      "Downloading...\n",
      "From: https://drive.google.com/uc?id=1-Q8s09E82xiJJbMzcvOc8cooTq2acuoQ\n",
      "To: /teamspace/studios/this_studio/Deeplab/inhouse_india/samples/test_4.jpg\n",
      "100%|██████████| 99.8k/99.8k [00:00<00:00, 24.2MB/s]\n",
      "Downloading...\n",
      "From: https://drive.google.com/uc?id=1-MHyiXT0fw9hpfGQ3-ikxMWs1lnCxrB7\n",
      "To: /teamspace/studios/this_studio/Deeplab/inhouse_india/samples/test_3.jpg\n",
      "100%|██████████| 132k/132k [00:00<00:00, 26.4MB/s]\n",
      "Downloading...\n",
      "From: https://drive.google.com/uc?id=1-B_KE4jMzczMc3-lAuGcIdciCk8AGTsI\n",
      "To: /teamspace/studios/this_studio/Deeplab/inhouse_india/samples/test_2.jpg\n",
      "100%|██████████| 186k/186k [00:00<00:00, 29.8MB/s]\n",
      "Downloading...\n",
      "From: https://drive.google.com/uc?id=1-iygXMskp9j9vO43uyEf2Hql3kmq73nX\n",
      "To: /teamspace/studios/this_studio/Deeplab/inhouse_india/samples/test_6.jpg\n",
      "100%|██████████| 161k/161k [00:00<00:00, 23.0MB/s]\n",
      "Downloading...\n",
      "From: https://drive.google.com/uc?id=1Vh63eDVAwkq3463kYMHRwfsXLMn154os\n",
      "To: /teamspace/studios/this_studio/Deeplab/inhouse_india/binary_masks/test_1_binarymask.jpg\n",
      "100%|██████████| 30.1k/30.1k [00:00<00:00, 61.0MB/s]\n",
      "Downloading...\n",
      "From: https://drive.google.com/uc?id=1--ObiUuOL2RQzuMg1NVKfvjyNFO1A25p\n",
      "To: /teamspace/studios/this_studio/Deeplab/inhouse_india/binary_masks/test_2_binarymask.jpg\n",
      "100%|██████████| 45.8k/45.8k [00:00<00:00, 20.6MB/s]\n",
      "Downloading...\n",
      "From: https://drive.google.com/uc?id=1-FfvCyf5y2u_vgCZ0i_BD7FcWeirIcCG\n",
      "To: /teamspace/studios/this_studio/Deeplab/inhouse_india/binary_masks/test_3_binarymask.jpg\n",
      "100%|██████████| 39.4k/39.4k [00:00<00:00, 26.1MB/s]\n",
      "Downloading...\n",
      "From: https://drive.google.com/uc?id=1-ROoMj4EuB_XjWCS0gjOUPBxorVooBgO\n",
      "To: /teamspace/studios/this_studio/Deeplab/inhouse_india/binary_masks/test_4_binarymask.jpg\n",
      "100%|██████████| 39.4k/39.4k [00:00<00:00, 25.9MB/s]\n",
      "Downloading...\n",
      "From: https://drive.google.com/uc?id=1-gC3kKVBO9R1MZFVK8UGKFkMSzYzZIQ_\n",
      "To: /teamspace/studios/this_studio/Deeplab/inhouse_india/binary_masks/test_5_binarymask.jpg\n",
      "100%|██████████| 8.46k/8.46k [00:00<00:00, 23.8MB/s]\n",
      "Downloading...\n",
      "From: https://drive.google.com/uc?id=1-qLSZOTurt5F8A4gVBTsQlHkN6LO_zU0\n",
      "To: /teamspace/studios/this_studio/Deeplab/inhouse_india/binary_masks/test_6_binarymask.jpg\n",
      "100%|██████████| 25.1k/25.1k [00:00<00:00, 49.6MB/s]\n",
      "Downloading...\n",
      "From: https://drive.google.com/uc?id=1-toojUSY1qUiG-9qrPe3tob9Sbjj_GjM\n",
      "To: /teamspace/studios/this_studio/Deeplab/inhouse_india/binary_masks/test_7_binarymask.jpg\n",
      "100%|██████████| 41.9k/41.9k [00:00<00:00, 26.6MB/s]\n",
      "Downloading...\n",
      "From: https://drive.google.com/uc?id=103XF2EfMwhIlxfoGeOn29mq6q1KlFXYN\n",
      "To: /teamspace/studios/this_studio/Deeplab/inhouse_india/binary_masks/test_8_binarymask.jpg\n",
      "100%|██████████| 5.81k/5.81k [00:00<00:00, 26.4MB/s]\n",
      "Downloading...\n",
      "From: https://drive.google.com/uc?id=105BGcRacG9w6xIsIOXs10knymaKnQ_r4\n",
      "To: /teamspace/studios/this_studio/Deeplab/inhouse_india/binary_masks/test_9_binarymask.jpg\n",
      "100%|██████████| 6.31k/6.31k [00:00<00:00, 29.3MB/s]\n",
      "Downloading...\n",
      "From: https://drive.google.com/uc?id=10SfFOFdAhgqt4UnzLNZ7-UKvQYAMPsr7\n",
      "To: /teamspace/studios/this_studio/Deeplab/inhouse_india/binary_masks/test_11_binarymask.jpg\n",
      "100%|██████████| 14.3k/14.3k [00:00<00:00, 39.3MB/s]\n",
      "Downloading...\n",
      "From: https://drive.google.com/uc?id=1-Nc9Wr5e3d49osFXVEGsJytLzB3y5gCj\n",
      "To: /teamspace/studios/this_studio/Deeplab/inhouse_india/splits/test.txt\n",
      "0.00B [00:00, ?B/s]\n",
      "Downloading...\n",
      "From: https://drive.google.com/uc?id=1-UdPOVJXo8p3uTFiRwM0o8ls1CHm5rT-\n",
      "To: /teamspace/studios/this_studio/Deeplab/inhouse_india/splits/train.txt\n",
      "100%|██████████| 27.0/27.0 [00:00<00:00, 130kB/s]\n",
      "Downloading...\n",
      "From: https://drive.google.com/uc?id=1-SjVFvhh035Vu8REcZfhHJ2gsYUNQ6BK\n",
      "To: /teamspace/studios/this_studio/Deeplab/inhouse_india/splits/val.txt\n",
      "100%|██████████| 63.0/63.0 [00:00<00:00, 354kB/s]\n"
     ]
    }
   ],
   "source": [
    "download('1-5q6CqTf04qKld9lFEiyUWkBcdraDtVX',os.getcwd())"
   ]
  },
  {
   "cell_type": "code",
   "execution_count": null,
   "id": "439750d2-2488-497c-9063-c41d57e9ed7d",
   "metadata": {},
   "outputs": [],
   "source": []
  }
 ],
 "metadata": {
  "kernelspec": {
   "display_name": "Python 3",
   "language": "python",
   "name": "python3"
  },
  "language_info": {
   "codemirror_mode": {
    "name": "ipython",
    "version": 3
   },
   "file_extension": ".py",
   "mimetype": "text/x-python",
   "name": "python",
   "nbconvert_exporter": "python",
   "pygments_lexer": "ipython3",
   "version": "3.10.10"
  }
 },
 "nbformat": 4,
 "nbformat_minor": 5
}
