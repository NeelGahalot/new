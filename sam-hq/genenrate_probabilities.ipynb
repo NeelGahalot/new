{
 "cells": [
  {
   "cell_type": "code",
   "execution_count": 8,
   "id": "d5a5f4fa-77f9-4be0-a731-959d4ddd2cd3",
   "metadata": {},
   "outputs": [
    {
     "name": "stdout",
     "output_type": "stream",
     "text": [
      "3993\n"
     ]
    }
   ],
   "source": [
    "import os\n",
    "samples = os.listdir('/teamspace/studios/this_studio/Deeplab/crf_sam_annotations_large/samples')\n",
    "print(len(samples))"
   ]
  },
  {
   "cell_type": "code",
   "execution_count": 9,
   "id": "359dd233-df16-4551-a56f-408e266064b1",
   "metadata": {},
   "outputs": [
    {
     "name": "stdout",
     "output_type": "stream",
     "text": [
      "/teamspace/studios/this_studio/sam-hq\n"
     ]
    },
    {
     "name": "stderr",
     "output_type": "stream",
     "text": [
      "/home/zeus/miniconda3/envs/cloudspace/lib/python3.10/site-packages/IPython/core/magics/osm.py:417: UserWarning: using dhist requires you to install the `pickleshare` library.\n",
      "  self.shell.db['dhist'] = compress_dhist(dhist)[-100:]\n"
     ]
    }
   ],
   "source": [
    "%cd '/teamspace/studios/this_studio/sam-hq'\n",
    "!export PYTHONPATH=$(pwd)\n",
    "from segment_anything import sam_model_registry, SamPredictor\n",
    "from segment_anything.utils.transforms import ResizeLongestSide"
   ]
  },
  {
   "cell_type": "code",
   "execution_count": 10,
   "id": "87e22209-03f6-4b3b-9f8b-982d77e375a3",
   "metadata": {},
   "outputs": [
    {
     "name": "stdout",
     "output_type": "stream",
     "text": [
      "<All keys matched successfully>\n"
     ]
    }
   ],
   "source": [
    "    sam_checkpoint = \"pretrained_checkpoint/sam_hq_vit_l.pth\"\n",
    "    model_type = \"vit_l\"\n",
    "    device = \"cuda\"\n",
    "    sam = sam_model_registry[model_type](checkpoint=sam_checkpoint)\n",
    "    sam.to(device=device)\n",
    "    predictor = SamPredictor(sam)\n"
   ]
  },
  {
   "cell_type": "code",
   "execution_count": 4,
   "id": "62d7302f-ceab-449f-b0ca-d18cf99eed78",
   "metadata": {},
   "outputs": [
    {
     "ename": "NameError",
     "evalue": "name 'transformed_image' is not defined",
     "output_type": "error",
     "traceback": [
      "\u001b[0;31m---------------------------------------------------------------------------\u001b[0m",
      "\u001b[0;31mNameError\u001b[0m                                 Traceback (most recent call last)",
      "Cell \u001b[0;32mIn[4], line 14\u001b[0m\n\u001b[1;32m      7\u001b[0m input_image_torch \u001b[38;5;241m=\u001b[39m torch\u001b[38;5;241m.\u001b[39mas_tensor(image, device\u001b[38;5;241m=\u001b[39mdevice)\n\u001b[1;32m      8\u001b[0m \u001b[38;5;124;03m'''\u001b[39;00m\n\u001b[1;32m      9\u001b[0m \u001b[38;5;124;03mtransformed_image = input_image_torch.permute(2, 0, 1).contiguous()[None, :, :, :]\u001b[39;00m\n\u001b[1;32m     10\u001b[0m \u001b[38;5;124;03mbox = transform.apply_boxes(box, original_image_size)\u001b[39;00m\n\u001b[1;32m     11\u001b[0m \u001b[38;5;124;03mbox_torch = torch.as_tensor(box, dtype=torch.float, device=device)\u001b[39;00m\n\u001b[1;32m     12\u001b[0m \u001b[38;5;124;03mbox_torch = box_torch[None, :]\u001b[39;00m\n\u001b[1;32m     13\u001b[0m \u001b[38;5;124;03m'''\u001b[39;00m\n\u001b[0;32m---> 14\u001b[0m input_image \u001b[38;5;241m=\u001b[39m sam\u001b[38;5;241m.\u001b[39mpreprocess(\u001b[43mtransformed_image\u001b[49m)\n\u001b[1;32m     15\u001b[0m input_size \u001b[38;5;241m=\u001b[39m \u001b[38;5;28mtuple\u001b[39m(transformed_image\u001b[38;5;241m.\u001b[39mshape[\u001b[38;5;241m-\u001b[39m\u001b[38;5;241m2\u001b[39m:])\n\u001b[1;32m     16\u001b[0m \u001b[38;5;28mprint\u001b[39m(input_size)\n",
      "\u001b[0;31mNameError\u001b[0m: name 'transformed_image' is not defined"
     ]
    }
   ],
   "source": [
    "    import cv2\n",
    "    import torch\n",
    "    image = cv2.imread('/teamspace/studios/this_studio/Deeplab/crf_sam_annotations/samples/eastafrica_acactort_2020.05.08.14.52.18_820f49c8-795b-453e-8eb1-7d473669ab84_img_20200507_152251_66198747.jpg')\n",
    "    image = cv2.cvtColor(image, cv2.COLOR_BGR2RGB)\n",
    "    original_image_size = image.shape[:2]\n",
    "    transform = ResizeLongestSide(sam.image_encoder.img_size)\n",
    "    input_image_torch = torch.as_tensor(image, device=device)\n",
    "    '''\n",
    "    transformed_image = input_image_torch.permute(2, 0, 1).contiguous()[None, :, :, :]\n",
    "    box = transform.apply_boxes(box, original_image_size)\n",
    "    box_torch = torch.as_tensor(box, dtype=torch.float, device=device)\n",
    "    box_torch = box_torch[None, :]\n",
    "    '''\n",
    "    input_image = sam.preprocess(transformed_image)\n",
    "    input_size = tuple(transformed_image.shape[-2:])\n",
    "    print(input_size)"
   ]
  },
  {
   "cell_type": "code",
   "execution_count": 11,
   "id": "c4e91016-b6f5-49c4-9253-40e6eee1485c",
   "metadata": {},
   "outputs": [
    {
     "name": "stdout",
     "output_type": "stream",
     "text": [
      "/teamspace/studios/this_studio/Deeplab\n"
     ]
    }
   ],
   "source": [
    "%cd /teamspace/studios/this_studio/Deeplab/\n",
    "from inference.infer import *\n",
    "from post_processing.control_random_field import *"
   ]
  },
  {
   "cell_type": "code",
   "execution_count": 12,
   "id": "dd92590f-7060-47a3-988c-750b174f3f8f",
   "metadata": {},
   "outputs": [],
   "source": [
    "from torch.nn.functional import threshold, normalize\n",
    "from scipy.special import expit\n",
    "def normalize_0_1(tensor):\n",
    "    \"\"\"\n",
    "    Normalizes a tensor to the range [0, 1]\n",
    "    \"\"\"\n",
    "    min_val = torch.min(tensor)\n",
    "    max_val = torch.max(tensor)\n",
    "    normalized_tensor = (tensor - min_val) / (max_val - min_val)\n",
    "    return normalized_tensor\n",
    "    \n",
    "def get_prob(img_path, box):\n",
    "    image = cv2.imread(img_path)\n",
    "    image = cv2.cvtColor(image, cv2.COLOR_BGR2RGB)\n",
    "    original_image_size = image.shape[:2]\n",
    "    transform = ResizeLongestSide(sam.image_encoder.img_size)\n",
    "    input_image_torch = torch.as_tensor(image, device=device)\n",
    "    transformed_image = input_image_torch.permute(2, 0, 1).contiguous()[None, :, :, :]\n",
    "    box = transform.apply_boxes(box, original_image_size)\n",
    "    box_torch = torch.as_tensor(box, dtype=torch.float, device=device)\n",
    "    box_torch = box_torch[None, :]\n",
    "    input_image = sam.preprocess(transformed_image)\n",
    "    input_size = tuple(transformed_image.shape[-2:])\n",
    "    with torch.no_grad():\n",
    "        sparse_embeddings, dense_embeddings = sam.prompt_encoder(\n",
    "                points=None,\n",
    "                boxes=box_torch,\n",
    "                masks=None,\n",
    "            )\n",
    "        #image_embedding = sam.image_encoder(input_image)\n",
    "        features, interm_features = sam.image_encoder(input_image)\n",
    "        low_res_masks, iou_predictions = sam.mask_decoder(\n",
    "              image_embeddings=features,\n",
    "              image_pe=sam.prompt_encoder.get_dense_pe(),\n",
    "              sparse_prompt_embeddings=sparse_embeddings,\n",
    "              dense_prompt_embeddings=dense_embeddings,\n",
    "              multimask_output=False,\n",
    "              hq_token_only = False,\n",
    "              interm_embeddings = interm_features,\n",
    "    \n",
    "            )\n",
    "        upscaled_masks = sam.postprocess_masks(low_res_masks, input_size, original_image_size).to(device)\n",
    "\n",
    "    \n",
    "    return normalize(threshold(upscaled_masks, 0.0, 0))\n",
    "    \n",
    "def get_logits(img_path, box = None):\n",
    "    predictor.set_image(np.array(flip(Image.open(img_path))))\n",
    "    #input_box =  box\n",
    "    masks, scores, logits = predictor.predict(\n",
    "                point_coords=None,\n",
    "                point_labels=None,\n",
    "                box= box[None, :],\n",
    "                multimask_output=False,\n",
    "                return_logits = True,\n",
    "            )\n",
    "    #print(scores[0]) \n",
    "    \n",
    "    return expit(masks[0])\n",
    "\n",
    "    "
   ]
  },
  {
   "cell_type": "code",
   "execution_count": 8,
   "id": "3e5676b6-4d6a-496d-bf5b-9525a6109434",
   "metadata": {},
   "outputs": [],
   "source": [
    "import numpy as np\n",
    "use = '/teamspace/studios/this_studio/Deeplab/crf_sam_annotations/samples/eastafrica_acactort_2020.05.08.14.52.18_820f49c8-795b-453e-8eb1-7d473669ab84_img_20200507_152251_66198747.jpg'\n",
    "box = np.array([0,81,337,511])"
   ]
  },
  {
   "cell_type": "code",
   "execution_count": 9,
   "id": "46bf959d-cd96-4b89-8a45-5ca582706e56",
   "metadata": {},
   "outputs": [
    {
     "name": "stdout",
     "output_type": "stream",
     "text": [
      "[[7.18600131e-06 5.15484862e-06 2.65259973e-06 ... 2.54811755e-10\n",
      "  5.78763981e-10 8.72254768e-10]\n",
      " [7.28668647e-06 5.20542562e-06 2.65648805e-06 ... 1.25929669e-10\n",
      "  2.57550953e-10 3.68325676e-10]\n",
      " [7.49232231e-06 5.30808256e-06 2.66427719e-06 ... 3.07570844e-11\n",
      "  5.10019249e-11 6.56761520e-11]\n",
      " ...\n",
      " [9.84954476e-01 9.87936914e-01 9.92258370e-01 ... 2.43591952e-10\n",
      "  1.38273171e-10 1.04177965e-10]\n",
      " [9.62190747e-01 9.71218884e-01 9.83425558e-01 ... 3.08401638e-10\n",
      "  1.73233067e-10 1.29833699e-10]\n",
      " [9.40712094e-01 9.55871403e-01 9.75827813e-01 ... 3.47010587e-10\n",
      "  1.93899383e-10 1.44941670e-10]]\n"
     ]
    }
   ],
   "source": [
    "prob_distribution = (get_logits(use,box))\n",
    "print(prob_distribution)"
   ]
  },
  {
   "cell_type": "code",
   "execution_count": 10,
   "id": "3891da05-72a9-424b-a7f4-f6f4f7504e02",
   "metadata": {},
   "outputs": [],
   "source": [
    "#numpy_array = binary_mask.squeeze().cpu().numpy()\n",
    "#print(numpy_array.shape)\n",
    "pred = (prob_distribution > 0.5)\n",
    "from PIL import Image\n",
    "import matplotlib.pyplot as plt"
   ]
  },
  {
   "cell_type": "code",
   "execution_count": 11,
   "id": "1b14663a-f2db-4746-b7dc-e244dbfc9891",
   "metadata": {},
   "outputs": [
    {
     "data": {
      "image/png": "[encoded data removed]",
      "text/plain": [
       "<Figure size 640x480 with 1 Axes>"
      ]
     },
     "metadata": {},
     "output_type": "display_data"
    }
   ],
   "source": [
    "        pred_rgb = np.array(pred*255).astype(np.uint8)\n",
    "        pred_image = Image.fromarray(pred_rgb).convert('RGB')\n",
    "        plt.imshow(pred_image)\n",
    "        plt.show()\n"
   ]
  },
  {
   "cell_type": "code",
   "execution_count": 13,
   "id": "316acc4d-3471-4b8c-bf90-8ebe09680d37",
   "metadata": {},
   "outputs": [],
   "source": [
    "os.makedirs('/teamspace/studios/this_studio/Deeplab/crf_sam_annotations/probs/')"
   ]
  },
  {
   "cell_type": "code",
   "execution_count": 13,
   "id": "1b76af97-089c-4d9d-bacc-d6dd8eb3241b",
   "metadata": {},
   "outputs": [],
   "source": [
    "def get_box_from_deeplab(checkpoint, dataset_path, folder_name = 'probs'):\n",
    "    os.makedirs(os.path.join(dataset_path,'probs/'), exist_ok=True)\n",
    "    device = torch.device('cuda' if torch.cuda.is_available() else 'cpu')\n",
    "    model = load_deeplab_model(checkpoint, device).eval()\n",
    "    sample_dir = os.path.join(dataset_path, 'samples')\n",
    "    mask_dir = os.path.join(dataset_path, 'binary_masks')\n",
    "    \n",
    "    file_list = os.listdir(sample_dir)\n",
    "    \n",
    "    for i in tqdm(file_list, desc=\"Processing images\"):\n",
    "        try:\n",
    "            img_path = os.path.join(sample_dir, i)\n",
    "            ext = os.path.basename(img_path).split('.')[-1]\n",
    "            img_name = os.path.basename(img_path)[:-len(ext) - 1]\n",
    "            '''\n",
    "            \n",
    "            \n",
    "            mask_path = os.path.join(mask_dir, img_name + '_binarymask.' + ext)\n",
    "            \n",
    "            target = get_target(mask_path)\n",
    "            '''\n",
    "            img = Image.open(img_path)\n",
    "            \n",
    "            img_transform = transforms.Compose([\n",
    "                transforms.Resize((512, 512)),\n",
    "                transforms.ToTensor(),\n",
    "                transforms.Normalize(mean=[0.485, 0.456, 0.406], std=[0.229, 0.224, 0.225])\n",
    "            ])\n",
    "            img_tensor = img_transform(img).unsqueeze(0).to(device, dtype=torch.float32)\n",
    "        \n",
    "            with torch.no_grad():\n",
    "                output = model(img_tensor)\n",
    "                output = torch.squeeze(output, dim=1)\n",
    "                prob = torch.sigmoid(output).detach()\n",
    "                pred = (prob > 0.5).long().cpu().numpy()[0]\n",
    "            prob_np = prob[0].cpu().numpy()\n",
    "            cleaned_mask = crf_with_prob(np.array(img), (pred * 255).astype(np.uint8), prob_np)\n",
    "            cleaned_mask_img = Image.fromarray((cleaned_mask * 255).astype(np.uint8))\n",
    "            #pred_rgb = np.array(pred*255).astype(np.uint8)\n",
    "            #pred_image = Image.fromarray(pred_rgb).convert('RGB')\n",
    "            box = masks_to_boxes(pil_to_grayscale_tensor(cleaned_mask_img)).numpy()\n",
    "            #print(box)\n",
    "            numpy_array = get_logits(img_path, box)\n",
    "            np.save(os.path.join(dataset_path,folder_name,img_name) + '_prob.npy', numpy_array)\n",
    "            #with open(os.path.join(dataset_path,folder_name,img_name) + '_prob.')\n",
    "        except Exception as e:\n",
    "            # Print the exception\n",
    "            print(f\"An error occurred: {e}\")\n",
    "\n",
    "            \n",
    "            "
   ]
  },
  {
   "cell_type": "code",
   "execution_count": 14,
   "id": "b9054286-052a-44e1-9a76-63cd485a3974",
   "metadata": {},
   "outputs": [],
   "source": [
    "device = torch.device('cuda' if torch.cuda.is_available() else 'cpu')\n",
    "inhouse_default = '/teamspace/studios/this_studio/Deeplab/saved_models/best_deeplabv3plus_mobilenet_custom_os16_0.7854892764326529.pth'"
   ]
  },
  {
   "cell_type": "code",
   "execution_count": 18,
   "id": "70b43c83-94f6-42eb-b829-cebb2c7e6874",
   "metadata": {},
   "outputs": [
    {
     "name": "stdout",
     "output_type": "stream",
     "text": [
      "Device: cpu\n",
      "Resume model from /teamspace/studios/this_studio/Deeplab/saved_models/best_deeplabv3plus_mobilenet_custom_os16_0.7854892764326529.pth\n"
     ]
    }
   ],
   "source": [
    "model = load_deeplab_model(inhouse_default, device).eval()"
   ]
  },
  {
   "cell_type": "code",
   "execution_count": 15,
   "id": "b2deaa4c-e48f-40a1-9723-c89bf39e6320",
   "metadata": {},
   "outputs": [
    {
     "name": "stdout",
     "output_type": "stream",
     "text": [
      "Device: cuda\n",
      "Resume model from /teamspace/studios/this_studio/Deeplab/saved_models/best_deeplabv3plus_mobilenet_custom_os16_0.7854892764326529.pth\n"
     ]
    },
    {
     "name": "stderr",
     "output_type": "stream",
     "text": [
      "Processing images:  24%|██▍       | 961/3993 [22:11<54:39,  1.08s/it]  "
     ]
    },
    {
     "name": "stdout",
     "output_type": "stream",
     "text": [
      "An error occurred: min(): Expected reduction dim to be specified for input.numel() == 0. Specify the reduction dim with the 'dim' argument.\n"
     ]
    },
    {
     "name": "stderr",
     "output_type": "stream",
     "text": [
      "Processing images:  24%|██▍       | 973/3993 [22:27<53:27,  1.06s/it]  "
     ]
    },
    {
     "name": "stdout",
     "output_type": "stream",
     "text": [
      "An error occurred: min(): Expected reduction dim to be specified for input.numel() == 0. Specify the reduction dim with the 'dim' argument.\n"
     ]
    },
    {
     "name": "stderr",
     "output_type": "stream",
     "text": [
      "Processing images:  63%|██████▎   | 2499/3993 [58:02<27:22,  1.10s/it]  "
     ]
    },
    {
     "name": "stdout",
     "output_type": "stream",
     "text": [
      "An error occurred: min(): Expected reduction dim to be specified for input.numel() == 0. Specify the reduction dim with the 'dim' argument.\n"
     ]
    },
    {
     "name": "stderr",
     "output_type": "stream",
     "text": [
      "Processing images:  64%|██████▍   | 2564/3993 [59:33<26:39,  1.12s/it]"
     ]
    },
    {
     "name": "stdout",
     "output_type": "stream",
     "text": [
      "An error occurred: min(): Expected reduction dim to be specified for input.numel() == 0. Specify the reduction dim with the 'dim' argument.\n"
     ]
    },
    {
     "name": "stderr",
     "output_type": "stream",
     "text": [
      "Processing images:  72%|███████▏  | 2859/3993 [1:06:29<21:54,  1.16s/it]"
     ]
    },
    {
     "name": "stdout",
     "output_type": "stream",
     "text": [
      "An error occurred: min(): Expected reduction dim to be specified for input.numel() == 0. Specify the reduction dim with the 'dim' argument.\n"
     ]
    },
    {
     "name": "stderr",
     "output_type": "stream",
     "text": [
      "Processing images:  76%|███████▌  | 3015/3993 [1:10:09<18:48,  1.15s/it]"
     ]
    },
    {
     "name": "stdout",
     "output_type": "stream",
     "text": [
      "An error occurred: min(): Expected reduction dim to be specified for input.numel() == 0. Specify the reduction dim with the 'dim' argument.\n"
     ]
    },
    {
     "name": "stderr",
     "output_type": "stream",
     "text": [
      "Processing images:  92%|█████████▏| 3687/3993 [1:25:57<05:34,  1.09s/it]"
     ]
    },
    {
     "name": "stdout",
     "output_type": "stream",
     "text": [
      "An error occurred: min(): Expected reduction dim to be specified for input.numel() == 0. Specify the reduction dim with the 'dim' argument.\n"
     ]
    },
    {
     "name": "stderr",
     "output_type": "stream",
     "text": [
      "Processing images:  93%|█████████▎| 3694/3993 [1:26:06<05:25,  1.09s/it]"
     ]
    },
    {
     "name": "stdout",
     "output_type": "stream",
     "text": [
      "An error occurred: min(): Expected reduction dim to be specified for input.numel() == 0. Specify the reduction dim with the 'dim' argument.\n"
     ]
    },
    {
     "name": "stderr",
     "output_type": "stream",
     "text": [
      "Processing images: 100%|██████████| 3993/3993 [1:33:06<00:00,  1.40s/it]\n"
     ]
    }
   ],
   "source": [
    "from torchvision.ops import masks_to_boxes\n",
    "get_box_from_deeplab(inhouse_default, '/teamspace/studios/this_studio/Deeplab/crf_sam_annotations_large')"
   ]
  },
  {
   "cell_type": "code",
   "execution_count": 16,
   "id": "fd52d3ec-bdd5-4780-a676-7bcc2ec6ae31",
   "metadata": {},
   "outputs": [
    {
     "name": "stdout",
     "output_type": "stream",
     "text": [
      "249\n"
     ]
    }
   ],
   "source": [
    "print(len(os.listdir('/teamspace/studios/this_studio/Deeplab/crf_sam_annotations/probs')))"
   ]
  },
  {
   "cell_type": "code",
   "execution_count": null,
   "id": "846c93b8-e39e-4820-b33d-4990cbe146c4",
   "metadata": {},
   "outputs": [],
   "source": [
    "# Deeplab/crf_sam_annotations/probs/eastafrica_acactort_2020.07.08.22.09.02_f64fac11-f5a3-4ed4-97cd-aafaf903a391_img_20100103_072427_1187961410_prob.npy"
   ]
  },
  {
   "cell_type": "raw",
   "id": "dfa38940-51a9-4fcc-9035-85a806f4ab12",
   "metadata": {},
   "source": [
    "print(os.path.join('/teamspace/studios/this_studio/Deeplab/crf_sam_annotations/probs','probs/'))"
   ]
  },
  {
   "cell_type": "code",
   "execution_count": 16,
   "id": "35718590-34bb-43f9-99be-dab8b759bf38",
   "metadata": {},
   "outputs": [
    {
     "name": "stdout",
     "output_type": "stream",
     "text": [
      "/teamspace/studios/this_studio/Deeplab/crf_sam_annotations_large/probs/\n"
     ]
    }
   ],
   "source": [
    "print(os.path.join('/teamspace/studios/this_studio/Deeplab/crf_sam_annotations_large','probs/'))"
   ]
  },
  {
   "cell_type": "code",
   "execution_count": 17,
   "id": "b5921931-2800-44df-98b9-7f983e51431f",
   "metadata": {},
   "outputs": [],
   "source": [
    "os.makedirs('/teamspace/studios/this_studio/Deeplab/crf_sam_annotations_large/probs/')"
   ]
  },
  {
   "cell_type": "code",
   "execution_count": 16,
   "id": "053c55fe-60c5-4039-89f1-867326f085b6",
   "metadata": {},
   "outputs": [
    {
     "name": "stdout",
     "output_type": "stream",
     "text": [
      "3985\n"
     ]
    }
   ],
   "source": [
    "print(len(os.listdir('/teamspace/studios/this_studio/Deeplab/crf_sam_annotations_large/probs')))"
   ]
  },
  {
   "cell_type": "code",
   "execution_count": null,
   "id": "b6930f3c-ec2d-45b1-b5b7-918a19841f45",
   "metadata": {},
   "outputs": [],
   "source": []
  }
 ],
 "metadata": {
  "kernelspec": {
   "display_name": "Python 3",
   "language": "python",
   "name": "python3"
  },
  "language_info": {
   "codemirror_mode": {
    "name": "ipython",
    "version": 3
   },
   "file_extension": ".py",
   "mimetype": "text/x-python",
   "name": "python",
   "nbconvert_exporter": "python",
   "pygments_lexer": "ipython3",
   "version": "3.10.10"
  }
 },
 "nbformat": 4,
 "nbformat_minor": 5
}
