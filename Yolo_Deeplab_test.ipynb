{
 "cells": [
  {
   "cell_type": "code",
   "execution_count": 1,
   "id": "13d6a69c-e65f-4aeb-9830-12165d9b1cc8",
   "metadata": {},
   "outputs": [
    {
     "ename": "FileNotFoundError",
     "evalue": "[Errno 2] No such file or directory: '/mnt/data/all_files.zip'",
     "output_type": "error",
     "traceback": [
      "\u001b[0;31m---------------------------------------------------------------------------\u001b[0m",
      "\u001b[0;31mFileNotFoundError\u001b[0m                         Traceback (most recent call last)",
      "Cell \u001b[0;32mIn[1], line 19\u001b[0m\n\u001b[1;32m     16\u001b[0m zip_file_path \u001b[38;5;241m=\u001b[39m \u001b[38;5;124m'\u001b[39m\u001b[38;5;124m/mnt/data/all_files.zip\u001b[39m\u001b[38;5;124m'\u001b[39m\n\u001b[1;32m     18\u001b[0m \u001b[38;5;66;03m# Create the ZIP file\u001b[39;00m\n\u001b[0;32m---> 19\u001b[0m \u001b[43mzip_directory\u001b[49m\u001b[43m(\u001b[49m\u001b[43mdirectory_to_zip\u001b[49m\u001b[43m,\u001b[49m\u001b[43m \u001b[49m\u001b[43mzip_file_path\u001b[49m\u001b[43m)\u001b[49m\n\u001b[1;32m     21\u001b[0m \u001b[38;5;66;03m# Provide a download link for the ZIP file\u001b[39;00m\n\u001b[1;32m     22\u001b[0m \u001b[38;5;28;01mimport\u001b[39;00m \u001b[38;5;21;01mIPython\u001b[39;00m\u001b[38;5;21;01m.\u001b[39;00m\u001b[38;5;21;01mdisplay\u001b[39;00m \u001b[38;5;28;01mas\u001b[39;00m \u001b[38;5;21;01mipd\u001b[39;00m\n",
      "Cell \u001b[0;32mIn[1], line 8\u001b[0m, in \u001b[0;36mzip_directory\u001b[0;34m(directory_path, zip_path)\u001b[0m\n\u001b[1;32m      4\u001b[0m \u001b[38;5;28;01mdef\u001b[39;00m \u001b[38;5;21mzip_directory\u001b[39m(directory_path, zip_path):\n\u001b[1;32m      5\u001b[0m \u001b[38;5;250m    \u001b[39m\u001b[38;5;124;03m\"\"\"\u001b[39;00m\n\u001b[1;32m      6\u001b[0m \u001b[38;5;124;03m    Zip the entire directory at `directory_path` and save it as `zip_path`.\u001b[39;00m\n\u001b[1;32m      7\u001b[0m \u001b[38;5;124;03m    \"\"\"\u001b[39;00m\n\u001b[0;32m----> 8\u001b[0m     \u001b[38;5;28;01mwith\u001b[39;00m \u001b[43mzipfile\u001b[49m\u001b[38;5;241;43m.\u001b[39;49m\u001b[43mZipFile\u001b[49m\u001b[43m(\u001b[49m\u001b[43mzip_path\u001b[49m\u001b[43m,\u001b[49m\u001b[43m \u001b[49m\u001b[38;5;124;43m'\u001b[39;49m\u001b[38;5;124;43mw\u001b[39;49m\u001b[38;5;124;43m'\u001b[39;49m\u001b[43m,\u001b[49m\u001b[43m \u001b[49m\u001b[43mzipfile\u001b[49m\u001b[38;5;241;43m.\u001b[39;49m\u001b[43mZIP_DEFLATED\u001b[49m\u001b[43m)\u001b[49m \u001b[38;5;28;01mas\u001b[39;00m zipf:\n\u001b[1;32m      9\u001b[0m         \u001b[38;5;28;01mfor\u001b[39;00m root, dirs, files \u001b[38;5;129;01min\u001b[39;00m os\u001b[38;5;241m.\u001b[39mwalk(directory_path):\n\u001b[1;32m     10\u001b[0m             \u001b[38;5;28;01mfor\u001b[39;00m file \u001b[38;5;129;01min\u001b[39;00m files:\n",
      "File \u001b[0;32m/home/zeus/miniconda3/envs/cloudspace/lib/python3.10/zipfile.py:1249\u001b[0m, in \u001b[0;36mZipFile.__init__\u001b[0;34m(self, file, mode, compression, allowZip64, compresslevel, strict_timestamps)\u001b[0m\n\u001b[1;32m   1247\u001b[0m \u001b[38;5;28;01mwhile\u001b[39;00m \u001b[38;5;28;01mTrue\u001b[39;00m:\n\u001b[1;32m   1248\u001b[0m     \u001b[38;5;28;01mtry\u001b[39;00m:\n\u001b[0;32m-> 1249\u001b[0m         \u001b[38;5;28mself\u001b[39m\u001b[38;5;241m.\u001b[39mfp \u001b[38;5;241m=\u001b[39m \u001b[43mio\u001b[49m\u001b[38;5;241;43m.\u001b[39;49m\u001b[43mopen\u001b[49m\u001b[43m(\u001b[49m\u001b[43mfile\u001b[49m\u001b[43m,\u001b[49m\u001b[43m \u001b[49m\u001b[43mfilemode\u001b[49m\u001b[43m)\u001b[49m\n\u001b[1;32m   1250\u001b[0m     \u001b[38;5;28;01mexcept\u001b[39;00m \u001b[38;5;167;01mOSError\u001b[39;00m:\n\u001b[1;32m   1251\u001b[0m         \u001b[38;5;28;01mif\u001b[39;00m filemode \u001b[38;5;129;01min\u001b[39;00m modeDict:\n",
      "\u001b[0;31mFileNotFoundError\u001b[0m: [Errno 2] No such file or directory: '/mnt/data/all_files.zip'"
     ]
    }
   ],
   "source": [
    "import os\n",
    "import zipfile\n",
    "\n",
    "def zip_directory(directory_path, zip_path):\n",
    "    \"\"\"\n",
    "    Zip the entire directory at `directory_path` and save it as `zip_path`.\n",
    "    \"\"\"\n",
    "    with zipfile.ZipFile(zip_path, 'w', zipfile.ZIP_DEFLATED) as zipf:\n",
    "        for root, dirs, files in os.walk(directory_path):\n",
    "            for file in files:\n",
    "                file_path = os.path.join(root, file)\n",
    "                zipf.write(file_path, os.path.relpath(file_path, directory_path))\n",
    "\n",
    "# Define the directory to zip and the path to save the ZIP file\n",
    "directory_to_zip = '.'  # Current directory\n",
    "zip_file_path = '/mnt/data/all_files.zip'\n",
    "\n",
    "# Create the ZIP file\n",
    "zip_directory(directory_to_zip, zip_file_path)\n",
    "\n",
    "# Provide a download link for the ZIP file\n",
    "import IPython.display as ipd\n",
    "ipd.FileLink(zip_file_path)\n"
   ]
  },
  {
   "cell_type": "code",
   "execution_count": 5,
   "id": "b166ab2f-2450-48bd-be82-1954b0e9d1b5",
   "metadata": {},
   "outputs": [],
   "source": [
    "import os\n",
    "\n",
    "def replace_in_file(file_path, old_string, new_string):\n",
    "    with open(file_path, 'r') as file:\n",
    "        filedata = file.read()\n",
    "\n",
    "    newdata = filedata.replace(old_string, new_string)\n",
    "\n",
    "    with open(file_path, 'w') as file:\n",
    "        file.write(newdata)\n",
    "\n",
    "def replace_in_directory(directory, old_string, new_string):\n",
    "    for subdir, _, files in os.walk(directory):\n",
    "        for file in files:\n",
    "            if file.endswith('.py'):\n",
    "                file_path = os.path.join(subdir, file)\n",
    "                replace_in_file(file_path, old_string, new_string)\n",
    "\n",
    "yolo_dir = '/teamspace/studios/this_studio/yolov9'\n",
    "replace_in_directory(yolo_dir, 'from yolo_utils', 'from utils')\n",
    "replace_in_directory(yolo_dir, 'import yolo_utils', 'import utils')\n"
   ]
  },
  {
   "cell_type": "code",
   "execution_count": 6,
   "id": "2d7f6668-0b2f-4aaf-96e3-81d3bc6a121f",
   "metadata": {},
   "outputs": [],
   "source": [
    "import os\n",
    "\n",
    "def replace_in_file(file_path, old_string, new_string):\n",
    "    with open(file_path, 'r') as file:\n",
    "        filedata = file.read()\n",
    "\n",
    "    newdata = filedata.replace(old_string, new_string)\n",
    "\n",
    "    with open(file_path, 'w') as file:\n",
    "        file.write(newdata)\n",
    "\n",
    "def replace_in_directory(directory, old_string, new_string):\n",
    "    for subdir, _, files in os.walk(directory):\n",
    "        for file in files:\n",
    "            if file.endswith('.py'):\n",
    "                file_path = os.path.join(subdir, file)\n",
    "                replace_in_file(file_path, old_string, new_string)\n",
    "\n",
    "yolo_dir = '/teamspace/studios/this_studio/yolov9'\n",
    "replace_in_directory(yolo_dir, 'from utils', 'from yolo_utils')\n",
    "replace_in_directory(yolo_dir, 'import utils', 'import yolo_utils')\n"
   ]
  },
  {
   "cell_type": "code",
   "execution_count": 2,
   "id": "321ee668-081d-462d-b7cf-08fc432a6921",
   "metadata": {},
   "outputs": [
    {
     "ename": "ImportError",
     "evalue": "cannot import name 'TryExcept' from 'utils' (/teamspace/studios/this_studio/Deeplab/utils/__init__.py)",
     "output_type": "error",
     "traceback": [
      "\u001b[0;31m---------------------------------------------------------------------------\u001b[0m",
      "\u001b[0;31mImportError\u001b[0m                               Traceback (most recent call last)",
      "Cell \u001b[0;32mIn[2], line 34\u001b[0m\n\u001b[1;32m     31\u001b[0m sys\u001b[38;5;241m.\u001b[39mpath \u001b[38;5;241m=\u001b[39m original_sys_path\u001b[38;5;241m.\u001b[39mcopy()\n\u001b[1;32m     33\u001b[0m \u001b[38;5;66;03m# Import YOLO dependencies\u001b[39;00m\n\u001b[0;32m---> 34\u001b[0m \u001b[43mimport_yolo_dependencies\u001b[49m\u001b[43m(\u001b[49m\u001b[43m)\u001b[49m\n\u001b[1;32m     36\u001b[0m \u001b[38;5;66;03m# Restore original sys.path after imports to avoid conflicts\u001b[39;00m\n\u001b[1;32m     37\u001b[0m sys\u001b[38;5;241m.\u001b[39mpath \u001b[38;5;241m=\u001b[39m original_sys_path\u001b[38;5;241m.\u001b[39mcopy()\n",
      "Cell \u001b[0;32mIn[2], line 20\u001b[0m, in \u001b[0;36mimport_yolo_dependencies\u001b[0;34m()\u001b[0m\n\u001b[1;32m     18\u001b[0m yolo_root \u001b[38;5;241m=\u001b[39m \u001b[38;5;124m'\u001b[39m\u001b[38;5;124m/teamspace/studios/this_studio/yolov9\u001b[39m\u001b[38;5;124m'\u001b[39m\n\u001b[1;32m     19\u001b[0m sys\u001b[38;5;241m.\u001b[39mpath\u001b[38;5;241m.\u001b[39minsert(\u001b[38;5;241m0\u001b[39m, yolo_root)\n\u001b[0;32m---> 20\u001b[0m \u001b[38;5;28;01mfrom\u001b[39;00m \u001b[38;5;21;01mmodels\u001b[39;00m\u001b[38;5;21;01m.\u001b[39;00m\u001b[38;5;21;01mcommon\u001b[39;00m \u001b[38;5;28;01mimport\u001b[39;00m DetectMultiBackend\n\u001b[1;32m     21\u001b[0m \u001b[38;5;28;01mfrom\u001b[39;00m \u001b[38;5;21;01mutils\u001b[39;00m\u001b[38;5;21;01m.\u001b[39;00m\u001b[38;5;21;01mdataloaders\u001b[39;00m \u001b[38;5;28;01mimport\u001b[39;00m IMG_FORMATS, VID_FORMATS, LoadImages, LoadScreenshots, LoadStreams\n\u001b[1;32m     22\u001b[0m \u001b[38;5;28;01mfrom\u001b[39;00m \u001b[38;5;21;01mutils\u001b[39;00m\u001b[38;5;21;01m.\u001b[39;00m\u001b[38;5;21;01mgeneral\u001b[39;00m \u001b[38;5;28;01mimport\u001b[39;00m (LOGGER, Profile, check_file, check_img_size, check_imshow, check_requirements, colorstr, cv2,\n\u001b[1;32m     23\u001b[0m                            increment_path, non_max_suppression, print_args, scale_boxes, strip_optimizer, xyxy2xywh)\n",
      "File \u001b[0;32m~/yolov9/models/common.py:25\u001b[0m\n\u001b[1;32m     22\u001b[0m \u001b[38;5;28;01mfrom\u001b[39;00m \u001b[38;5;21;01mPIL\u001b[39;00m \u001b[38;5;28;01mimport\u001b[39;00m Image\n\u001b[1;32m     23\u001b[0m \u001b[38;5;28;01mfrom\u001b[39;00m \u001b[38;5;21;01mtorch\u001b[39;00m\u001b[38;5;21;01m.\u001b[39;00m\u001b[38;5;21;01mcuda\u001b[39;00m \u001b[38;5;28;01mimport\u001b[39;00m amp\n\u001b[0;32m---> 25\u001b[0m \u001b[38;5;28;01mfrom\u001b[39;00m \u001b[38;5;21;01mutils\u001b[39;00m \u001b[38;5;28;01mimport\u001b[39;00m TryExcept\n\u001b[1;32m     26\u001b[0m \u001b[38;5;28;01mfrom\u001b[39;00m \u001b[38;5;21;01mutils\u001b[39;00m\u001b[38;5;21;01m.\u001b[39;00m\u001b[38;5;21;01mdataloaders\u001b[39;00m \u001b[38;5;28;01mimport\u001b[39;00m exif_transpose, letterbox\n\u001b[1;32m     27\u001b[0m \u001b[38;5;28;01mfrom\u001b[39;00m \u001b[38;5;21;01mutils\u001b[39;00m\u001b[38;5;21;01m.\u001b[39;00m\u001b[38;5;21;01mgeneral\u001b[39;00m \u001b[38;5;28;01mimport\u001b[39;00m (LOGGER, ROOT, Profile, check_requirements, check_suffix, check_version, colorstr,\n\u001b[1;32m     28\u001b[0m                            increment_path, is_notebook, make_divisible, non_max_suppression, scale_boxes,\n\u001b[1;32m     29\u001b[0m                            xywh2xyxy, xyxy2xywh, yaml_load)\n",
      "\u001b[0;31mImportError\u001b[0m: cannot import name 'TryExcept' from 'utils' (/teamspace/studios/this_studio/Deeplab/utils/__init__.py)"
     ]
    }
   ],
   "source": [
    "import os\n",
    "import sys\n",
    "from pathlib import Path\n",
    "import torch\n",
    "\n",
    "# Save original sys.path\n",
    "original_sys_path = sys.path.copy()\n",
    "\n",
    "# Function to import Deeplab dependencies\n",
    "def import_deeplab_dependencies():\n",
    "    deeplab_root = '/teamspace/studios/this_studio/Deeplab'\n",
    "    sys.path.insert(0, deeplab_root)\n",
    "    import inference.infer as infer  # replace with actual Deeplab modules\n",
    "    # import other deeplab dependencies as needed\n",
    "\n",
    "# Function to import YOLO dependencies\n",
    "def import_yolo_dependencies():\n",
    "    yolo_root = '/teamspace/studios/this_studio/yolov9'\n",
    "    sys.path.insert(0, yolo_root)\n",
    "    from models.common import DetectMultiBackend\n",
    "    from utils.dataloaders import IMG_FORMATS, VID_FORMATS, LoadImages, LoadScreenshots, LoadStreams\n",
    "    from utils.general import (LOGGER, Profile, check_file, check_img_size, check_imshow, check_requirements, colorstr, cv2,\n",
    "                               increment_path, non_max_suppression, print_args, scale_boxes, strip_optimizer, xyxy2xywh)\n",
    "    from utils.plots import Annotator, colors, save_one_box\n",
    "    from utils.torch_utils import select_device, smart_inference_mode\n",
    "\n",
    "# Import Deeplab dependencies\n",
    "import_deeplab_dependencies()\n",
    "\n",
    "# Restore original sys.path before importing YOLO dependencies\n",
    "sys.path = original_sys_path.copy()\n",
    "\n",
    "# Import YOLO dependencies\n",
    "import_yolo_dependencies()\n",
    "\n",
    "# Restore original sys.path after imports to avoid conflicts\n",
    "sys.path = original_sys_path.copy()\n",
    "\n",
    "# Continue with the rest of your script\n",
    "# ...\n"
   ]
  },
  {
   "cell_type": "code",
   "execution_count": 4,
   "id": "613e98c1-1697-4b7e-bd36-2cd7816a7a68",
   "metadata": {},
   "outputs": [
    {
     "name": "stdout",
     "output_type": "stream",
     "text": [
      "/teamspace/studios/this_studio\n",
      "/teamspace/studios/this_studio/yolov9\n"
     ]
    },
    {
     "name": "stderr",
     "output_type": "stream",
     "text": [
      "/home/zeus/miniconda3/envs/cloudspace/lib/python3.10/site-packages/IPython/core/magics/osm.py:417: UserWarning: using dhist requires you to install the `pickleshare` library.\n",
      "  self.shell.db['dhist'] = compress_dhist(dhist)[-100:]\n"
     ]
    }
   ],
   "source": [
    "import os \n",
    "print(os.getcwd())\n",
    "%cd /teamspace/studios/this_studio/yolov9/\n",
    "ROOT = os.getcwd()"
   ]
  },
  {
   "cell_type": "code",
   "execution_count": 5,
   "id": "1192cad0-13fa-4b0a-83e6-e684a65f1ee1",
   "metadata": {},
   "outputs": [
    {
     "ename": "ImportError",
     "evalue": "cannot import name 'TryExcept' from 'utils' (/teamspace/studios/this_studio/Deeplab/utils/__init__.py)",
     "output_type": "error",
     "traceback": [
      "\u001b[0;31m---------------------------------------------------------------------------\u001b[0m",
      "\u001b[0;31mImportError\u001b[0m                               Traceback (most recent call last)",
      "Cell \u001b[0;32mIn[5], line 8\u001b[0m\n\u001b[1;32m      5\u001b[0m \u001b[38;5;28;01mimport\u001b[39;00m \u001b[38;5;21;01mtorch\u001b[39;00m\n\u001b[1;32m      6\u001b[0m sys\u001b[38;5;241m.\u001b[39mpath\u001b[38;5;241m.\u001b[39mappend(\u001b[38;5;28mstr\u001b[39m(ROOT)) \n\u001b[0;32m----> 8\u001b[0m \u001b[38;5;28;01mfrom\u001b[39;00m \u001b[38;5;21;01mmodels\u001b[39;00m\u001b[38;5;21;01m.\u001b[39;00m\u001b[38;5;21;01mcommon\u001b[39;00m \u001b[38;5;28;01mimport\u001b[39;00m DetectMultiBackend\n\u001b[1;32m      9\u001b[0m \u001b[38;5;28;01mfrom\u001b[39;00m \u001b[38;5;21;01mutils\u001b[39;00m\u001b[38;5;21;01m.\u001b[39;00m\u001b[38;5;21;01mdataloaders\u001b[39;00m \u001b[38;5;28;01mimport\u001b[39;00m IMG_FORMATS, VID_FORMATS, LoadImages, LoadScreenshots, LoadStreams\n\u001b[1;32m     10\u001b[0m \u001b[38;5;28;01mfrom\u001b[39;00m \u001b[38;5;21;01mutils\u001b[39;00m\u001b[38;5;21;01m.\u001b[39;00m\u001b[38;5;21;01mgeneral\u001b[39;00m \u001b[38;5;28;01mimport\u001b[39;00m (LOGGER, Profile, check_file, check_img_size, check_imshow, check_requirements, colorstr, cv2,\n\u001b[1;32m     11\u001b[0m                            increment_path, non_max_suppression, print_args, scale_boxes, strip_optimizer, xyxy2xywh)\n",
      "File \u001b[0;32m~/yolov9/models/common.py:25\u001b[0m\n\u001b[1;32m     22\u001b[0m \u001b[38;5;28;01mfrom\u001b[39;00m \u001b[38;5;21;01mPIL\u001b[39;00m \u001b[38;5;28;01mimport\u001b[39;00m Image\n\u001b[1;32m     23\u001b[0m \u001b[38;5;28;01mfrom\u001b[39;00m \u001b[38;5;21;01mtorch\u001b[39;00m\u001b[38;5;21;01m.\u001b[39;00m\u001b[38;5;21;01mcuda\u001b[39;00m \u001b[38;5;28;01mimport\u001b[39;00m amp\n\u001b[0;32m---> 25\u001b[0m \u001b[38;5;28;01mfrom\u001b[39;00m \u001b[38;5;21;01mutils\u001b[39;00m \u001b[38;5;28;01mimport\u001b[39;00m TryExcept\n\u001b[1;32m     26\u001b[0m \u001b[38;5;28;01mfrom\u001b[39;00m \u001b[38;5;21;01mutils\u001b[39;00m\u001b[38;5;21;01m.\u001b[39;00m\u001b[38;5;21;01mdataloaders\u001b[39;00m \u001b[38;5;28;01mimport\u001b[39;00m exif_transpose, letterbox\n\u001b[1;32m     27\u001b[0m \u001b[38;5;28;01mfrom\u001b[39;00m \u001b[38;5;21;01mutils\u001b[39;00m\u001b[38;5;21;01m.\u001b[39;00m\u001b[38;5;21;01mgeneral\u001b[39;00m \u001b[38;5;28;01mimport\u001b[39;00m (LOGGER, ROOT, Profile, check_requirements, check_suffix, check_version, colorstr,\n\u001b[1;32m     28\u001b[0m                            increment_path, is_notebook, make_divisible, non_max_suppression, scale_boxes,\n\u001b[1;32m     29\u001b[0m                            xywh2xyxy, xyxy2xywh, yaml_load)\n",
      "\u001b[0;31mImportError\u001b[0m: cannot import name 'TryExcept' from 'utils' (/teamspace/studios/this_studio/Deeplab/utils/__init__.py)"
     ]
    }
   ],
   "source": [
    "import os\n",
    "import platform\n",
    "import sys\n",
    "from pathlib import Path\n",
    "import torch\n",
    "sys.path.append(str(ROOT)) \n",
    "\n",
    "from models.common import DetectMultiBackend\n",
    "from utils.dataloaders import IMG_FORMATS, VID_FORMATS, LoadImages, LoadScreenshots, LoadStreams\n",
    "from utils.general import (LOGGER, Profile, check_file, check_img_size, check_imshow, check_requirements, colorstr, cv2,\n",
    "                           increment_path, non_max_suppression, print_args, scale_boxes, strip_optimizer, xyxy2xywh)\n",
    "from utils.plots import Annotator, colors, save_one_box\n",
    "from utils.torch_utils import select_device, smart_inference_mode"
   ]
  },
  {
   "cell_type": "code",
   "execution_count": 1,
   "id": "9361e675-af2f-41ec-83f6-dd2f34e53d45",
   "metadata": {
    "scrolled": true
   },
   "outputs": [],
   "source": [
    "import os\n",
    "import sys\n",
    "from pathlib import Path\n",
    "import torch\n",
    "\n",
    "from dotenv import load_dotenv\n",
    "\n",
    "env_path = '/teamspace/studios/this_studio/Deeplab/credentials.env'\n",
    "load_dotenv(dotenv_path=env_path)\n",
    "import boto3\n",
    "\n",
    "\n",
    "# Save original sys.path yolov9/yolo_utils/dataloaders.py\n",
    "original_sys_path = sys.path.copy()\n",
    "\n",
    "# Function to import Deeplab dependencies\n",
    "def import_deeplab_dependencies():\n",
    "    deeplab_root = '/teamspace/studios/this_studio/Deeplab'\n",
    "    sys.path.insert(0, deeplab_root)\n",
    "    import inference.infer as infer\n",
    "    import post_processing.control_random_field as crf\n",
    "    \n",
    "    #from post_processing.control_random_field import *# replace with actual Deeplab modules\n",
    "    # import other deeplab dependencies as needed\n",
    "\n",
    "# Function to import YOLO dependencies\n",
    "def import_yolo_dependencies():\n",
    "    yolo_root = '/teamspace/studios/this_studio/yolov9'\n",
    "    sys.path.insert(0, yolo_root)\n",
    "    global DetectMultiBackend, IMG_FORMATS, VID_FORMATS, LoadImages, LoadScreenshots, LoadStreams\n",
    "    global LOGGER, Profile, check_file, check_img_size, check_imshow, check_requirements, colorstr, cv2\n",
    "    global increment_path, non_max_suppression, print_args, scale_boxes, strip_optimizer, xyxy2xywh\n",
    "    global Annotator, colors, save_one_box\n",
    "    global select_device, smart_inference_mode\n",
    "    from models.common import DetectMultiBackend\n",
    "    from yolo_utils.dataloaders import IMG_FORMATS, VID_FORMATS, LoadImages, LoadScreenshots, LoadStreams\n",
    "    from yolo_utils.general import (LOGGER, Profile, check_file, check_img_size, check_imshow, check_requirements, colorstr, cv2,\n",
    "                               increment_path, non_max_suppression, print_args, scale_boxes, strip_optimizer, xyxy2xywh)\n",
    "    from yolo_utils.plots import Annotator, colors, save_one_box\n",
    "    from yolo_utils.torch_utils import select_device, smart_inference_mode\n",
    "\n",
    "# Import Deeplab dependencies\n",
    "import_deeplab_dependencies()\n",
    "\n",
    "# Restore original sys.path before importing YOLO dependencies\n",
    "sys.path = original_sys_path.copy()\n",
    "\n",
    "# Import YOLO dependencies\n",
    "import_yolo_dependencies()\n",
    "\n",
    "# Restore original sys.path after imports to avoid conflicts\n",
    "sys.path = original_sys_path.copy()\n",
    "\n",
    "# Continue with the rest of your script\n",
    "# ...\n"
   ]
  },
  {
   "cell_type": "code",
   "execution_count": 2,
   "id": "94f5e32f-b528-4d43-ad81-a7c23e2e9dbf",
   "metadata": {},
   "outputs": [
    {
     "ename": "NameError",
     "evalue": "name 'get_s3_bucket' is not defined",
     "output_type": "error",
     "traceback": [
      "\u001b[0;31m---------------------------------------------------------------------------\u001b[0m",
      "\u001b[0;31mNameError\u001b[0m                                 Traceback (most recent call last)",
      "Cell \u001b[0;32mIn[2], line 1\u001b[0m\n\u001b[0;32m----> 1\u001b[0m bucket \u001b[38;5;241m=\u001b[39m \u001b[43mget_s3_bucket\u001b[49m(\u001b[38;5;124m'\u001b[39m\u001b[38;5;124mtreetracker-training-images\u001b[39m\u001b[38;5;124m'\u001b[39m)\n\u001b[1;32m      2\u001b[0m \u001b[38;5;28mprint\u001b[39m(\u001b[38;5;28mtype\u001b[39m(bucket))\n",
      "\u001b[0;31mNameError\u001b[0m: name 'get_s3_bucket' is not defined"
     ]
    }
   ],
   "source": [
    "bucket = get_s3_bucket('treetracker-training-images')\n",
    "print(type(bucket))"
   ]
  },
  {
   "cell_type": "code",
   "execution_count": 3,
   "id": "7c2099bd-9fc6-46a7-9aaf-d90d4e1610d9",
   "metadata": {},
   "outputs": [],
   "source": [
    "def new_run(\n",
    "        weights='yolo.pt',  # model path or triton URL\n",
    "        source='data/images/image.jpg',  # file/URL\n",
    "        imgsz=(640, 640),  # inference size (height, width)\n",
    "        conf_thres=0.25,  # confidence threshold\n",
    "        iou_thres=0.45,  # NMS IOU threshold\n",
    "        max_det=1000,  # maximum detections per image\n",
    "        device='',  # cuda device, i.e. 0 or 0,1,2,3 or cpu\n",
    "        save_crop=False,  # save cropped prediction boxes\n",
    "        line_thickness=3,  # bounding box thickness (pixels)\n",
    "        half=False,  # use FP16 half-precision inference\n",
    "        dnn=False,  # use OpenCV DNN for ONNX inference\n",
    "):\n",
    "    source = str(source)\n",
    "    is_file = Path(source).suffix[1:] in ('jpg', 'jpeg', 'png', 'bmp', 'tiff')\n",
    "    is_url = source.lower().startswith(('http://', 'https://'))\n",
    "    \n",
    "    if is_url and is_file:\n",
    "        source = check_file(source)  # download\n",
    "\n",
    "    # Load model\n",
    "    #device = select_device(device)\n",
    "    device = torch.device('cuda' if torch.cuda.is_available() else 'cpu')\n",
    "    model = DetectMultiBackend(weights, device=device, dnn=dnn)\n",
    "    stride, names, pt = model.stride, model.names, model.pt\n",
    "    imgsz = check_img_size(imgsz, s=stride)  # check image size\n",
    "\n",
    "    # Dataloader\n",
    "    dataset = LoadImages(source, img_size=imgsz, stride=stride, auto=pt)\n",
    "    \n",
    "    # Run inference\n",
    "    model.warmup(imgsz=(1, 3, *imgsz))  # warmup\n",
    "    dt = Profile()\n",
    "    \n",
    "    for path, im, im0s, vid_cap, s in dataset:\n",
    "        with dt:\n",
    "            im = torch.from_numpy(im).to(model.device)\n",
    "            im = im.half() if model.fp16 else im.float()  # uint8 to fp16/32\n",
    "            im /= 255  # 0 - 255 to 0.0 - 1.0\n",
    "            if len(im.shape) == 3:\n",
    "                im = im[None]  # expand for batch dim\n",
    "\n",
    "        # Inference\n",
    "        pred = model(im, augment=False)\n",
    "\n",
    "        # NMS\n",
    "        pred = non_max_suppression(pred, conf_thres, iou_thres, max_det=max_det)\n",
    "\n",
    "        # Process predictions\n",
    "        for i, det in enumerate(pred):  # per image\n",
    "            p, im0 = path, im0s.copy()\n",
    "            gn = torch.tensor(im0.shape)[[1, 0, 1, 0]]  # normalization gain whwh\n",
    "            annotator = Annotator(im0, line_width=line_thickness, example=str(names))\n",
    "            \n",
    "            if len(det):\n",
    "                # Rescale boxes from img_size to im0 size\n",
    "                det[:, :4] = scale_boxes(im.shape[2:], det[:, :4], im0.shape).round()\n",
    "\n",
    "                # Write results\n",
    "                for *xyxy, conf, cls in reversed(det):\n",
    "                    xywh = (xyxy2xywh(torch.tensor(xyxy).view(1, 4)) / gn).view(-1).tolist()\n",
    "                    print(xywh)\n",
    "                return xywh"
   ]
  },
  {
   "cell_type": "code",
   "execution_count": 4,
   "id": "351626e0-9234-454f-acbf-2d5ff578c019",
   "metadata": {},
   "outputs": [
    {
     "ename": "ModuleNotFoundError",
     "evalue": "No module named 'yolo_utils.export'",
     "output_type": "error",
     "traceback": [
      "\u001b[0;31m---------------------------------------------------------------------------\u001b[0m",
      "\u001b[0;31mModuleNotFoundError\u001b[0m                       Traceback (most recent call last)",
      "Cell \u001b[0;32mIn[4], line 1\u001b[0m\n\u001b[0;32m----> 1\u001b[0m b \u001b[38;5;241m=\u001b[39m \u001b[43mnew_run\u001b[49m\u001b[43m(\u001b[49m\n\u001b[1;32m      2\u001b[0m \u001b[43m        \u001b[49m\u001b[43mweights\u001b[49m\u001b[38;5;241;43m=\u001b[39;49m\u001b[38;5;124;43m'\u001b[39;49m\u001b[38;5;124;43m/teamspace/studios/this_studio/yolov9/weights/best.pt\u001b[39;49m\u001b[38;5;124;43m'\u001b[39;49m\u001b[43m,\u001b[49m\u001b[43m  \u001b[49m\u001b[38;5;66;43;03m# model path or triton URL\u001b[39;49;00m\n\u001b[1;32m      3\u001b[0m \u001b[43m        \u001b[49m\u001b[43msource\u001b[49m\u001b[38;5;241;43m=\u001b[39;49m\u001b[38;5;124;43m'\u001b[39;49m\u001b[38;5;124;43m/teamspace/studios/this_studio/test.jpg\u001b[39;49m\u001b[38;5;124;43m'\u001b[39;49m\u001b[43m,\u001b[49m\u001b[43m  \u001b[49m\u001b[38;5;66;43;03m# file/URL\u001b[39;49;00m\n\u001b[1;32m      4\u001b[0m \u001b[43m        \u001b[49m\u001b[43mimgsz\u001b[49m\u001b[38;5;241;43m=\u001b[39;49m\u001b[43m(\u001b[49m\u001b[38;5;241;43m640\u001b[39;49m\u001b[43m,\u001b[49m\u001b[43m \u001b[49m\u001b[38;5;241;43m640\u001b[39;49m\u001b[43m)\u001b[49m\u001b[43m,\u001b[49m\u001b[43m  \u001b[49m\u001b[38;5;66;43;03m# inference size (height, width)\u001b[39;49;00m\n\u001b[1;32m      5\u001b[0m \u001b[43m        \u001b[49m\u001b[43mconf_thres\u001b[49m\u001b[38;5;241;43m=\u001b[39;49m\u001b[38;5;241;43m0.25\u001b[39;49m\u001b[43m,\u001b[49m\u001b[43m  \u001b[49m\u001b[38;5;66;43;03m# confidence threshold\u001b[39;49;00m\n\u001b[1;32m      6\u001b[0m \u001b[43m        \u001b[49m\u001b[43miou_thres\u001b[49m\u001b[38;5;241;43m=\u001b[39;49m\u001b[38;5;241;43m0.45\u001b[39;49m\u001b[43m,\u001b[49m\u001b[43m  \u001b[49m\u001b[38;5;66;43;03m# NMS IOU threshold\u001b[39;49;00m\n\u001b[1;32m      7\u001b[0m \u001b[43m        \u001b[49m\u001b[43mmax_det\u001b[49m\u001b[38;5;241;43m=\u001b[39;49m\u001b[38;5;241;43m1000\u001b[39;49m\u001b[43m,\u001b[49m\u001b[43m  \u001b[49m\u001b[38;5;66;43;03m# maximum detections per image\u001b[39;49;00m\n\u001b[1;32m      8\u001b[0m \u001b[43m        \u001b[49m\u001b[43mdevice\u001b[49m\u001b[38;5;241;43m=\u001b[39;49m\u001b[38;5;124;43m'\u001b[39;49m\u001b[38;5;124;43m'\u001b[39;49m\u001b[43m,\u001b[49m\u001b[43m  \u001b[49m\u001b[38;5;66;43;03m# cuda device, i.e. 0 or 0,1,2,3 or cpu\u001b[39;49;00m\n\u001b[1;32m      9\u001b[0m \u001b[43m        \u001b[49m\u001b[43msave_crop\u001b[49m\u001b[38;5;241;43m=\u001b[39;49m\u001b[38;5;28;43;01mFalse\u001b[39;49;00m\u001b[43m,\u001b[49m\u001b[43m  \u001b[49m\u001b[38;5;66;43;03m# save cropped prediction boxes\u001b[39;49;00m\n\u001b[1;32m     10\u001b[0m \u001b[43m        \u001b[49m\u001b[43mline_thickness\u001b[49m\u001b[38;5;241;43m=\u001b[39;49m\u001b[38;5;241;43m3\u001b[39;49m\u001b[43m,\u001b[49m\u001b[43m  \u001b[49m\u001b[38;5;66;43;03m# bounding box thickness (pixels)\u001b[39;49;00m\n\u001b[1;32m     11\u001b[0m \u001b[43m        \u001b[49m\u001b[43mhalf\u001b[49m\u001b[38;5;241;43m=\u001b[39;49m\u001b[38;5;28;43;01mFalse\u001b[39;49;00m\u001b[43m,\u001b[49m\u001b[43m  \u001b[49m\u001b[38;5;66;43;03m# use FP16 half-precision inference\u001b[39;49;00m\n\u001b[1;32m     12\u001b[0m \u001b[43m        \u001b[49m\u001b[43mdnn\u001b[49m\u001b[38;5;241;43m=\u001b[39;49m\u001b[38;5;28;43;01mFalse\u001b[39;49;00m\u001b[43m,\u001b[49m\u001b[43m  \u001b[49m\u001b[38;5;66;43;03m# use OpenCV DNN for ONNX inference\u001b[39;49;00m\n\u001b[1;32m     13\u001b[0m \u001b[43m)\u001b[49m\n",
      "Cell \u001b[0;32mIn[3], line 24\u001b[0m, in \u001b[0;36mnew_run\u001b[0;34m(weights, source, imgsz, conf_thres, iou_thres, max_det, device, save_crop, line_thickness, half, dnn)\u001b[0m\n\u001b[1;32m     21\u001b[0m \u001b[38;5;66;03m# Load model\u001b[39;00m\n\u001b[1;32m     22\u001b[0m \u001b[38;5;66;03m#device = select_device(device)\u001b[39;00m\n\u001b[1;32m     23\u001b[0m device \u001b[38;5;241m=\u001b[39m torch\u001b[38;5;241m.\u001b[39mdevice(\u001b[38;5;124m'\u001b[39m\u001b[38;5;124mcuda\u001b[39m\u001b[38;5;124m'\u001b[39m \u001b[38;5;28;01mif\u001b[39;00m torch\u001b[38;5;241m.\u001b[39mcuda\u001b[38;5;241m.\u001b[39mis_available() \u001b[38;5;28;01melse\u001b[39;00m \u001b[38;5;124m'\u001b[39m\u001b[38;5;124mcpu\u001b[39m\u001b[38;5;124m'\u001b[39m)\n\u001b[0;32m---> 24\u001b[0m model \u001b[38;5;241m=\u001b[39m \u001b[43mDetectMultiBackend\u001b[49m\u001b[43m(\u001b[49m\u001b[43mweights\u001b[49m\u001b[43m,\u001b[49m\u001b[43m \u001b[49m\u001b[43mdevice\u001b[49m\u001b[38;5;241;43m=\u001b[39;49m\u001b[43mdevice\u001b[49m\u001b[43m,\u001b[49m\u001b[43m \u001b[49m\u001b[43mdnn\u001b[49m\u001b[38;5;241;43m=\u001b[39;49m\u001b[43mdnn\u001b[49m\u001b[43m)\u001b[49m\n\u001b[1;32m     25\u001b[0m stride, names, pt \u001b[38;5;241m=\u001b[39m model\u001b[38;5;241m.\u001b[39mstride, model\u001b[38;5;241m.\u001b[39mnames, model\u001b[38;5;241m.\u001b[39mpt\n\u001b[1;32m     26\u001b[0m imgsz \u001b[38;5;241m=\u001b[39m check_img_size(imgsz, s\u001b[38;5;241m=\u001b[39mstride)  \u001b[38;5;66;03m# check image size\u001b[39;00m\n",
      "File \u001b[0;32m~/yolov9/models/common.py:675\u001b[0m, in \u001b[0;36mDetectMultiBackend.__init__\u001b[0;34m(self, weights, device, dnn, data, fp16, fuse)\u001b[0m\n\u001b[1;32m    673\u001b[0m \u001b[38;5;28msuper\u001b[39m()\u001b[38;5;241m.\u001b[39m\u001b[38;5;21m__init__\u001b[39m()\n\u001b[1;32m    674\u001b[0m w \u001b[38;5;241m=\u001b[39m \u001b[38;5;28mstr\u001b[39m(weights[\u001b[38;5;241m0\u001b[39m] \u001b[38;5;28;01mif\u001b[39;00m \u001b[38;5;28misinstance\u001b[39m(weights, \u001b[38;5;28mlist\u001b[39m) \u001b[38;5;28;01melse\u001b[39;00m weights)\n\u001b[0;32m--> 675\u001b[0m pt, jit, onnx, xml, engine, coreml, saved_model, pb, tflite, edgetpu, tfjs, paddle, triton \u001b[38;5;241m=\u001b[39m \u001b[38;5;28;43mself\u001b[39;49m\u001b[38;5;241;43m.\u001b[39;49m\u001b[43m_model_type\u001b[49m\u001b[43m(\u001b[49m\u001b[43mw\u001b[49m\u001b[43m)\u001b[49m\n\u001b[1;32m    676\u001b[0m fp16 \u001b[38;5;241m&\u001b[39m\u001b[38;5;241m=\u001b[39m pt \u001b[38;5;129;01mor\u001b[39;00m jit \u001b[38;5;129;01mor\u001b[39;00m onnx \u001b[38;5;129;01mor\u001b[39;00m engine  \u001b[38;5;66;03m# FP16\u001b[39;00m\n\u001b[1;32m    677\u001b[0m nhwc \u001b[38;5;241m=\u001b[39m coreml \u001b[38;5;129;01mor\u001b[39;00m saved_model \u001b[38;5;129;01mor\u001b[39;00m pb \u001b[38;5;129;01mor\u001b[39;00m tflite \u001b[38;5;129;01mor\u001b[39;00m edgetpu  \u001b[38;5;66;03m# BHWC formats (vs torch BCWH)\u001b[39;00m\n",
      "File \u001b[0;32m~/yolov9/models/common.py:942\u001b[0m, in \u001b[0;36mDetectMultiBackend._model_type\u001b[0;34m(p)\u001b[0m\n\u001b[1;32m    938\u001b[0m \u001b[38;5;129m@staticmethod\u001b[39m\n\u001b[1;32m    939\u001b[0m \u001b[38;5;28;01mdef\u001b[39;00m \u001b[38;5;21m_model_type\u001b[39m(p\u001b[38;5;241m=\u001b[39m\u001b[38;5;124m'\u001b[39m\u001b[38;5;124mpath/to/model.pt\u001b[39m\u001b[38;5;124m'\u001b[39m):\n\u001b[1;32m    940\u001b[0m     \u001b[38;5;66;03m# Return model type from model path, i.e. path='path/to/model.onnx' -> type=onnx\u001b[39;00m\n\u001b[1;32m    941\u001b[0m     \u001b[38;5;66;03m# types = [pt, jit, onnx, xml, engine, coreml, saved_model, pb, tflite, edgetpu, tfjs, paddle]\u001b[39;00m\n\u001b[0;32m--> 942\u001b[0m     \u001b[38;5;28;01mfrom\u001b[39;00m \u001b[38;5;21;01myolo_utils\u001b[39;00m\u001b[38;5;21;01m.\u001b[39;00m\u001b[38;5;21;01mexport\u001b[39;00m \u001b[38;5;28;01mimport\u001b[39;00m export_formats\n\u001b[1;32m    944\u001b[0m     \u001b[38;5;28;01mfrom\u001b[39;00m \u001b[38;5;21;01myolo_utils\u001b[39;00m\u001b[38;5;21;01m.\u001b[39;00m\u001b[38;5;21;01mdownloads\u001b[39;00m \u001b[38;5;28;01mimport\u001b[39;00m is_url\n\u001b[1;32m    945\u001b[0m     sf \u001b[38;5;241m=\u001b[39m \u001b[38;5;28mlist\u001b[39m(export_formats()\u001b[38;5;241m.\u001b[39mSuffix)  \u001b[38;5;66;03m# export suffixes\u001b[39;00m\n",
      "\u001b[0;31mModuleNotFoundError\u001b[0m: No module named 'yolo_utils.export'"
     ]
    }
   ],
   "source": [
    "b = new_run(\n",
    "        weights='/teamspace/studios/this_studio/yolov9/weights/best.pt',  # model path or triton URL\n",
    "        source='/teamspace/studios/this_studio/test.jpg',  # file/URL\n",
    "        imgsz=(640, 640),  # inference size (height, width)\n",
    "        conf_thres=0.25,  # confidence threshold\n",
    "        iou_thres=0.45,  # NMS IOU threshold\n",
    "        max_det=1000,  # maximum detections per image\n",
    "        device='',  # cuda device, i.e. 0 or 0,1,2,3 or cpu\n",
    "        save_crop=False,  # save cropped prediction boxes\n",
    "        line_thickness=3,  # bounding box thickness (pixels)\n",
    "        half=False,  # use FP16 half-precision inference\n",
    "        dnn=False,  # use OpenCV DNN for ONNX inference\n",
    ")"
   ]
  },
  {
   "cell_type": "code",
   "execution_count": null,
   "id": "8305d244-9e6c-4948-af95-8836bf35c8ed",
   "metadata": {},
   "outputs": [],
   "source": []
  }
 ],
 "metadata": {
  "kernelspec": {
   "display_name": "Python 3",
   "language": "python",
   "name": "python3"
  },
  "language_info": {
   "codemirror_mode": {
    "name": "ipython",
    "version": 3
   },
   "file_extension": ".py",
   "mimetype": "text/x-python",
   "name": "python",
   "nbconvert_exporter": "python",
   "pygments_lexer": "ipython3",
   "version": "3.10.10"
  }
 },
 "nbformat": 4,
 "nbformat_minor": 5
}
