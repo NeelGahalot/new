{
 "cells": [
  {
   "cell_type": "code",
   "execution_count": 1,
   "id": "0f555468-2d13-4ffe-b03b-e82f86f309d5",
   "metadata": {},
   "outputs": [
    {
     "name": "stderr",
     "output_type": "stream",
     "text": [
      "/home/zeus/miniconda3/envs/cloudspace/lib/python3.10/site-packages/IPython/core/magics/osm.py:417: UserWarning: using dhist requires you to install the `pickleshare` library.\n",
      "  self.shell.db['dhist'] = compress_dhist(dhist)[-100:]\n"
     ]
    },
    {
     "name": "stdout",
     "output_type": "stream",
     "text": [
      "/teamspace/studios/this_studio/Deeplab\n"
     ]
    }
   ],
   "source": [
    "from dotenv import load_dotenv\n",
    "\n",
    "env_path = '/teamspace/studios/this_studio/Deeplab/credentials.env'\n",
    "load_dotenv(dotenv_path=env_path)\n",
    "import boto3\n",
    "\n",
    "%cd /teamspace/studios/this_studio/Deeplab/\n",
    "from inference.infer import *\n",
    "from post_processing.control_random_field import *\n"
   ]
  },
  {
   "cell_type": "code",
   "execution_count": 2,
   "id": "044074a3-b920-4304-ad94-6238c7adaf45",
   "metadata": {},
   "outputs": [
    {
     "name": "stdout",
     "output_type": "stream",
     "text": [
      "<class 'boto3.resources.factory.s3.Bucket'>\n"
     ]
    }
   ],
   "source": [
    "bucket = get_s3_bucket('treetracker-training-images')\n",
    "print(type(bucket))\n",
    "device = torch.device('cuda' if torch.cuda.is_available() else 'cpu')\n",
    "import matplotlib.pyplot as plt\n",
    "img_link = 'https://treetracker-production-images.s3.eu-central-1.amazonaws.com/2021.03.28.12.34.59_-4.531118333333334_38.248731666666664_6973c014-d0e7-4fa8-a80f-9495bfc8af3d_IMG_20210322_094829_8180242403936928723.jpg'\n",
    "inhouse_default = '/teamspace/studios/this_studio/Deeplab/saved_models/best_deeplabv3plus_mobilenet_custom_os16_0.7854892764326529.pth'\n",
    "downstreamed_large = '/teamspace/studios/this_studio/Deeplab/saved_models/india_sam_dino_250_samples_0.8495187035894669.pth'\n",
    "downstreamed_small = '/teamspace/studios/this_studio/Deeplab/saved_models/india_sam_dino_250_samples_0.8940880817269634.pth'\n",
    "downstreamed_tuned = '/teamspace/studios/this_studio/Deeplab/saved_models/base_sam_dino_india_tuned_freetown_eastafrica_haiti_0.8213798905479425.pth'\n",
    "crf_large = '/teamspace/studios/this_studio/Deeplab/saved_models/crf_sam_large_freetown_eastafrica_haiti_0.8385291022474306.pth'\n",
    "crf_proper = '/teamspace/studios/this_studio/Deeplab/saved_models/crf_sam_large_freetown_eastafrica_haiti_0.8696894799916581.pth'\n",
    "crf_small = '/teamspace/studios/this_studio/Deeplab/saved_models/base_sam_dino_india_tuned_freetown_eastafrica_haiti_0.8754172925254217.pth'\n",
    "crf_sam97 = '/teamspace/studios/this_studio/Deeplab/saved_models/crf_sam_large_freetown_eastafrica_haiti_sam_threshold_970.9094360785270311.pth'\n",
    "crf_sam95 = '/teamspace/studios/this_studio/Deeplab/saved_models/crf_sam_large_freetown_eastafrica_haiti_sam_threshold_950.8867386284487256.pth'\n",
    "check_kl = '/teamspace/studios/this_studio/Deeplab/saved_models/kl_check.pth'\n",
    "check_kl_2 = '/teamspace/studios/this_studio/Deeplab/saved_models/kl_check_temp_2_weighted.pth'\n",
    "crf_sam95_combined_loss = '/teamspace/studios/this_studio/Deeplab/saved_models/crf_sam_large_freetown_eastafrica_haiti_sam_threshold_95_with_prob_0.8744961851984793.pth'\n",
    "crf_sam95_dice = '/teamspace/studios/this_studio/Deeplab/saved_models/crf_sam_large_freetown_eastafrica_haiti_sam_threshold_95_without_prob0.8729896976681869.pth'\n",
    "crf_sam95_dice_fit = '/teamspace/studios/this_studio/Deeplab/saved_models/crf_sam_large_freetown_eastafrica_haiti_sam_threshold_95_without_prob0.8504620350701382.pth'"
   ]
  },
  {
   "cell_type": "code",
   "execution_count": 3,
   "id": "41fcfbc0-82f7-4411-b58d-9794b506e75e",
   "metadata": {},
   "outputs": [],
   "source": [
    "def get_target(mask_path):\n",
    "    mask = Image.open(mask_path)\n",
    "    mask_array = np.array(mask)\n",
    "    mask_array = (mask_array > 128).astype(np.uint8)\n",
    "    mask_array = mask_array * 255\n",
    "    mask = Image.fromarray(mask_array.astype(np.uint8))\n",
    "    mask = mask_transform(mask)\n",
    "    mask = torch.squeeze(mask, 0)\n",
    "    mask = mask.to(device, dtype=torch.long)\n",
    "    mask = mask.float()\n",
    "    return mask.cpu().numpy()\n",
    "\n",
    "def decode_target_single_channel(mask):\n",
    "    leaf_color = [255]\n",
    "    rgb_mask = np.zeros((mask.shape[0], mask.shape[1]), dtype=np.uint8)\n",
    "    rgb_mask[mask == 1] = leaf_color\n",
    "    return Image.fromarray(rgb_mask)\n",
    "\n",
    "def polygon_vertices(mask):\n",
    "    '''\n",
    "    Find contours in the binary image and return both external and internal polygons.\n",
    "\n",
    "    mask: binary image to find contours in\n",
    "    '''\n",
    "    # Convert the image into 0 and 1 (background and foreground)\n",
    "    _, binary_image = cv2.threshold(mask, 127, 255, cv2.THRESH_BINARY)\n",
    "\n",
    "    # Find contours and hierarchy\n",
    "    contours, hierarchy = cv2.findContours(binary_image, cv2.RETR_TREE, cv2.CHAIN_APPROX_SIMPLE)\n",
    "\n",
    "    # Extract segmentations\n",
    "    external_polygons = []\n",
    "    internal_polygons = []\n",
    "    if hierarchy is not None:\n",
    "        hierarchy = hierarchy[0]  # Flatten the hierarchy array\n",
    "        for i, contour in enumerate(contours):\n",
    "            # Approximate contour to polygon\n",
    "            if len(contour) < 3:\n",
    "                continue\n",
    "\n",
    "            contour = cv2.approxPolyDP(contour, 1, True)\n",
    "            segmentation = contour.flatten().tolist()\n",
    "\n",
    "            # Determine if the contour is external or internal\n",
    "            if hierarchy[i][3] == -1:\n",
    "                # External contour\n",
    "                external_polygons.append(segmentation)\n",
    "            else:\n",
    "                # Internal contour\n",
    "                internal_polygons.append(segmentation)\n",
    "\n",
    "    return external_polygons, internal_polygons\n",
    "\n",
    "\n",
    "\n",
    "\n",
    "def calculate_polygon_area(vertices):\n",
    "    # Ensure the polygon is closed (first and last vertices are the same)\n",
    "    if vertices[0] != vertices[-2] or vertices[1] != vertices[-1]:\n",
    "        vertices.extend(vertices[:2])\n",
    "\n",
    "    # Calculate the area using the shoelace formula\n",
    "    area = 0\n",
    "    n = len(vertices) // 2\n",
    "    for i in range(n - 1):\n",
    "        area += (vertices[2*i] * vertices[2*i+3] - vertices[2*i+1] * vertices[2*i+2])\n",
    "    area += (vertices[2*n-2] * vertices[1] - vertices[2*n-1] * vertices[0])\n",
    "    return abs(area) / 2\n",
    "\n",
    "def create_pair(t):\n",
    "  pair = list(zip(t[::2],t[1::2]))\n",
    "  new_pair = []\n",
    "  for i in pair:\n",
    "    new_pair.append(list(i))\n",
    "  return new_pair\n",
    "\n",
    "def remove_small_polygons(mask, threshold):\n",
    "    if not isinstance(mask,np.ndarray):\n",
    "        print('Takes a numpy array as input with entries either 0 or 255.')\n",
    "        return\n",
    "    segmentation, inner_polygons = polygon_vertices(mask)[0], polygon_vertices(mask)[1]\n",
    "      \n",
    "    outer_polygons = [polygon for polygon in segmentation if calculate_polygon_area(polygon) > threshold]\n",
    "    \n",
    "    binary_mask = np.zeros(mask.shape, dtype=np.uint8)\n",
    "    for i in outer_polygons:\n",
    "      pair = create_pair(i)\n",
    "      polygon_points = np.array(pair, np.int32)\n",
    "      cv2.fillPoly(binary_mask, [polygon_points], 255)\n",
    "    \n",
    "    for i in inner_polygons:\n",
    "        pair = create_pair(i)\n",
    "        polygon_points = np.array(pair, np.int32)\n",
    "        cv2.fillPoly(binary_mask, [polygon_points], 0)\n",
    "\n",
    "    \n",
    "    return binary_mask/255\n",
    "\n",
    "def metrics_from_dataset(checkpoint, dataset_path):\n",
    "    metrics = BinarySegMetrics()\n",
    "    device = torch.device('cuda' if torch.cuda.is_available() else 'cpu')\n",
    "    model = load_deeplab_model(checkpoint, device).eval()\n",
    "    sample_dir = os.path.join(dataset_path, 'samples')\n",
    "    mask_dir = os.path.join(dataset_path, 'binary_masks')\n",
    "    \n",
    "    file_list = os.listdir(sample_dir)\n",
    "    \n",
    "    for i in tqdm(file_list, desc=\"Processing images\"):\n",
    "        img_path = os.path.join(sample_dir, i)\n",
    "        ext = os.path.basename(img_path).split('.')[-1]\n",
    "        img_name = os.path.basename(img_path)[:-len(ext) - 1]\n",
    "        mask_path = os.path.join(mask_dir, img_name + '_binarymask.' + ext)\n",
    "        \n",
    "        target = get_target(mask_path)\n",
    "        img = Image.open(img_path)\n",
    "        \n",
    "        img_transform = transforms.Compose([\n",
    "            transforms.Resize((512, 512)),\n",
    "            transforms.ToTensor(),\n",
    "            transforms.Normalize(mean=[0.485, 0.456, 0.406], std=[0.229, 0.224, 0.225])\n",
    "        ])\n",
    "        img_tensor = img_transform(img).unsqueeze(0).to(device, dtype=torch.float32)\n",
    "    \n",
    "        with torch.no_grad():\n",
    "            output = model(img_tensor)\n",
    "            output = torch.squeeze(output, dim=1)\n",
    "            prob = torch.sigmoid(output).detach()\n",
    "            pred = (prob > 0.5).long().cpu().numpy()[0]\n",
    "            \n",
    "        metrics.update(target, pred)\n",
    "        \n",
    "        # The following lines are commented out as they appear to be part of additional processing\n",
    "        # denorm = utils.Denormalize(mean=[0.485, 0.456, 0.406], std=[0.229, 0.224, 0.225])\n",
    "        # img_np = img_tensor[0].detach().cpu().numpy()\n",
    "        # img_np = (denorm(img_np) * 255).transpose(1, 2, 0).astype(np.uint8)\n",
    "        # cleaned_mask = apply_dense_crf(img_np, np.array(decode_target(pred)))\n",
    "        # prob_np = prob[0].cpu().numpy()\n",
    "        # count = np.sum(prob_np > 0.5)\n",
    "        # confidence = np.sum(prob_np[prob_np > 0.5]) / count if count != 0 else 0\n",
    "    # Deeplab/saved_models/base_sam_dino_india_tuned_freetown_eastafrica_haiti_0.8754172925254217.pth\n",
    "    # Deeplab/india_sam_dino_annotations Deeplab/india_sam_dino_annotations_large\n",
    "        \n",
    "    return metrics.get_results()\n",
    "\n",
    "def metrics_from_dataset_crf(checkpoint, dataset_path, with_prob = True):\n",
    "    metrics = BinarySegMetrics()\n",
    "    device = torch.device('cuda' if torch.cuda.is_available() else 'cpu')\n",
    "    model = load_deeplab_model(checkpoint, device).eval()\n",
    "    sample_dir = os.path.join(dataset_path, 'samples')\n",
    "    mask_dir = os.path.join(dataset_path, 'binary_masks')\n",
    "    \n",
    "    file_list = os.listdir(sample_dir)\n",
    "    \n",
    "    for i in tqdm(file_list, desc=\"Processing images\"):\n",
    "        img_path = os.path.join(sample_dir, i)\n",
    "        ext = os.path.basename(img_path).split('.')[-1]\n",
    "        img_name = os.path.basename(img_path)[:-len(ext) - 1]\n",
    "        mask_path = os.path.join(mask_dir, img_name + '_binarymask.' + ext)\n",
    "        \n",
    "        target = get_target(mask_path)\n",
    "        img = Image.open(img_path)\n",
    "        \n",
    "        img_transform = transforms.Compose([\n",
    "            transforms.Resize((512, 512)),\n",
    "            transforms.ToTensor(),\n",
    "            transforms.Normalize(mean=[0.485, 0.456, 0.406], std=[0.229, 0.224, 0.225])\n",
    "        ])\n",
    "        img_tensor = img_transform(img).unsqueeze(0).to(device, dtype=torch.float32)\n",
    "    \n",
    "        with torch.no_grad():\n",
    "            output = model(img_tensor)\n",
    "            output = torch.squeeze(output, dim=1)\n",
    "            prob = torch.sigmoid(output).detach()\n",
    "            \n",
    "            pred = (prob > 0.5).long().cpu().numpy()[0]\n",
    "            \n",
    "        denorm = utils.Denormalize(mean=[0.485, 0.456, 0.406], std=[0.229, 0.224, 0.225])\n",
    "        img_np = img_tensor[0].detach().cpu().numpy() \n",
    "        img_np = (denorm(img_np) * 255).transpose(1, 2, 0).astype(np.uint8)\n",
    "        \n",
    "        if with_prob:\n",
    "            prob_np = prob[0].cpu().numpy()\n",
    "            cleaned_mask = crf_with_prob(img_np,np.array(decode_target_single_channel(pred)),prob_np)\n",
    "        else:\n",
    "            cleaned_mask = apply_dense_crf(img_np,np.array(decode_target_single_channel(pred)))\n",
    "        '''    \n",
    "        cleaned_mask = remove_small_polygons((cleaned_mask * 255).astype(np.uint8),100)\n",
    "        cleaned_mask = cleaned_mask.astype(np.int64)\n",
    "        '''\n",
    "        metrics.update(target, cleaned_mask)\n",
    "        \n",
    "        # The following lines are commented out as they appear to be part of additional processing\n",
    "        # denorm = utils.Denormalize(mean=[0.485, 0.456, 0.406], std=[0.229, 0.224, 0.225])\n",
    "        # img_np = img_tensor[0].detach().cpu().numpy()\n",
    "        # img_np = (denorm(img_np) * 255).transpose(1, 2, 0).astype(np.uint8)\n",
    "        # cleaned_mask = apply_dense_crf(img_np, np.array(decode_target(pred)))\n",
    "        # prob_np = prob[0].cpu().numpy()\n",
    "        # count = np.sum(prob_np > 0.5)\n",
    "        # confidence = np.sum(prob_np[prob_np > 0.5]) / count if count != 0 else 0\n",
    "        \n",
    "    return metrics.get_results()\n",
    "\n",
    "def metrics_from_dataset_poly_remove(checkpoint, dataset_path):\n",
    "    metrics = BinarySegMetrics()\n",
    "    device = torch.device('cuda' if torch.cuda.is_available() else 'cpu')\n",
    "    model = load_deeplab_model(checkpoint, device).eval()\n",
    "    sample_dir = os.path.join(dataset_path, 'samples')\n",
    "    mask_dir = os.path.join(dataset_path, 'binary_masks')\n",
    "    \n",
    "    file_list = os.listdir(sample_dir)\n",
    "    \n",
    "    for i in tqdm(file_list, desc=\"Processing images\"):\n",
    "        img_path = os.path.join(sample_dir, i)\n",
    "        ext = os.path.basename(img_path).split('.')[-1]\n",
    "        img_name = os.path.basename(img_path)[:-len(ext) - 1]\n",
    "        mask_path = os.path.join(mask_dir, img_name + '_binarymask.' + ext)\n",
    "        \n",
    "        target = get_target(mask_path)\n",
    "        img = Image.open(img_path)\n",
    "        \n",
    "        img_transform = transforms.Compose([\n",
    "            transforms.Resize((512, 512)),\n",
    "            transforms.ToTensor(),\n",
    "            transforms.Normalize(mean=[0.485, 0.456, 0.406], std=[0.229, 0.224, 0.225])\n",
    "        ])\n",
    "        img_tensor = img_transform(img).unsqueeze(0).to(device, dtype=torch.float32)\n",
    "    \n",
    "        with torch.no_grad():\n",
    "            output = model(img_tensor)\n",
    "            output = torch.squeeze(output, dim=1)\n",
    "            prob = torch.sigmoid(output).detach()\n",
    "            pred = (prob > 0.5).long().cpu().numpy()[0]\n",
    "            \n",
    "        denorm = utils.Denormalize(mean=[0.485, 0.456, 0.406], std=[0.229, 0.224, 0.225])\n",
    "        img_np = img_tensor[0].detach().cpu().numpy() \n",
    "        img_np = (denorm(img_np) * 255).transpose(1, 2, 0).astype(np.uint8)\n",
    "        #threshold_value = 127 \n",
    "        #image_array_gray = np.array(pred*255)\n",
    "        #binary_image_array = np.where(image_array_gray > threshold_value, 255, 0).astype(np.uint8)\n",
    "        \n",
    "        cleaned_mask = remove_small_polygons((pred * 255).astype(np.uint8),100)\n",
    "        \n",
    "        #print(type(cleaned_mask))\n",
    "        #print(type(target))\n",
    "        cleaned_mask = cleaned_mask.astype(np.int64)\n",
    "        metrics.update(target, cleaned_mask)\n",
    "        \n",
    "        # The following lines are commented out as they appear to be part of additional processing\n",
    "        # denorm = utils.Denormalize(mean=[0.485, 0.456, 0.406], std=[0.229, 0.224, 0.225])\n",
    "        # img_np = img_tensor[0].detach().cpu().numpy()\n",
    "        # img_np = (denorm(img_np) * 255).transpose(1, 2, 0).astype(np.uint8)\n",
    "        # cleaned_mask = apply_dense_crf(img_np, np.array(decode_target(pred)))\n",
    "        # prob_np = prob[0].cpu().numpy()\n",
    "        # count = np.sum(prob_np > 0.5)\n",
    "        # confidence = np.sum(prob_np[prob_np > 0.5]) / count if count != 0 else 0\n",
    "        \n",
    "    return metrics.get_results()\n"
   ]
  },
  {
   "cell_type": "code",
   "execution_count": 4,
   "id": "34f5ff89-8ac3-402e-8669-7ac7ed178ff7",
   "metadata": {},
   "outputs": [
    {
     "name": "stdout",
     "output_type": "stream",
     "text": [
      "Device: cuda\n",
      "Resume model from /teamspace/studios/this_studio/Deeplab/saved_models/crf_sam_large_freetown_eastafrica_haiti_sam_threshold_95_without_prob0.8729896976681869.pth\n"
     ]
    },
    {
     "name": "stderr",
     "output_type": "stream",
     "text": [
      "Processing images: 100%|██████████| 9/9 [00:00<00:00, 14.15it/s]\n"
     ]
    },
    {
     "data": {
      "text/plain": [
       "{'Foreground Acc': 0.9580378303715622,\n",
       " 'Precision': 0.698475250120145,\n",
       " 'Recall': 0.9580378303715622,\n",
       " 'F1 Score': 0.8079208321068104,\n",
       " 'IoU Foreground': 0.6777409201225134,\n",
       " 'IoU Background': 0.9254555421103107,\n",
       " 'Mean IoU': 0.801598231116412}"
      ]
     },
     "execution_count": 4,
     "metadata": {},
     "output_type": "execute_result"
    }
   ],
   "source": [
    "metrics_from_dataset(crf_sam95_dice,'/teamspace/studios/this_studio/Deeplab/inhouse_india')"
   ]
  },
  {
   "cell_type": "code",
   "execution_count": 11,
   "id": "9b2a524d-128a-4668-aa56-11ba7e837503",
   "metadata": {},
   "outputs": [
    {
     "name": "stdout",
     "output_type": "stream",
     "text": [
      "Device: cuda\n",
      "Resume model from /teamspace/studios/this_studio/Deeplab/saved_models/crf_sam_large_freetown_eastafrica_haiti_sam_threshold_950.8867386284487256.pth\n"
     ]
    },
    {
     "name": "stderr",
     "output_type": "stream",
     "text": [
      "Processing images: 100%|██████████| 9/9 [00:00<00:00, 29.63it/s]\n"
     ]
    },
    {
     "data": {
      "text/plain": [
       "{'Foreground Acc': 0.9293219836226191,\n",
       " 'Precision': 0.7946402951424473,\n",
       " 'Recall': 0.9293219836226191,\n",
       " 'F1 Score': 0.8567202478203164,\n",
       " 'IoU Foreground': 0.7493531186806762,\n",
       " 'IoU Background': 0.9493712459714649,\n",
       " 'Mean IoU': 0.8493621823260706}"
      ]
     },
     "execution_count": 11,
     "metadata": {},
     "output_type": "execute_result"
    }
   ],
   "source": [
    "metrics_from_dataset(crf_sam95,'/teamspace/studios/this_studio/Deeplab/inhouse_india')"
   ]
  },
  {
   "cell_type": "code",
   "execution_count": 5,
   "id": "6d2a55b3-4220-461a-a110-75a0798758f0",
   "metadata": {},
   "outputs": [
    {
     "name": "stdout",
     "output_type": "stream",
     "text": [
      "Device: cuda\n",
      "Resume model from /teamspace/studios/this_studio/Deeplab/saved_models/crf_sam_large_freetown_eastafrica_haiti_sam_threshold_95_without_prob0.8729896976681869.pth\n"
     ]
    },
    {
     "name": "stderr",
     "output_type": "stream",
     "text": [
      "Processing images: 100%|██████████| 250/250 [00:04<00:00, 51.26it/s]\n"
     ]
    },
    {
     "data": {
      "text/plain": [
       "{'Foreground Acc': 0.9026589771863649,\n",
       " 'Precision': 0.9010724277115912,\n",
       " 'Recall': 0.9026589771863649,\n",
       " 'F1 Score': 0.9018650046900909,\n",
       " 'IoU Foreground': 0.8212697059486497,\n",
       " 'IoU Background': 0.945922799729736,\n",
       " 'Mean IoU': 0.8835962528391929}"
      ]
     },
     "execution_count": 5,
     "metadata": {},
     "output_type": "execute_result"
    }
   ],
   "source": [
    "metrics_from_dataset(crf_sam95_dice,'/teamspace/studios/this_studio/Deeplab/india_sam_dino_annotations')"
   ]
  },
  {
   "cell_type": "code",
   "execution_count": 6,
   "id": "ed240f33-7db8-41a7-a26c-2f27d2e0c51f",
   "metadata": {},
   "outputs": [
    {
     "name": "stdout",
     "output_type": "stream",
     "text": [
      "Device: cuda\n",
      "Resume model from /teamspace/studios/this_studio/Deeplab/saved_models/crf_sam_large_freetown_eastafrica_haiti_sam_threshold_95_without_prob0.8729896976681869.pth\n"
     ]
    },
    {
     "name": "stderr",
     "output_type": "stream",
     "text": [
      "Processing images: 100%|██████████| 4071/4071 [01:37<00:00, 41.56it/s]\n"
     ]
    },
    {
     "data": {
      "text/plain": [
       "{'Foreground Acc': 0.8806641354884861,\n",
       " 'Precision': 0.8774461484391766,\n",
       " 'Recall': 0.8806641354884861,\n",
       " 'F1 Score': 0.8790521969151777,\n",
       " 'IoU Foreground': 0.7842043978283791,\n",
       " 'IoU Background': 0.9470409705576935,\n",
       " 'Mean IoU': 0.8656226841930363}"
      ]
     },
     "execution_count": 6,
     "metadata": {},
     "output_type": "execute_result"
    }
   ],
   "source": [
    "metrics_from_dataset(crf_sam95_dice,'/teamspace/studios/this_studio/Deeplab/india_sam_dino_annotations_large')"
   ]
  },
  {
   "cell_type": "code",
   "execution_count": 10,
   "id": "9ce7f191-40fc-4eb0-a5d5-a9f55b4e8681",
   "metadata": {},
   "outputs": [
    {
     "name": "stdout",
     "output_type": "stream",
     "text": [
      "Device: cuda\n",
      "Resume model from /teamspace/studios/this_studio/Deeplab/saved_models/kl_check_temp_2.pth\n"
     ]
    },
    {
     "name": "stderr",
     "output_type": "stream",
     "text": [
      "Processing images: 100%|██████████| 250/250 [00:08<00:00, 29.61it/s]\n"
     ]
    },
    {
     "data": {
      "text/plain": [
       "{'Foreground Acc': 0.9591152605056845,\n",
       " 'Precision': 0.9341784923971478,\n",
       " 'Recall': 0.9591152605056845,\n",
       " 'F1 Score': 0.9464826540736827,\n",
       " 'IoU Foreground': 0.8984025348357952,\n",
       " 'IoU Background': 0.9750410299888329,\n",
       " 'Mean IoU': 0.9367217824123141}"
      ]
     },
     "execution_count": 10,
     "metadata": {},
     "output_type": "execute_result"
    }
   ],
   "source": [
    "# check_kl_2\n",
    "#india_sam_dino_annotations_large\n",
    "\n",
    "metrics_from_dataset(check_kl_2,'/teamspace/studios/this_studio/Deeplab/crf_sam_annotations')"
   ]
  },
  {
   "cell_type": "code",
   "execution_count": 5,
   "id": "cec9c157-bab3-4992-b29f-8765863e6623",
   "metadata": {},
   "outputs": [
    {
     "name": "stdout",
     "output_type": "stream",
     "text": [
      "Device: cuda\n",
      "Resume model from /teamspace/studios/this_studio/Deeplab/saved_models/kl_check.pth\n"
     ]
    },
    {
     "name": "stderr",
     "output_type": "stream",
     "text": [
      "Processing images: 100%|██████████| 250/250 [00:23<00:00, 10.75it/s]\n"
     ]
    },
    {
     "data": {
      "text/plain": [
       "{'Foreground Acc': 0.9671239895597793,\n",
       " 'Precision': 0.8964184870336949,\n",
       " 'Recall': 0.9671239895597793,\n",
       " 'F1 Score': 0.9304299036745703,\n",
       " 'IoU Foreground': 0.8699101693952707,\n",
       " 'IoU Background': 0.9666576534564355,\n",
       " 'Mean IoU': 0.9182839114258531}"
      ]
     },
     "execution_count": 5,
     "metadata": {},
     "output_type": "execute_result"
    }
   ],
   "source": [
    "#india_sam_dino_annotations_large\n",
    "\n",
    "metrics_from_dataset(check_kl,'/teamspace/studios/this_studio/Deeplab/crf_sam_annotations')"
   ]
  },
  {
   "cell_type": "code",
   "execution_count": 6,
   "id": "ef3b0028-1778-4ceb-abc3-6aff911e11e5",
   "metadata": {},
   "outputs": [
    {
     "name": "stdout",
     "output_type": "stream",
     "text": [
      "Device: cuda\n",
      "Resume model from /teamspace/studios/this_studio/Deeplab/saved_models/kl_check.pth\n"
     ]
    },
    {
     "name": "stderr",
     "output_type": "stream",
     "text": [
      "Processing images: 100%|██████████| 250/250 [02:10<00:00,  1.92it/s]\n"
     ]
    },
    {
     "data": {
      "text/plain": [
       "{'Foreground Acc': 0.8473926829339183,\n",
       " 'Precision': 0.9145589006121304,\n",
       " 'Recall': 0.8473926829339183,\n",
       " 'F1 Score': 0.8796955917836133,\n",
       " 'IoU Foreground': 0.7852290728590083,\n",
       " 'IoU Background': 0.9371530171018962,\n",
       " 'Mean IoU': 0.8611910449804523}"
      ]
     },
     "execution_count": 6,
     "metadata": {},
     "output_type": "execute_result"
    }
   ],
   "source": [
    "#india_sam_dino_annotations_large\n",
    "\n",
    "metrics_from_dataset_crf(check_kl,'/teamspace/studios/this_studio/Deeplab/india_sam_dino_annotations')"
   ]
  },
  {
   "cell_type": "code",
   "execution_count": null,
   "id": "e52844d5-2d79-46f0-9c3a-c41f6e21c30b",
   "metadata": {},
   "outputs": [
    {
     "name": "stdout",
     "output_type": "stream",
     "text": [
      "Device: cuda\n",
      "Resume model from /teamspace/studios/this_studio/Deeplab/saved_models/kl_check_temp_2.pth\n"
     ]
    },
    {
     "name": "stderr",
     "output_type": "stream",
     "text": [
      "Processing images: 100%|█████████▉| 249/250 [01:49<00:00,  2.62it/s]"
     ]
    }
   ],
   "source": [
    "#india_sam_dino_annotations_large\n",
    "\n",
    "metrics_from_dataset_crf(check_kl_2,'/teamspace/studios/this_studio/Deeplab/india_sam_dino_annotations')"
   ]
  },
  {
   "cell_type": "code",
   "execution_count": null,
   "id": "efd59c26-4e4e-4bc3-8a8a-224287ab44b2",
   "metadata": {},
   "outputs": [],
   "source": [
    "#india_sam_dino_annotations_large\n",
    "\n",
    "metrics_from_dataset_crf(crf_small,'/teamspace/studios/this_studio/Deeplab/india_sam_dino_annotations')"
   ]
  },
  {
   "cell_type": "code",
   "execution_count": 4,
   "id": "1da36772-1eaa-432c-bab6-3c7674cd5dc3",
   "metadata": {},
   "outputs": [
    {
     "name": "stdout",
     "output_type": "stream",
     "text": [
      "Device: cpu\n",
      "Resume model from /teamspace/studios/this_studio/Deeplab/saved_models/best_deeplabv3plus_mobilenet_custom_os16_0.7854892764326529.pth\n"
     ]
    },
    {
     "name": "stderr",
     "output_type": "stream",
     "text": [
      "Processing images: 100%|██████████| 244/244 [01:11<00:00,  3.42it/s]\n"
     ]
    },
    {
     "data": {
      "text/plain": [
       "{'Foreground Acc': 0.9302469170876019,\n",
       " 'Precision': 0.9198224517006076,\n",
       " 'Recall': 0.9302469170876019,\n",
       " 'F1 Score': 0.9250053153659921,\n",
       " 'IoU Foreground': 0.860474315443633,\n",
       " 'IoU Background': 0.9723015798083208,\n",
       " 'Mean IoU': 0.9163879476259769}"
      ]
     },
     "execution_count": 4,
     "metadata": {},
     "output_type": "execute_result"
    }
   ],
   "source": [
    "#india_sam_dino_annotations_large\n",
    "\n",
    "metrics_from_dataset(inhouse_default,'/teamspace/studios/this_studio/Deeplab/pilot_annotations_eastafrica_haiti_freetown')"
   ]
  },
  {
   "cell_type": "code",
   "execution_count": 10,
   "id": "6aa49fd2-3eb2-4a23-9e26-e085974e97da",
   "metadata": {},
   "outputs": [
    {
     "name": "stdout",
     "output_type": "stream",
     "text": [
      "Device: cpu\n",
      "Resume model from /teamspace/studios/this_studio/Deeplab/saved_models/crf_sam_large_freetown_eastafrica_haiti_sam_threshold_950.8867386284487256.pth\n"
     ]
    },
    {
     "name": "stderr",
     "output_type": "stream",
     "text": [
      "Processing images: 100%|██████████| 9/9 [00:02<00:00,  3.60it/s]\n"
     ]
    },
    {
     "data": {
      "text/plain": [
       "{'Foreground Acc': 0.9293219836226191,\n",
       " 'Precision': 0.7946402951424473,\n",
       " 'Recall': 0.9293219836226191,\n",
       " 'F1 Score': 0.8567202478203164,\n",
       " 'IoU Foreground': 0.7493531186806762,\n",
       " 'IoU Background': 0.9493712459714649,\n",
       " 'Mean IoU': 0.8493621823260706}"
      ]
     },
     "execution_count": 10,
     "metadata": {},
     "output_type": "execute_result"
    }
   ],
   "source": [
    "#india_sam_dino_annotations_large\n",
    "\n",
    "metrics_from_dataset(crf_sam95,'/teamspace/studios/this_studio/Deeplab/inhouse_india')"
   ]
  },
  {
   "cell_type": "code",
   "execution_count": 6,
   "id": "6c419ffd-3ff7-4d08-9e28-7f17c9005bbe",
   "metadata": {},
   "outputs": [
    {
     "name": "stdout",
     "output_type": "stream",
     "text": [
      "Device: cpu\n",
      "Resume model from /teamspace/studios/this_studio/Deeplab/saved_models/crf_sam_large_freetown_eastafrica_haiti_sam_threshold_950.8867386284487256.pth\n"
     ]
    },
    {
     "name": "stderr",
     "output_type": "stream",
     "text": [
      "Processing images: 100%|██████████| 244/244 [02:55<00:00,  1.39it/s]\n"
     ]
    },
    {
     "data": {
      "text/plain": [
       "{'Foreground Acc': 0.9246824282989672,\n",
       " 'Precision': 0.8602101558934871,\n",
       " 'Recall': 0.9246824282989672,\n",
       " 'F1 Score': 0.8912818875976206,\n",
       " 'IoU Foreground': 0.8038850250821499,\n",
       " 'IoU Background': 0.9586184839946985,\n",
       " 'Mean IoU': 0.8812517545384242}"
      ]
     },
     "execution_count": 6,
     "metadata": {},
     "output_type": "execute_result"
    }
   ],
   "source": [
    "#india_sam_dino_annotations_large\n",
    "\n",
    "metrics_from_dataset_crf(crf_sam95,'/teamspace/studios/this_studio/Deeplab/pilot_annotations_eastafrica_haiti_freetown')"
   ]
  },
  {
   "cell_type": "code",
   "execution_count": 7,
   "id": "ed3f109a-5f0d-4931-9463-cc351166b5c4",
   "metadata": {},
   "outputs": [
    {
     "name": "stdout",
     "output_type": "stream",
     "text": [
      "Device: cpu\n",
      "Resume model from /teamspace/studios/this_studio/Deeplab/saved_models/crf_sam_large_freetown_eastafrica_haiti_sam_threshold_970.9094360785270311.pth\n"
     ]
    },
    {
     "name": "stderr",
     "output_type": "stream",
     "text": [
      "Processing images: 100%|██████████| 244/244 [02:51<00:00,  1.43it/s]\n"
     ]
    },
    {
     "data": {
      "text/plain": [
       "{'Foreground Acc': 0.9191484424226131,\n",
       " 'Precision': 0.862738390714087,\n",
       " 'Recall': 0.9191484424226131,\n",
       " 'F1 Score': 0.890050516448493,\n",
       " 'IoU Foreground': 0.8018838060995328,\n",
       " 'IoU Background': 0.9583849417186635,\n",
       " 'Mean IoU': 0.8801343739090981}"
      ]
     },
     "execution_count": 7,
     "metadata": {},
     "output_type": "execute_result"
    }
   ],
   "source": [
    "#india_sam_dino_annotations_large\n",
    "\n",
    "metrics_from_dataset_crf(crf_sam97,'/teamspace/studios/this_studio/Deeplab/pilot_annotations_eastafrica_haiti_freetown')"
   ]
  },
  {
   "cell_type": "code",
   "execution_count": 5,
   "id": "824471b0-dc6f-4fe4-8d47-c0cf13e243f8",
   "metadata": {},
   "outputs": [
    {
     "name": "stdout",
     "output_type": "stream",
     "text": [
      "Device: cpu\n",
      "Resume model from /teamspace/studios/this_studio/Deeplab/saved_models/crf_sam_large_freetown_eastafrica_haiti_sam_threshold_950.8867386284487256.pth\n"
     ]
    },
    {
     "name": "stderr",
     "output_type": "stream",
     "text": [
      "Processing images: 100%|██████████| 250/250 [03:05<00:00,  1.35it/s]\n"
     ]
    },
    {
     "data": {
      "text/plain": [
       "{'Foreground Acc': 0.8625361222924111,\n",
       " 'Precision': 0.9365772367840469,\n",
       " 'Recall': 0.8625361222924111,\n",
       " 'F1 Score': 0.8980331272263341,\n",
       " 'IoU Foreground': 0.8149365914838914,\n",
       " 'IoU Background': 0.9466687669515649,\n",
       " 'Mean IoU': 0.8808026792177281}"
      ]
     },
     "execution_count": 5,
     "metadata": {},
     "output_type": "execute_result"
    }
   ],
   "source": [
    "#india_sam_dino_annotations_large\n",
    "\n",
    "metrics_from_dataset_crf(crf_sam95,'/teamspace/studios/this_studio/Deeplab/india_sam_dino_annotations')"
   ]
  },
  {
   "cell_type": "code",
   "execution_count": 6,
   "id": "4de83337-a688-43fc-ab8a-3dea68f54b82",
   "metadata": {},
   "outputs": [
    {
     "name": "stdout",
     "output_type": "stream",
     "text": [
      "Device: cuda\n",
      "Resume model from /teamspace/studios/this_studio/Deeplab/saved_models/crf_sam_large_freetown_eastafrica_haiti_sam_threshold_950.8867386284487256.pth\n"
     ]
    },
    {
     "name": "stderr",
     "output_type": "stream",
     "text": [
      "Processing images: 100%|██████████| 4071/4071 [02:14<00:00, 30.22it/s]\n"
     ]
    },
    {
     "data": {
      "text/plain": [
       "{'Foreground Acc': 0.8752205669366061,\n",
       " 'Precision': 0.8957124782256072,\n",
       " 'Recall': 0.8752205669366061,\n",
       " 'F1 Score': 0.885347964053605,\n",
       " 'IoU Foreground': 0.7942819243154218,\n",
       " 'IoU Background': 0.9505216337747832,\n",
       " 'Mean IoU': 0.8724017790451024}"
      ]
     },
     "execution_count": 6,
     "metadata": {},
     "output_type": "execute_result"
    }
   ],
   "source": [
    "#india_sam_dino_annotations_large\n",
    "\n",
    "metrics_from_dataset(crf_sam95,'/teamspace/studios/this_studio/Deeplab/india_sam_dino_annotations_large')"
   ]
  },
  {
   "cell_type": "code",
   "execution_count": 12,
   "id": "5824f891-14cd-470a-88c4-229551a662ec",
   "metadata": {},
   "outputs": [
    {
     "name": "stdout",
     "output_type": "stream",
     "text": [
      "Device: cuda\n",
      "Resume model from /teamspace/studios/this_studio/Deeplab/saved_models/crf_sam_large_freetown_eastafrica_haiti_sam_threshold_970.9094360785270311.pth\n"
     ]
    },
    {
     "name": "stderr",
     "output_type": "stream",
     "text": [
      "Processing images: 100%|██████████| 4071/4071 [02:06<00:00, 32.28it/s]\n"
     ]
    },
    {
     "data": {
      "text/plain": [
       "{'Foreground Acc': 0.8641435446844463,\n",
       " 'Precision': 0.8998177671089699,\n",
       " 'Recall': 0.8641435446844463,\n",
       " 'F1 Score': 0.8816199194856866,\n",
       " 'IoU Foreground': 0.7883008065381966,\n",
       " 'IoU Background': 0.9494682419094648,\n",
       " 'Mean IoU': 0.8688845242238307}"
      ]
     },
     "execution_count": 12,
     "metadata": {},
     "output_type": "execute_result"
    }
   ],
   "source": [
    "#india_sam_dino_annotations_large\n",
    "\n",
    "metrics_from_dataset(crf_sam97,'/teamspace/studios/this_studio/Deeplab/india_sam_dino_annotations_large')"
   ]
  },
  {
   "cell_type": "code",
   "execution_count": 13,
   "id": "9eea87f1-699b-4321-8aec-82bd972a9069",
   "metadata": {},
   "outputs": [
    {
     "name": "stdout",
     "output_type": "stream",
     "text": [
      "Device: cuda\n",
      "Resume model from /teamspace/studios/this_studio/Deeplab/saved_models/crf_sam_large_freetown_eastafrica_haiti_sam_threshold_970.9094360785270311.pth\n"
     ]
    },
    {
     "name": "stderr",
     "output_type": "stream",
     "text": [
      "Processing images: 100%|██████████| 250/250 [00:08<00:00, 28.55it/s]\n"
     ]
    },
    {
     "data": {
      "text/plain": [
       "{'Foreground Acc': 0.8886354517281331,\n",
       " 'Precision': 0.9231844538351912,\n",
       " 'Recall': 0.8886354517281331,\n",
       " 'F1 Score': 0.9055805509622739,\n",
       " 'IoU Foreground': 0.8274529036910938,\n",
       " 'IoU Background': 0.9491848983691515,\n",
       " 'Mean IoU': 0.8883189010301227}"
      ]
     },
     "execution_count": 13,
     "metadata": {},
     "output_type": "execute_result"
    }
   ],
   "source": [
    "#india_sam_dino_annotations_large\n",
    "\n",
    "metrics_from_dataset(crf_sam97,'/teamspace/studios/this_studio/Deeplab/india_sam_dino_annotations')"
   ]
  },
  {
   "cell_type": "code",
   "execution_count": 14,
   "id": "96ab52c2-09e2-47d6-a2f3-ce067abc1e0c",
   "metadata": {},
   "outputs": [
    {
     "name": "stdout",
     "output_type": "stream",
     "text": [
      "Device: cuda\n",
      "Resume model from /teamspace/studios/this_studio/Deeplab/saved_models/crf_sam_large_freetown_eastafrica_haiti_sam_threshold_970.9094360785270311.pth\n"
     ]
    },
    {
     "name": "stderr",
     "output_type": "stream",
     "text": [
      "Processing images: 100%|██████████| 244/244 [00:08<00:00, 30.16it/s]\n"
     ]
    },
    {
     "data": {
      "text/plain": [
       "{'Foreground Acc': 0.9330814949098515,\n",
       " 'Precision': 0.8381518298509112,\n",
       " 'Recall': 0.9330814949098515,\n",
       " 'F1 Score': 0.8830727735594605,\n",
       " 'IoU Foreground': 0.790626956398642,\n",
       " 'IoU Background': 0.9546021434648322,\n",
       " 'Mean IoU': 0.872614549931737}"
      ]
     },
     "execution_count": 14,
     "metadata": {},
     "output_type": "execute_result"
    }
   ],
   "source": [
    "#india_sam_dino_annotations_large\n",
    "\n",
    "metrics_from_dataset(crf_sam97,'/teamspace/studios/this_studio/Deeplab/pilot_annotations_eastafrica_haiti_freetown')"
   ]
  },
  {
   "cell_type": "code",
   "execution_count": 9,
   "id": "e9f5db10-8398-4830-a2b3-c0aab8b12fda",
   "metadata": {},
   "outputs": [
    {
     "name": "stdout",
     "output_type": "stream",
     "text": [
      "Device: cuda\n",
      "Resume model from /teamspace/studios/this_studio/Deeplab/saved_models/crf_sam_large_freetown_eastafrica_haiti_sam_threshold_950.8867386284487256.pth\n"
     ]
    },
    {
     "name": "stderr",
     "output_type": "stream",
     "text": [
      "Processing images: 100%|██████████| 250/250 [00:11<00:00, 21.69it/s]\n"
     ]
    },
    {
     "data": {
      "text/plain": [
       "{'Foreground Acc': 0.8976546928219353,\n",
       " 'Precision': 0.9087204773517745,\n",
       " 'Recall': 0.8976546928219353,\n",
       " 'F1 Score': 0.9031536908025217,\n",
       " 'IoU Foreground': 0.8234095180238384,\n",
       " 'IoU Background': 0.9470774242498207,\n",
       " 'Mean IoU': 0.8852434711368296}"
      ]
     },
     "execution_count": 9,
     "metadata": {},
     "output_type": "execute_result"
    }
   ],
   "source": [
    "#india_sam_dino_annotations_large\n",
    "\n",
    "metrics_from_dataset(crf_sam95,'/teamspace/studios/this_studio/Deeplab/india_sam_dino_annotations')"
   ]
  },
  {
   "cell_type": "code",
   "execution_count": 10,
   "id": "e3197698-d122-4799-9427-35afaaa6be51",
   "metadata": {},
   "outputs": [
    {
     "name": "stdout",
     "output_type": "stream",
     "text": [
      "Device: cuda\n",
      "Resume model from /teamspace/studios/this_studio/Deeplab/saved_models/crf_sam_large_freetown_eastafrica_haiti_0.8696894799916581.pth\n"
     ]
    },
    {
     "name": "stderr",
     "output_type": "stream",
     "text": [
      "Processing images: 100%|██████████| 250/250 [00:11<00:00, 22.20it/s]\n"
     ]
    },
    {
     "data": {
      "text/plain": [
       "{'Foreground Acc': 0.8817153485158494,\n",
       " 'Precision': 0.9143330718283333,\n",
       " 'Recall': 0.8817153485158494,\n",
       " 'F1 Score': 0.8977280277690897,\n",
       " 'IoU Foreground': 0.8144342325534777,\n",
       " 'IoU Background': 0.945014057291501,\n",
       " 'Mean IoU': 0.8797241449224893}"
      ]
     },
     "execution_count": 10,
     "metadata": {},
     "output_type": "execute_result"
    }
   ],
   "source": [
    "#india_sam_dino_annotations_large\n",
    "\n",
    "metrics_from_dataset(crf_proper,'/teamspace/studios/this_studio/Deeplab/india_sam_dino_annotations')"
   ]
  },
  {
   "cell_type": "code",
   "execution_count": 7,
   "id": "f4e98330-75db-46d7-ba47-65ee6adbc0e1",
   "metadata": {},
   "outputs": [
    {
     "name": "stdout",
     "output_type": "stream",
     "text": [
      "Device: cuda\n",
      "Resume model from /teamspace/studios/this_studio/Deeplab/saved_models/crf_sam_large_freetown_eastafrica_haiti_sam_threshold_950.8867386284487256.pth\n"
     ]
    },
    {
     "name": "stderr",
     "output_type": "stream",
     "text": [
      "Processing images: 100%|██████████| 244/244 [00:10<00:00, 22.61it/s]\n"
     ]
    },
    {
     "data": {
      "text/plain": [
       "{'Foreground Acc': 0.9433194086541946,\n",
       " 'Precision': 0.8247468709716301,\n",
       " 'Recall': 0.9433194086541946,\n",
       " 'F1 Score': 0.8800572009992784,\n",
       " 'IoU Foreground': 0.7858054909451777,\n",
       " 'IoU Background': 0.9526700196625988,\n",
       " 'Mean IoU': 0.8692377553038882}"
      ]
     },
     "execution_count": 7,
     "metadata": {},
     "output_type": "execute_result"
    }
   ],
   "source": [
    "#india_sam_dino_annotations_large\n",
    "\n",
    "metrics_from_dataset(crf_sam95,'/teamspace/studios/this_studio/Deeplab/pilot_annotations_eastafrica_haiti_freetown')"
   ]
  },
  {
   "cell_type": "code",
   "execution_count": 33,
   "id": "f39f1862-278f-4e28-b701-d52fb1f142d6",
   "metadata": {},
   "outputs": [
    {
     "name": "stdout",
     "output_type": "stream",
     "text": [
      "Device: cpu\n",
      "Resume model from /teamspace/studios/this_studio/Deeplab/saved_models/crf_sam_large_freetown_eastafrica_haiti_0.8696894799916581.pth\n"
     ]
    },
    {
     "name": "stderr",
     "output_type": "stream",
     "text": [
      "Processing images: 100%|██████████| 4071/4071 [50:57<00:00,  1.33it/s]  \n"
     ]
    },
    {
     "data": {
      "text/plain": [
       "{'Foreground Acc': 0.8214854066255953,\n",
       " 'Precision': 0.9276452000142961,\n",
       " 'Recall': 0.8214854066255953,\n",
       " 'F1 Score': 0.8713437309314832,\n",
       " 'IoU Foreground': 0.7720186870096469,\n",
       " 'IoU Background': 0.9476631980324502,\n",
       " 'Mean IoU': 0.8598409425210486}"
      ]
     },
     "execution_count": 33,
     "metadata": {},
     "output_type": "execute_result"
    }
   ],
   "source": [
    "#india_sam_dino_annotations_large\n",
    "\n",
    "metrics_from_dataset_crf(crf_proper,'/teamspace/studios/this_studio/Deeplab/india_sam_dino_annotations_large')"
   ]
  },
  {
   "cell_type": "code",
   "execution_count": 8,
   "id": "b0064f84-e4b4-438a-9995-40597dc3c680",
   "metadata": {},
   "outputs": [
    {
     "name": "stdout",
     "output_type": "stream",
     "text": [
      "Device: cuda\n",
      "Resume model from /teamspace/studios/this_studio/Deeplab/saved_models/crf_sam_large_freetown_eastafrica_haiti_0.8696894799916581.pth\n"
     ]
    },
    {
     "name": "stderr",
     "output_type": "stream",
     "text": [
      "Processing images: 100%|██████████| 244/244 [00:10<00:00, 22.85it/s]\n"
     ]
    },
    {
     "data": {
      "text/plain": [
       "{'Foreground Acc': 0.9353319319936574,\n",
       " 'Precision': 0.8436093005257606,\n",
       " 'Recall': 0.9353319319936574,\n",
       " 'F1 Score': 0.8871059959536517,\n",
       " 'IoU Foreground': 0.7971163405753302,\n",
       " 'IoU Background': 0.9562440273502152,\n",
       " 'Mean IoU': 0.8766801839627727}"
      ]
     },
     "execution_count": 8,
     "metadata": {},
     "output_type": "execute_result"
    }
   ],
   "source": [
    "# crf_proper\n",
    "metrics_from_dataset(crf_proper,'/teamspace/studios/this_studio/Deeplab/pilot_annotations_eastafrica_haiti_freetown')"
   ]
  },
  {
   "cell_type": "code",
   "execution_count": 6,
   "id": "7452c16a-cb4d-4f1f-8d58-9711307a701f",
   "metadata": {},
   "outputs": [
    {
     "name": "stdout",
     "output_type": "stream",
     "text": [
      "Device: cuda\n",
      "Resume model from /teamspace/studios/this_studio/Deeplab/saved_models/base_sam_dino_india_tuned_freetown_eastafrica_haiti_0.8754172925254217.pth\n"
     ]
    },
    {
     "name": "stderr",
     "output_type": "stream",
     "text": [
      "Processing images: 100%|██████████| 244/244 [00:07<00:00, 33.21it/s]\n"
     ]
    },
    {
     "data": {
      "text/plain": [
       "{'Foreground Acc': 0.913678452852416,\n",
       " 'Precision': 0.8268516931492811,\n",
       " 'Recall': 0.913678452852416,\n",
       " 'F1 Score': 0.8680993862364268,\n",
       " 'IoU Foreground': 0.7669395843421213,\n",
       " 'IoU Background': 0.9491697852830989,\n",
       " 'Mean IoU': 0.85805468481261}"
      ]
     },
     "execution_count": 6,
     "metadata": {},
     "output_type": "execute_result"
    }
   ],
   "source": [
    "metrics_from_dataset(crf_small,'/teamspace/studios/this_studio/Deeplab/pilot_annotations_eastafrica_haiti_freetown')"
   ]
  },
  {
   "cell_type": "code",
   "execution_count": 4,
   "id": "a5b9ede0-3908-44c1-864c-0a45ad81035c",
   "metadata": {},
   "outputs": [
    {
     "name": "stdout",
     "output_type": "stream",
     "text": [
      "Device: cuda\n",
      "Resume model from /teamspace/studios/this_studio/Deeplab/saved_models/crf_sam_large_freetown_eastafrica_haiti_0.8696894799916581.pth\n"
     ]
    },
    {
     "name": "stderr",
     "output_type": "stream",
     "text": [
      "Processing images: 100%|██████████| 244/244 [00:07<00:00, 31.87it/s]\n"
     ]
    },
    {
     "data": {
      "text/plain": [
       "{'Foreground Acc': 0.9353319319936574,\n",
       " 'Precision': 0.8436093005257606,\n",
       " 'Recall': 0.9353319319936574,\n",
       " 'F1 Score': 0.8871059959536517,\n",
       " 'IoU Foreground': 0.7971163405753302,\n",
       " 'IoU Background': 0.9562440273502152,\n",
       " 'Mean IoU': 0.8766801839627727}"
      ]
     },
     "execution_count": 4,
     "metadata": {},
     "output_type": "execute_result"
    }
   ],
   "source": [
    "# crf_proper\n",
    "metrics_from_dataset(crf_proper,'/teamspace/studios/this_studio/Deeplab/pilot_annotations_eastafrica_haiti_freetown')"
   ]
  },
  {
   "cell_type": "code",
   "execution_count": 31,
   "id": "ee6473ad-69c4-4f1c-a147-9b3b5d279d1d",
   "metadata": {},
   "outputs": [
    {
     "name": "stdout",
     "output_type": "stream",
     "text": [
      "Device: cpu\n",
      "Resume model from /teamspace/studios/this_studio/Deeplab/saved_models/crf_sam_large_freetown_eastafrica_haiti_0.8696894799916581.pth\n"
     ]
    },
    {
     "name": "stderr",
     "output_type": "stream",
     "text": [
      "Processing images: 100%|██████████| 9/9 [00:02<00:00,  3.35it/s]\n"
     ]
    },
    {
     "data": {
      "text/plain": [
       "{'Foreground Acc': 0.9172262121988417,\n",
       " 'Precision': 0.7557217234169138,\n",
       " 'Recall': 0.9172262121988417,\n",
       " 'F1 Score': 0.8286782380838946,\n",
       " 'IoU Foreground': 0.7074727585768595,\n",
       " 'IoU Background': 0.9383499361231346,\n",
       " 'Mean IoU': 0.822911347349997}"
      ]
     },
     "execution_count": 31,
     "metadata": {},
     "output_type": "execute_result"
    }
   ],
   "source": [
    "# crf_proper\n",
    "metrics_from_dataset(crf_proper,'/teamspace/studios/this_studio/Deeplab/inhouse_india')"
   ]
  },
  {
   "cell_type": "code",
   "execution_count": 32,
   "id": "9a3cce94-0753-4907-8c7c-db6996c42cee",
   "metadata": {},
   "outputs": [
    {
     "name": "stdout",
     "output_type": "stream",
     "text": [
      "Device: cpu\n",
      "Resume model from /teamspace/studios/this_studio/Deeplab/saved_models/best_deeplabv3plus_mobilenet_custom_os16_0.7854892764326529.pth\n"
     ]
    },
    {
     "name": "stderr",
     "output_type": "stream",
     "text": [
      "Processing images: 100%|██████████| 9/9 [00:03<00:00,  2.81it/s]\n"
     ]
    },
    {
     "data": {
      "text/plain": [
       "{'Foreground Acc': 0.8671202955479052,\n",
       " 'Precision': 0.8537394095296533,\n",
       " 'Recall': 0.8671202955479052,\n",
       " 'F1 Score': 0.8603778296719223,\n",
       " 'IoU Foreground': 0.7549676130153157,\n",
       " 'IoU Background': 0.9546213039134409,\n",
       " 'Mean IoU': 0.8547944584643783}"
      ]
     },
     "execution_count": 32,
     "metadata": {},
     "output_type": "execute_result"
    }
   ],
   "source": [
    "# crf_proper\n",
    "metrics_from_dataset(inhouse_default,'/teamspace/studios/this_studio/Deeplab/inhouse_india')"
   ]
  },
  {
   "cell_type": "code",
   "execution_count": 30,
   "id": "0d9bf43f-4d19-47c0-b6e9-aa69d04e0fc1",
   "metadata": {},
   "outputs": [
    {
     "name": "stdout",
     "output_type": "stream",
     "text": [
      "Device: cpu\n",
      "Resume model from /teamspace/studios/this_studio/Deeplab/saved_models/crf_sam_large_freetown_eastafrica_haiti_0.8696894799916581.pth\n"
     ]
    },
    {
     "name": "stderr",
     "output_type": "stream",
     "text": [
      "Processing images: 100%|██████████| 10/10 [00:08<00:00,  1.24it/s]\n"
     ]
    },
    {
     "data": {
      "text/plain": [
       "{'Foreground Acc': 0.9710045978154664,\n",
       " 'Precision': 0.9603842733461212,\n",
       " 'Recall': 0.9710045978154664,\n",
       " 'F1 Score': 0.9656652360515021,\n",
       " 'IoU Foreground': 0.9336099585062241,\n",
       " 'IoU Background': 0.9729452622876146,\n",
       " 'Mean IoU': 0.9532776103969194}"
      ]
     },
     "execution_count": 30,
     "metadata": {},
     "output_type": "execute_result"
    }
   ],
   "source": [
    "# crf_proper\n",
    "metrics_from_dataset_crf(crf_proper,'/teamspace/studios/this_studio/Deeplab/inhouse_test')"
   ]
  },
  {
   "cell_type": "code",
   "execution_count": 29,
   "id": "50be00ef-6d48-44f5-adaf-10cd6101e042",
   "metadata": {},
   "outputs": [
    {
     "name": "stdout",
     "output_type": "stream",
     "text": [
      "Device: cpu\n",
      "Resume model from /teamspace/studios/this_studio/Deeplab/saved_models/best_deeplabv3plus_mobilenet_custom_os16_0.7854892764326529.pth\n"
     ]
    },
    {
     "name": "stderr",
     "output_type": "stream",
     "text": [
      "Processing images: 100%|██████████| 10/10 [00:02<00:00,  3.73it/s]\n"
     ]
    },
    {
     "data": {
      "text/plain": [
       "{'Foreground Acc': 0.9359948067936386,\n",
       " 'Precision': 0.9660963341314475,\n",
       " 'Recall': 0.9359948067936386,\n",
       " 'F1 Score': 0.9508073847288068,\n",
       " 'IoU Foreground': 0.9062276753473374,\n",
       " 'IoU Background': 0.962564947579602,\n",
       " 'Mean IoU': 0.9343963114634697}"
      ]
     },
     "execution_count": 29,
     "metadata": {},
     "output_type": "execute_result"
    }
   ],
   "source": [
    "# crf_proper\n",
    "metrics_from_dataset(inhouse_default,'/teamspace/studios/this_studio/Deeplab/inhouse_test')"
   ]
  },
  {
   "cell_type": "code",
   "execution_count": 20,
   "id": "6ec9406c-205a-478b-9f5b-c7dd0a34c772",
   "metadata": {},
   "outputs": [
    {
     "name": "stdout",
     "output_type": "stream",
     "text": [
      "Device: cpu\n",
      "Resume model from /teamspace/studios/this_studio/Deeplab/saved_models/crf_sam_large_freetown_eastafrica_haiti_0.8696894799916581.pth\n"
     ]
    },
    {
     "name": "stderr",
     "output_type": "stream",
     "text": [
      "Processing images: 100%|██████████| 244/244 [01:13<00:00,  3.31it/s]\n"
     ]
    },
    {
     "data": {
      "text/plain": [
       "{'Foreground Acc': 0.9337854542775799,\n",
       " 'Precision': 0.8463102257658198,\n",
       " 'Recall': 0.9337854542775799,\n",
       " 'F1 Score': 0.8878985410573325,\n",
       " 'IoU Foreground': 0.7983970652295551,\n",
       " 'IoU Background': 0.9566740775257182,\n",
       " 'Mean IoU': 0.8775355713776367}"
      ]
     },
     "execution_count": 20,
     "metadata": {},
     "output_type": "execute_result"
    }
   ],
   "source": [
    "# crf_proper\n",
    "metrics_from_dataset_poly_remove(crf_proper,'/teamspace/studios/this_studio/Deeplab/pilot_annotations_eastafrica_haiti_freetown')"
   ]
  },
  {
   "cell_type": "code",
   "execution_count": 6,
   "id": "2e47849c-f7da-4edc-8cf2-6449516435df",
   "metadata": {},
   "outputs": [
    {
     "name": "stdout",
     "output_type": "stream",
     "text": [
      "Device: cpu\n",
      "Resume model from /teamspace/studios/this_studio/Deeplab/saved_models/crf_sam_large_freetown_eastafrica_haiti_0.8696894799916581.pth\n"
     ]
    },
    {
     "name": "stderr",
     "output_type": "stream",
     "text": [
      "Processing images: 100%|██████████| 244/244 [03:02<00:00,  1.34it/s]\n"
     ]
    },
    {
     "data": {
      "text/plain": [
       "{'Foreground Acc': 0.919296770309781,\n",
       " 'Precision': 0.87008069133759,\n",
       " 'Recall': 0.919296770309781,\n",
       " 'F1 Score': 0.8940118969858526,\n",
       " 'IoU Foreground': 0.8083377158844689,\n",
       " 'IoU Background': 0.9600545171811911,\n",
       " 'Mean IoU': 0.88419611653283}"
      ]
     },
     "execution_count": 6,
     "metadata": {},
     "output_type": "execute_result"
    }
   ],
   "source": [
    "# crf_proper\n",
    "metrics_from_dataset_crf(crf_proper,'/teamspace/studios/this_studio/Deeplab/pilot_annotations_eastafrica_haiti_freetown')"
   ]
  },
  {
   "cell_type": "code",
   "execution_count": 22,
   "id": "e62a48c3-9a7d-46f7-a1e9-a0226eb56d67",
   "metadata": {},
   "outputs": [
    {
     "name": "stdout",
     "output_type": "stream",
     "text": [
      "Device: cpu\n",
      "Resume model from /teamspace/studios/this_studio/Deeplab/saved_models/crf_sam_large_freetown_eastafrica_haiti_0.8696894799916581.pth\n"
     ]
    },
    {
     "name": "stderr",
     "output_type": "stream",
     "text": [
      "Processing images: 100%|██████████| 244/244 [02:55<00:00,  1.39it/s]\n"
     ]
    },
    {
     "data": {
      "text/plain": [
       "{'Foreground Acc': 0.9154983602690995,\n",
       " 'Precision': 0.8746326501595297,\n",
       " 'Recall': 0.9154983602690995,\n",
       " 'F1 Score': 0.8945990571574319,\n",
       " 'IoU Foreground': 0.8092982577497597,\n",
       " 'IoU Background': 0.9604934101313581,\n",
       " 'Mean IoU': 0.8848958339405589}"
      ]
     },
     "execution_count": 22,
     "metadata": {},
     "output_type": "execute_result"
    }
   ],
   "source": [
    "# crf_proper\n",
    "metrics_from_dataset_crf(crf_proper,'/teamspace/studios/this_studio/Deeplab/pilot_annotations_eastafrica_haiti_freetown')"
   ]
  },
  {
   "cell_type": "code",
   "execution_count": 4,
   "id": "b8a723d7-38a5-421e-bafc-68e6fdc41172",
   "metadata": {},
   "outputs": [
    {
     "name": "stdout",
     "output_type": "stream",
     "text": [
      "Device: cpu\n",
      "Resume model from /teamspace/studios/this_studio/Deeplab/saved_models/crf_sam_large_freetown_eastafrica_haiti_0.8696894799916581.pth\n"
     ]
    },
    {
     "name": "stderr",
     "output_type": "stream",
     "text": [
      "Processing images: 100%|██████████| 250/250 [01:15<00:00,  3.31it/s]\n"
     ]
    },
    {
     "data": {
      "text/plain": [
       "{'Foreground Acc': 0.8817154177189576,\n",
       " 'Precision': 0.9143331435915056,\n",
       " 'Recall': 0.8817154177189576,\n",
       " 'F1 Score': 0.8977280982289835,\n",
       " 'IoU Foreground': 0.8144343485365152,\n",
       " 'IoU Background': 0.9450140941323633,\n",
       " 'Mean IoU': 0.8797242213344392}"
      ]
     },
     "execution_count": 4,
     "metadata": {},
     "output_type": "execute_result"
    }
   ],
   "source": [
    "# crf_proper\n",
    "metrics_from_dataset(crf_proper,'/teamspace/studios/this_studio/Deeplab/india_sam_dino_annotations')"
   ]
  },
  {
   "cell_type": "code",
   "execution_count": 5,
   "id": "9d1874be-6b89-4ff7-bc13-120bbee45a47",
   "metadata": {},
   "outputs": [
    {
     "name": "stdout",
     "output_type": "stream",
     "text": [
      "Device: cpu\n",
      "Resume model from /teamspace/studios/this_studio/Deeplab/saved_models/crf_sam_large_freetown_eastafrica_haiti_0.8696894799916581.pth\n"
     ]
    },
    {
     "name": "stderr",
     "output_type": "stream",
     "text": [
      "Processing images: 100%|██████████| 250/250 [03:07<00:00,  1.34it/s]\n"
     ]
    },
    {
     "data": {
      "text/plain": [
       "{'Foreground Acc': 0.851119131905138,\n",
       " 'Precision': 0.9361168016994763,\n",
       " 'Recall': 0.851119131905138,\n",
       " 'F1 Score': 0.8915968000009278,\n",
       " 'IoU Foreground': 0.8043975333179066,\n",
       " 'IoU Background': 0.9438236383195845,\n",
       " 'Mean IoU': 0.8741105858187456}"
      ]
     },
     "execution_count": 5,
     "metadata": {},
     "output_type": "execute_result"
    }
   ],
   "source": [
    "# crf_proper\n",
    "metrics_from_dataset_crf(crf_proper,'/teamspace/studios/this_studio/Deeplab/india_sam_dino_annotations')"
   ]
  },
  {
   "cell_type": "code",
   "execution_count": 7,
   "id": "40cb9d66-91ca-4c0d-adf7-3be9a658742f",
   "metadata": {},
   "outputs": [
    {
     "name": "stdout",
     "output_type": "stream",
     "text": [
      "Device: cuda\n",
      "Resume model from /teamspace/studios/this_studio/Deeplab/saved_models/crf_sam_large_freetown_eastafrica_haiti_0.8385291022474306.pth\n"
     ]
    },
    {
     "name": "stderr",
     "output_type": "stream",
     "text": [
      "Processing images: 100%|██████████| 244/244 [00:07<00:00, 31.03it/s]\n"
     ]
    },
    {
     "data": {
      "text/plain": [
       "{'Foreground Acc': 0.9471578911482642,\n",
       " 'Precision': 0.780042646625894,\n",
       " 'Recall': 0.9471578911482642,\n",
       " 'F1 Score': 0.855515653250101,\n",
       " 'IoU Foreground': 0.7475118866235176,\n",
       " 'IoU Background': 0.9410699980040913,\n",
       " 'Mean IoU': 0.8442909423138045}"
      ]
     },
     "execution_count": 7,
     "metadata": {},
     "output_type": "execute_result"
    }
   ],
   "source": [
    "metrics_from_dataset(crf_large,'/teamspace/studios/this_studio/Deeplab/pilot_annotations_eastafrica_haiti_freetown')"
   ]
  },
  {
   "cell_type": "code",
   "execution_count": 6,
   "id": "0887fbab-304c-474e-b045-b70931897759",
   "metadata": {},
   "outputs": [
    {
     "name": "stdout",
     "output_type": "stream",
     "text": [
      "Device: cpu\n",
      "Resume model from /teamspace/studios/this_studio/Deeplab/saved_models/best_deeplabv3plus_mobilenet_custom_os16_0.7854892764326529.pth\n"
     ]
    },
    {
     "name": "stderr",
     "output_type": "stream",
     "text": [
      "Processing images: 100%|██████████| 250/250 [01:07<00:00,  3.73it/s]\n"
     ]
    },
    {
     "data": {
      "text/plain": [
       "{'Foreground Acc': 0.8420827179865543,\n",
       " 'Precision': 0.9576826669045405,\n",
       " 'Recall': 0.8420827179865543,\n",
       " 'F1 Score': 0.8961701673847741,\n",
       " 'IoU Foreground': 0.811873479865589,\n",
       " 'IoU Background': 0.9562760729604315,\n",
       " 'Mean IoU': 0.8840747764130102}"
      ]
     },
     "execution_count": 6,
     "metadata": {},
     "output_type": "execute_result"
    }
   ],
   "source": [
    "metrics_from_dataset(inhouse_default,'/teamspace/studios/this_studio/Deeplab/crf_sam_annotations')"
   ]
  },
  {
   "cell_type": "code",
   "execution_count": 7,
   "id": "76d0e2fa-cf9d-434c-b2b3-a40f7d6db5b2",
   "metadata": {},
   "outputs": [
    {
     "name": "stdout",
     "output_type": "stream",
     "text": [
      "Device: cpu\n",
      "Resume model from /teamspace/studios/this_studio/Deeplab/saved_models/base_sam_dino_india_tuned_freetown_eastafrica_haiti_0.8754172925254217.pth\n"
     ]
    },
    {
     "name": "stderr",
     "output_type": "stream",
     "text": [
      "Processing images: 100%|██████████| 250/250 [01:06<00:00,  3.77it/s]\n"
     ]
    },
    {
     "data": {
      "text/plain": [
       "{'Foreground Acc': 0.9614520470659847,\n",
       " 'Precision': 0.9339192895685574,\n",
       " 'Recall': 0.9614520470659847,\n",
       " 'F1 Score': 0.9474856935891636,\n",
       " 'IoU Foreground': 0.9002117005137639,\n",
       " 'IoU Background': 0.9754619443907816,\n",
       " 'Mean IoU': 0.9378368224522727}"
      ]
     },
     "execution_count": 7,
     "metadata": {},
     "output_type": "execute_result"
    }
   ],
   "source": [
    "metrics_from_dataset(crf,'/teamspace/studios/this_studio/Deeplab/crf_sam_annotations')"
   ]
  },
  {
   "cell_type": "code",
   "execution_count": 4,
   "id": "5304f880-34a8-48b9-bdce-05945d0238e8",
   "metadata": {},
   "outputs": [
    {
     "name": "stdout",
     "output_type": "stream",
     "text": [
      "Device: cpu\n",
      "Resume model from /teamspace/studios/this_studio/Deeplab/saved_models/base_sam_dino_india_tuned_freetown_eastafrica_haiti_0.8754172925254217.pth\n"
     ]
    },
    {
     "name": "stderr",
     "output_type": "stream",
     "text": [
      "Processing images: 100%|██████████| 250/250 [01:06<00:00,  3.74it/s]\n"
     ]
    },
    {
     "data": {
      "text/plain": [
       "{'Foreground Acc': 0.8296436081448737,\n",
       " 'Precision': 0.9330430401909089,\n",
       " 'Recall': 0.8296436081448737,\n",
       " 'F1 Score': 0.8783106119846065,\n",
       " 'IoU Foreground': 0.7830248029167884,\n",
       " 'IoU Background': 0.9379614562174732,\n",
       " 'Mean IoU': 0.8604931295671308}"
      ]
     },
     "execution_count": 4,
     "metadata": {},
     "output_type": "execute_result"
    }
   ],
   "source": [
    "metrics_from_dataset(crf_small,'/teamspace/studios/this_studio/Deeplab/india_sam_dino_annotations')"
   ]
  },
  {
   "cell_type": "code",
   "execution_count": 6,
   "id": "e2817aa3-1a91-4c57-a8c1-be2d7b00cd37",
   "metadata": {},
   "outputs": [
    {
     "name": "stdout",
     "output_type": "stream",
     "text": [
      "Device: cuda\n",
      "Resume model from /teamspace/studios/this_studio/Deeplab/saved_models/base_sam_dino_india_tuned_freetown_eastafrica_haiti_0.8754172925254217.pth\n"
     ]
    },
    {
     "name": "stderr",
     "output_type": "stream",
     "text": [
      "Processing images: 100%|██████████| 250/250 [01:47<00:00,  2.34it/s]\n"
     ]
    },
    {
     "data": {
      "text/plain": [
       "{'Foreground Acc': 0.8067870671570491,\n",
       " 'Precision': 0.9465185416001765,\n",
       " 'Recall': 0.8067870671570491,\n",
       " 'F1 Score': 0.8710847833637567,\n",
       " 'IoU Foreground': 0.771612226079539,\n",
       " 'IoU Background': 0.9359531729525978,\n",
       " 'Mean IoU': 0.8537826995160684}"
      ]
     },
     "execution_count": 6,
     "metadata": {},
     "output_type": "execute_result"
    }
   ],
   "source": [
    "metrics_from_dataset_crf(crf_small,'/teamspace/studios/this_studio/Deeplab/india_sam_dino_annotations')"
   ]
  },
  {
   "cell_type": "code",
   "execution_count": 5,
   "id": "e5100c2f-4041-477c-bc31-b1fb281168d8",
   "metadata": {},
   "outputs": [
    {
     "name": "stdout",
     "output_type": "stream",
     "text": [
      "Device: cpu\n",
      "Resume model from /teamspace/studios/this_studio/Deeplab/saved_models/crf_sam_large_freetown_eastafrica_haiti_0.8385291022474306.pth\n"
     ]
    },
    {
     "name": "stderr",
     "output_type": "stream",
     "text": [
      "Processing images: 100%|██████████| 250/250 [01:09<00:00,  3.61it/s]\n"
     ]
    },
    {
     "data": {
      "text/plain": [
       "{'Foreground Acc': 0.8875778898283749,\n",
       " 'Precision': 0.875033489966655,\n",
       " 'Recall': 0.8875778898283749,\n",
       " 'F1 Score': 0.8812610510254146,\n",
       " 'IoU Foreground': 0.7877271563961918,\n",
       " 'IoU Background': 0.9344301852468851,\n",
       " 'Mean IoU': 0.8610786708215385}"
      ]
     },
     "execution_count": 5,
     "metadata": {},
     "output_type": "execute_result"
    }
   ],
   "source": [
    "metrics_from_dataset(crf_large,'/teamspace/studios/this_studio/Deeplab/india_sam_dino_annotations')"
   ]
  },
  {
   "cell_type": "code",
   "execution_count": null,
   "id": "c864342e-e331-4048-a308-4c8affa02a18",
   "metadata": {},
   "outputs": [],
   "source": [
    "metrics_from_dataset_crf(crf_large,'/teamspace/studios/this_studio/Deeplab/india_sam_dino_annotations')"
   ]
  },
  {
   "cell_type": "code",
   "execution_count": 11,
   "id": "bc32bdc8-6367-4916-91b4-80a428d42f5c",
   "metadata": {},
   "outputs": [
    {
     "name": "stdout",
     "output_type": "stream",
     "text": [
      "Device: cuda\n",
      "Resume model from /teamspace/studios/this_studio/Deeplab/saved_models/best_deeplabv3plus_mobilenet_custom_os16_0.7854892764326529.pth\n"
     ]
    },
    {
     "name": "stderr",
     "output_type": "stream",
     "text": [
      "Processing images: 100%|██████████| 250/250 [00:07<00:00, 32.00it/s]\n"
     ]
    },
    {
     "data": {
      "text/plain": [
       "{'Foreground Acc': 0.7660595847066114,\n",
       " 'Precision': 0.9609540120555381,\n",
       " 'Recall': 0.7660595847066114,\n",
       " 'F1 Score': 0.8525098271114568,\n",
       " 'IoU Foreground': 0.7429343163483996,\n",
       " 'IoU Background': 0.9296760938585993,\n",
       " 'Mean IoU': 0.8363052051034994}"
      ]
     },
     "execution_count": 11,
     "metadata": {},
     "output_type": "execute_result"
    }
   ],
   "source": [
    "metrics_from_dataset(inhouse_default,'/teamspace/studios/this_studio/Deeplab/india_sam_dino_annotations')"
   ]
  },
  {
   "cell_type": "code",
   "execution_count": 4,
   "id": "518ad9fd-6c29-4bf3-be44-7cc3202d2305",
   "metadata": {},
   "outputs": [
    {
     "name": "stdout",
     "output_type": "stream",
     "text": [
      "Device: cuda\n",
      "Resume model from /teamspace/studios/this_studio/Deeplab/saved_models/crf_sam_large_freetown_eastafrica_haiti_0.8385291022474306.pth\n"
     ]
    },
    {
     "name": "stderr",
     "output_type": "stream",
     "text": [
      "Processing images: 100%|██████████| 4071/4071 [02:18<00:00, 29.41it/s]\n"
     ]
    },
    {
     "data": {
      "text/plain": [
       "{'Foreground Acc': 0.8531264479496747,\n",
       " 'Precision': 0.8592444266360957,\n",
       " 'Recall': 0.8531264479496747,\n",
       " 'F1 Score': 0.8561745080999859,\n",
       " 'IoU Foreground': 0.7485184708357829,\n",
       " 'IoU Background': 0.9377373406950237,\n",
       " 'Mean IoU': 0.8431279057654033}"
      ]
     },
     "execution_count": 4,
     "metadata": {},
     "output_type": "execute_result"
    }
   ],
   "source": [
    "metrics_from_dataset(crf_large,'/teamspace/studios/this_studio/Deeplab/india_sam_dino_annotations_large')"
   ]
  },
  {
   "cell_type": "code",
   "execution_count": 5,
   "id": "ae53d7dc-ad3c-4003-9a83-3454812fc078",
   "metadata": {},
   "outputs": [
    {
     "name": "stdout",
     "output_type": "stream",
     "text": [
      "Device: cuda\n",
      "Resume model from /teamspace/studios/this_studio/Deeplab/saved_models/crf_sam_large_freetown_eastafrica_haiti_0.8696894799916581.pth\n"
     ]
    },
    {
     "name": "stderr",
     "output_type": "stream",
     "text": [
      "Processing images: 100%|██████████| 4071/4071 [02:07<00:00, 32.02it/s]\n"
     ]
    },
    {
     "data": {
      "text/plain": [
       "{'Foreground Acc': 0.8530342383267585,\n",
       " 'Precision': 0.8995911819369873,\n",
       " 'Recall': 0.8530342383267585,\n",
       " 'F1 Score': 0.8756943381245789,\n",
       " 'IoU Foreground': 0.7788756810704475,\n",
       " 'IoU Background': 0.9473938138407835,\n",
       " 'Mean IoU': 0.8631347474556155}"
      ]
     },
     "execution_count": 5,
     "metadata": {},
     "output_type": "execute_result"
    }
   ],
   "source": [
    "metrics_from_dataset(crf_proper,'/teamspace/studios/this_studio/Deeplab/india_sam_dino_annotations_large')"
   ]
  },
  {
   "cell_type": "code",
   "execution_count": 5,
   "id": "1c2f00e9-a928-4aa9-a1af-07c0ffc8a2e3",
   "metadata": {},
   "outputs": [
    {
     "name": "stdout",
     "output_type": "stream",
     "text": [
      "Device: cuda\n",
      "Resume model from /teamspace/studios/this_studio/Deeplab/saved_models/base_sam_dino_india_tuned_freetown_eastafrica_haiti_0.8754172925254217.pth\n"
     ]
    },
    {
     "name": "stderr",
     "output_type": "stream",
     "text": [
      "Processing images: 100%|██████████| 4071/4071 [02:10<00:00, 31.18it/s]\n"
     ]
    },
    {
     "data": {
      "text/plain": [
       "{'Foreground Acc': 0.7814791465565297,\n",
       " 'Precision': 0.9154443015948529,\n",
       " 'Recall': 0.7814791465565297,\n",
       " 'F1 Score': 0.8431737239646689,\n",
       " 'IoU Foreground': 0.7288680603403905,\n",
       " 'IoU Background': 0.9378197146343702,\n",
       " 'Mean IoU': 0.8333438874873804}"
      ]
     },
     "execution_count": 5,
     "metadata": {},
     "output_type": "execute_result"
    }
   ],
   "source": [
    "metrics_from_dataset(crf_small,'/teamspace/studios/this_studio/Deeplab/india_sam_dino_annotations_large')"
   ]
  },
  {
   "cell_type": "code",
   "execution_count": 16,
   "id": "12a1ef6b-a72b-4c81-ae6d-c29d5d8e4e62",
   "metadata": {},
   "outputs": [
    {
     "name": "stdout",
     "output_type": "stream",
     "text": [
      "Device: cuda\n",
      "Resume model from /teamspace/studios/this_studio/Deeplab/saved_models/base_sam_dino_india_tuned_freetown_eastafrica_haiti_0.8754172925254217.pth\n"
     ]
    },
    {
     "name": "stderr",
     "output_type": "stream",
     "text": [
      "Processing images: 100%|██████████| 250/250 [01:40<00:00,  2.49it/s]\n"
     ]
    },
    {
     "data": {
      "text/plain": [
       "{'Foreground Acc': 0.8067870671570491,\n",
       " 'Precision': 0.9465185416001765,\n",
       " 'Recall': 0.8067870671570491,\n",
       " 'F1 Score': 0.8710847833637567,\n",
       " 'IoU Foreground': 0.771612226079539,\n",
       " 'IoU Background': 0.9359531729525978,\n",
       " 'Mean IoU': 0.8537826995160684}"
      ]
     },
     "execution_count": 16,
     "metadata": {},
     "output_type": "execute_result"
    }
   ],
   "source": [
    "metrics_from_dataset_crf(crf_small,'/teamspace/studios/this_studio/Deeplab/india_sam_dino_annotations')"
   ]
  },
  {
   "cell_type": "code",
   "execution_count": 7,
   "id": "fcb9f423-ecd5-4107-b409-dff2343aefd9",
   "metadata": {},
   "outputs": [
    {
     "name": "stdout",
     "output_type": "stream",
     "text": [
      "Device: cuda\n",
      "Resume model from /teamspace/studios/this_studio/Deeplab/saved_models/crf_sam_large_freetown_eastafrica_haiti_0.8385291022474306.pth\n"
     ]
    },
    {
     "name": "stderr",
     "output_type": "stream",
     "text": [
      "Processing images: 100%|██████████| 250/250 [01:46<00:00,  2.35it/s]\n"
     ]
    },
    {
     "data": {
      "text/plain": [
       "{'Foreground Acc': 0.8601681995385814,\n",
       " 'Precision': 0.9201949540673127,\n",
       " 'Recall': 0.8601681995385814,\n",
       " 'F1 Score': 0.8891696452619142,\n",
       " 'IoU Foreground': 0.8004549402789456,\n",
       " 'IoU Background': 0.9416534532516262,\n",
       " 'Mean IoU': 0.8710541967652858}"
      ]
     },
     "execution_count": 7,
     "metadata": {},
     "output_type": "execute_result"
    }
   ],
   "source": [
    "metrics_from_dataset_crf(crf_large,'/teamspace/studios/this_studio/Deeplab/india_sam_dino_annotations')"
   ]
  },
  {
   "cell_type": "code",
   "execution_count": 18,
   "id": "bd4fd63d-c205-4f4d-9e0d-5cdafc3e2177",
   "metadata": {},
   "outputs": [
    {
     "name": "stdout",
     "output_type": "stream",
     "text": [
      "Device: cuda\n",
      "Resume model from /teamspace/studios/this_studio/Deeplab/saved_models/best_deeplabv3plus_mobilenet_custom_os16_0.7854892764326529.pth\n"
     ]
    },
    {
     "name": "stderr",
     "output_type": "stream",
     "text": [
      "Processing images: 100%|██████████| 4071/4071 [02:08<00:00, 31.73it/s]\n"
     ]
    },
    {
     "data": {
      "text/plain": [
       "{'Foreground Acc': 0.7355098986856355,\n",
       " 'Precision': 0.9435659381416277,\n",
       " 'Recall': 0.7355098986856355,\n",
       " 'F1 Score': 0.8266476979111712,\n",
       " 'IoU Foreground': 0.7045178983665468,\n",
       " 'IoU Background': 0.9346595961708383,\n",
       " 'Mean IoU': 0.8195887472686925}"
      ]
     },
     "execution_count": 18,
     "metadata": {},
     "output_type": "execute_result"
    }
   ],
   "source": [
    "metrics_from_dataset(inhouse_default,'/teamspace/studios/this_studio/Deeplab/india_sam_dino_annotations_large')"
   ]
  },
  {
   "cell_type": "code",
   "execution_count": null,
   "id": "f935d912-6e8f-4695-a877-a19456540ffc",
   "metadata": {},
   "outputs": [],
   "source": []
  }
 ],
 "metadata": {
  "kernelspec": {
   "display_name": "Python 3",
   "language": "python",
   "name": "python3"
  },
  "language_info": {
   "codemirror_mode": {
    "name": "ipython",
    "version": 3
   },
   "file_extension": ".py",
   "mimetype": "text/x-python",
   "name": "python",
   "nbconvert_exporter": "python",
   "pygments_lexer": "ipython3",
   "version": "3.10.10"
  }
 },
 "nbformat": 4,
 "nbformat_minor": 5
}
