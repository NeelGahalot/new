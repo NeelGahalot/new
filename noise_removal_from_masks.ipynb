{
 "cells": [
  {
   "cell_type": "code",
   "execution_count": 2,
   "id": "38431247-a09d-41ad-8cf4-0e8fb4cb4040",
   "metadata": {},
   "outputs": [
    {
     "data": {
      "text/plain": [
       "True"
      ]
     },
     "execution_count": 2,
     "metadata": {},
     "output_type": "execute_result"
    }
   ],
   "source": [
    "import cv2\n",
    "\n",
    "def remove_noise_from_mask(mask_path, kernel_size=3, iterations=1):\n",
    "    # Read the segmentation mask from the image path\n",
    "    mask = cv2.imread(mask_path, cv2.IMREAD_GRAYSCALE)\n",
    "\n",
    "    if mask is None:\n",
    "        raise FileNotFoundError(f\"Unable to read the mask image from the path: {mask_path}\")\n",
    "\n",
    "    # Define the kernel for morphological operations (structuring element)\n",
    "    kernel = cv2.getStructuringElement(cv2.MORPH_RECT, (kernel_size, kernel_size))\n",
    "    \n",
    "    # Perform morphological opening to remove noise (erosion followed by dilation)\n",
    "    mask_clean = cv2.morphologyEx(mask, cv2.MORPH_OPEN, kernel, iterations=iterations)\n",
    "    \n",
    "    return mask_clean\n",
    "\n",
    "# Example usage:\n",
    "mask_path = 'Deeplab/check.jpg'  # Replace with your mask image file path\n",
    "cleaned_mask = remove_noise_from_mask(mask_path, kernel_size=3, iterations=1)\n",
    "\n",
    "# Specify the path to save the cleaned mask\n",
    "cleaned_mask_save_path = 'cleaned_mask.jpg'\n",
    "\n",
    "# Save the cleaned mask to the new location\n",
    "cv2.imwrite(cleaned_mask_save_path, cleaned_mask)\n"
   ]
  },
  {
   "cell_type": "code",
   "execution_count": null,
   "id": "c7c42002-3ffc-4784-bf8c-16c93624bda9",
   "metadata": {},
   "outputs": [],
   "source": [
    "import cv2\n",
    "\n",
    "def overlay_mask(image_path, mask_path, output_path):\n",
    "    # Read the image and mask\n",
    "    image = cv2.imread(image_path)\n",
    "    mask = cv2.imread(mask_path)\n",
    "\n",
    "    # Resize mask to match image dimensions\n",
    "    mask = cv2.resize(mask, (image.shape[1], image.shape[0]))\n",
    "\n",
    "    # Convert mask to 3-channel format for overlaying (assuming it's a single-channel binary mask)\n",
    "    mask_rgb = cv2.cvtColor(mask, cv2.COLOR_GRAY2BGR)\n",
    "\n",
    "    # Define transparency factor for overlay\n",
    "    alpha = 0.5  # You can adjust this value to change the transparency level\n",
    "\n",
    "    # Create overlay by blending image and mask\n",
    "    overlay = cv2.addWeighted(image, 1, mask_rgb, alpha, 0)\n",
    "\n",
    "    # Save the overlayed image\n",
    "    cv2.imwrite(output_path, overlay)\n",
    "\n",
    "# Example usage\n",
    "image_path = 'path_to_image.jpg'\n",
    "mask_path = 'path_to_mask.jpg'\n",
    "output_path = 'overlayed_image.jpg'\n",
    "overlay_mask(image_path, mask_path, output_path)\n"
   ]
  }
 ],
 "metadata": {
  "kernelspec": {
   "display_name": "Python 3",
   "language": "python",
   "name": "python3"
  },
  "language_info": {
   "codemirror_mode": {
    "name": "ipython",
    "version": 3
   },
   "file_extension": ".py",
   "mimetype": "text/x-python",
   "name": "python",
   "nbconvert_exporter": "python",
   "pygments_lexer": "ipython3",
   "version": "3.10.10"
  }
 },
 "nbformat": 4,
 "nbformat_minor": 5
}
