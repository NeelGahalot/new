{
 "cells": [
  {
   "cell_type": "code",
   "execution_count": 1,
   "id": "12ed752d-e678-497a-942a-97193e4a51e8",
   "metadata": {},
   "outputs": [
    {
     "name": "stdout",
     "output_type": "stream",
     "text": [
      "Error: unknown shorthand flag: 'c' in -c\n",
      "Usage:\n",
      "  lightning-server [command]\n",
      "\n",
      "Available Commands:\n",
      "  completion    Generate the autocompletion script for the specified shell\n",
      "  help          Help about any command\n",
      "  initial-state \n",
      "  jobs-setup    \n",
      "  server        \n",
      "  start         \n",
      "  studio-setup  \n",
      "\n",
      "Flags:\n",
      "  -h, --help   help for lightning-server\n",
      "\n",
      "Use \"lightning-server [command] --help\" for more information about a command.\n",
      "\n",
      "unknown shorthand flag: 'c' in -c\n",
      "panic: unknown shorthand flag: 'c' in -c\n",
      "\n",
      "goroutine 1 [running]:\n",
      "main.main()\n",
      "\t/home/runner/work/grid/grid/grid-backend/cmd/lightning-settings-server/main.go:13 +0x86\n",
      "Note: you may need to restart the kernel to use updated packages.\n"
     ]
    }
   ],
   "source": [
    "pip install gdown"
   ]
  },
  {
   "cell_type": "code",
   "execution_count": 3,
   "id": "786aaf58-0591-4eb2-bf22-d99804c0f368",
   "metadata": {},
   "outputs": [],
   "source": [
    "import gdown"
   ]
  },
  {
   "cell_type": "code",
   "execution_count": 4,
   "id": "ee493f21-4922-4c18-a977-1f6719bcb4e3",
   "metadata": {},
   "outputs": [
    {
     "name": "stdout",
     "output_type": "stream",
     "text": [
      "/teamspace/studios/this_studio/Deeplab\n"
     ]
    }
   ],
   "source": [
    "import os\n",
    "os.chdir('/teamspace/studios/this_studio/Deeplab')\n",
    "print(os.getcwd())"
   ]
  },
  {
   "cell_type": "code",
   "execution_count": 5,
   "id": "9e0a9dd4-9c39-40c5-a28b-ec5e5cbd118e",
   "metadata": {},
   "outputs": [],
   "source": [
    "file_id_dict = {'/content/drive/MyDrive/Training_Medicinal_Plants/voc_main.py': '1ZRPeFTcmHXItqdy4JexOK6OvwASB-3C_', '/content/drive/MyDrive/Training_Medicinal_Plants/README.md': '1oA4vot1ZR6WBF5Oi3UMV5-e4GisM2276', '/content/drive/MyDrive/Training_Medicinal_Plants/LICENSE': '1wjN1J-iX0tSz5yIIjDjiWMk1gh34IkN1', '/content/drive/MyDrive/Training_Medicinal_Plants/checkpoints': '1rd1UeMQyLHgrMEhCwE0tdLbKTpZzsNIL', '/content/drive/MyDrive/Training_Medicinal_Plants/datasets': '1svgYi8xsft2BeKEC-w6zC0CNqkReZBFP', '/content/drive/MyDrive/Training_Medicinal_Plants/logs': '1vyJw2AzgpwwLVKW1_b4hdiOuJL6kgbxL', '/content/drive/MyDrive/Training_Medicinal_Plants/metrics': '1Fln65HhXZRhYgBYWvPrRtWzy0YtvfaW2', '/content/drive/MyDrive/Training_Medicinal_Plants/network': '14IkvPziINP9_nQFJZ67eu91BBPnYSEYE', '/content/drive/MyDrive/Training_Medicinal_Plants/saved_models': '1rqnxUvKjVfeb3HwBV2jcvWGCdpr25Eif', '/content/drive/MyDrive/Training_Medicinal_Plants/utils': '1QZUr6l0M9Y1rEjM55lqGgyQ0XQ_Z6MMJ', '/content/drive/MyDrive/Training_Medicinal_Plants/indian_medicinal_plant_dataset': '1pziJPXEmGlQJK0zZ5VoSDQoytoVq53kc', '/content/drive/MyDrive/Training_Medicinal_Plants/inhouse': '1bHQ2-Avf3lZMyIm1FR2XdBwXqpo1STuK', '/content/drive/MyDrive/Training_Medicinal_Plants/predictions': '1qr5GzlxjUcB0Mmoe1ayPczcfzJk7ZSlt', '/content/drive/MyDrive/Training_Medicinal_Plants/new': '1h6n4RFwsNqTjp5vZLAEKrS-tD1swFxE7', '/content/drive/MyDrive/Training_Medicinal_Plants/inhouse_resized': '1_gv6qR6o2eGkqDG4PK9QkXWFbE-cRjAF', '/content/drive/MyDrive/Training_Medicinal_Plants/results': '1tigFOg3Qr47R3DuOFQ3fCHnzf_sHLJsr', '/content/drive/MyDrive/Training_Medicinal_Plants/predict_from': '1Tf5X7kdaGnUbOsVYj20SDYG_OjhSX7un', '/content/drive/MyDrive/Training_Medicinal_Plants/predict.py': '1l_2w_nnQJ5hlYyUf0bPZXwYexI-joPMK', '/content/drive/MyDrive/Training_Medicinal_Plants/inhouse_test': '1kBa2GmaxArMbl1hBa5Tji4XfDp7F4si3', '/content/drive/MyDrive/Training_Medicinal_Plants/inhouse_india': '1icHbmez6H88zz_ZZ7OYHn58KgJDnikc3', '/content/drive/MyDrive/Training_Medicinal_Plants/main_test.py': '1kMuzaxEdX8JV-n5FGOcnVjEK49HaCCno', '/content/drive/MyDrive/Training_Medicinal_Plants/predict_overlayed.py': '1zQBhsNXV6uOWQf0sTeAlEXJPnWZ0-R7N', '/content/drive/MyDrive/Training_Medicinal_Plants/result.jpg': '12nZTE-J8RhkfzBu26IpSccui_dNjBB9D', '/content/drive/MyDrive/Training_Medicinal_Plants/marklute_samples.zip': '1CaWixVDfCWbuDseNw6htlxBjFv2Y9ZMA', '/content/drive/MyDrive/Training_Medicinal_Plants/binary_leaf_lora_main.py': '1YKNAu0P90S8IUpDLOTxmSqIDOeQdCs3U', '/content/drive/MyDrive/Training_Medicinal_Plants/requirements.txt': '1K2naNzBBm0BqeIoQ-OXlbpDRg2ApCsj9', '/content/drive/MyDrive/Training_Medicinal_Plants/split_dataset.py': '1vVQ_H---NTRCL1AZz7vsfV8ESD39K1ei', '/content/drive/MyDrive/Training_Medicinal_Plants/default_train.txt': '1216Lon1BefXsuRxbpVIi2eI_5lCutI6a', '/content/drive/MyDrive/Training_Medicinal_Plants/binary_leaf_main.py': '1elh4ukOeIUjVl6z4sjih92y8vvICGXN7', '/content/drive/MyDrive/Training_Medicinal_Plants/Train.ipynb': '1btB2YasdO1MjZGfchRRFDUBit4EuHnfA', '/content/drive/MyDrive/Training_Medicinal_Plants/overlay_predict.ipynb': '1OihK3AYkSk5GUOEvicYdug1Slu31C-q_', '/content/drive/MyDrive/Training_Medicinal_Plants/to_upload.coco.json': '1K8LQCalQMEHXkATA3B1TsEpzQcF5ELjP'}"
   ]
  },
  {
   "cell_type": "code",
   "execution_count": 4,
   "id": "cba45aad-307f-4d21-af17-d36326ef2809",
   "metadata": {},
   "outputs": [
    {
     "name": "stdout",
     "output_type": "stream",
     "text": [
      "/teamspace/studios/this_studio\n"
     ]
    }
   ],
   "source": [
    "import os\n",
    "print(os.getcwd())"
   ]
  },
  {
   "cell_type": "code",
   "execution_count": 5,
   "id": "5973be5d-d01f-4dcd-a87a-8253abcea62e",
   "metadata": {},
   "outputs": [],
   "source": [
    "os.chdir('/teamspace/studios/this_studio/Deeplab')"
   ]
  },
  {
   "cell_type": "code",
   "execution_count": 6,
   "id": "44f6c54e-84ce-47cf-8ede-576ab52aded3",
   "metadata": {},
   "outputs": [
    {
     "name": "stdout",
     "output_type": "stream",
     "text": [
      "/teamspace/studios/this_studio/Deeplab\n"
     ]
    }
   ],
   "source": [
    "print(os.getcwd())"
   ]
  },
  {
   "cell_type": "code",
   "execution_count": 7,
   "id": "cff6894d-5ffa-478c-a17c-b97cf94174c4",
   "metadata": {},
   "outputs": [],
   "source": [
    "def download(your_dict):\n",
    "  parent_dir = os.getcwd()\n",
    "  iterator = iter(your_dict.items())\n",
    "  first_key = next(iterator)[0]\n",
    "  folder_name = os.path.basename(os.path.dirname(first_key))\n",
    "  os.mkdir(folder_name)\n",
    "  os.chdir(os.path.join(parent_dir,folder_name))\n",
    "\n",
    "  for key in your_dict:\n",
    "    path_to_download = 'https://drive.google.com/uc?id=' + your_dict[key]\n",
    "    !gdown $path_to_download\n",
    "    \n",
    "  os.chdir(parent_dir)"
   ]
  },
  {
   "cell_type": "code",
   "execution_count": 8,
   "id": "9646a056-5155-46d2-ac05-6eee445b7ed3",
   "metadata": {},
   "outputs": [
    {
     "name": "stdout",
     "output_type": "stream",
     "text": [
      "Downloading...\n",
      "From (original): https://drive.google.com/uc?id=1aq7XvCtUlmauahbP9y2NG5RduwhNbZX_\n",
      "From (redirected): https://drive.google.com/uc?id=1aq7XvCtUlmauahbP9y2NG5RduwhNbZX_&confirm=t&uuid=1b94596b-e05e-4652-9ea6-b4112145fba6\n",
      "To: /teamspace/studios/this_studio/Deeplab/utils/loss.py\n",
      "100%|██████████████████████████████████████████| 721/721 [00:00<00:00, 3.68MB/s]\n",
      "Downloading...\n",
      "From (original): https://drive.google.com/uc?id=11rt9WBd_0srXn2pqkG62GxkcsJzLBO0P\n",
      "From (redirected): https://drive.google.com/uc?id=11rt9WBd_0srXn2pqkG62GxkcsJzLBO0P&confirm=t&uuid=aea08a2e-98c3-403c-a0f8-112489f12419\n",
      "To: /teamspace/studios/this_studio/Deeplab/utils/utils.py\n",
      "100%|██████████████████████████████████████| 1.01k/1.01k [00:00<00:00, 6.71MB/s]\n",
      "Downloading...\n",
      "From (original): https://drive.google.com/uc?id=1XOZoUJkFhHEsrGqPcLgk1PGlga-TL4IK\n",
      "From (redirected): https://drive.google.com/uc?id=1XOZoUJkFhHEsrGqPcLgk1PGlga-TL4IK&confirm=t&uuid=6e9ff41a-bdde-406c-9ab2-b59e99a87f2a\n",
      "To: /teamspace/studios/this_studio/Deeplab/utils/visualizer.py\n",
      "100%|██████████████████████████████████████| 2.78k/2.78k [00:00<00:00, 17.6MB/s]\n",
      "Downloading...\n",
      "From (original): https://drive.google.com/uc?id=11PFGsYw5ieRBRLFYVdjODvW8pkhH8DqO\n",
      "From (redirected): https://drive.google.com/uc?id=11PFGsYw5ieRBRLFYVdjODvW8pkhH8DqO&confirm=t&uuid=279f23d7-c673-4cd3-8bf5-95f1d942c387\n",
      "To: /teamspace/studios/this_studio/Deeplab/utils/ext_transforms.py\n",
      "100%|██████████████████████████████████████| 21.0k/21.0k [00:00<00:00, 65.4MB/s]\n",
      "Downloading...\n",
      "From (original): https://drive.google.com/uc?id=142U1KwbfcUaZLeA1fg9YpJa-auZgpcAR\n",
      "From (redirected): https://drive.google.com/uc?id=142U1KwbfcUaZLeA1fg9YpJa-auZgpcAR&confirm=t&uuid=9b2a3754-8a11-49b4-a43e-c66b21a17e41\n",
      "To: /teamspace/studios/this_studio/Deeplab/utils/scheduler.py\n",
      "100%|██████████████████████████████████████| 1.59k/1.59k [00:00<00:00, 10.5MB/s]\n",
      "Downloading...\n",
      "From (original): https://drive.google.com/uc?id=1rNDTI-7O4gmttTizod-dNhldWYQspTQs\n",
      "From (redirected): https://drive.google.com/uc?id=1rNDTI-7O4gmttTizod-dNhldWYQspTQs&confirm=t&uuid=9a687de2-fc49-4387-aea7-c5ca0f08661a\n",
      "To: /teamspace/studios/this_studio/Deeplab/utils/binaryFocal.py\n",
      "100%|██████████████████████████████████████████| 768/768 [00:00<00:00, 4.04MB/s]\n",
      "Downloading...\n",
      "From (original): https://drive.google.com/uc?id=1QpIhIzFI_Sk577OLp1ObTb5nHvrSdVkD\n",
      "From (redirected): https://drive.google.com/uc?id=1QpIhIzFI_Sk577OLp1ObTb5nHvrSdVkD&confirm=t&uuid=ee85a822-ea59-4fc4-a044-44a5cf3ce5df\n",
      "To: /teamspace/studios/this_studio/Deeplab/utils/binaryDice.py\n",
      "100%|██████████████████████████████████████████| 806/806 [00:00<00:00, 5.08MB/s]\n",
      "Downloading...\n",
      "From (original): https://drive.google.com/uc?id=1axjJ8fq_ENZchqdVNxQTwI_D_CGS66uD\n",
      "From (redirected): https://drive.google.com/uc?id=1axjJ8fq_ENZchqdVNxQTwI_D_CGS66uD&confirm=t&uuid=795da574-a200-420a-b2d3-3849a91ee43e\n",
      "To: /teamspace/studios/this_studio/Deeplab/utils/__init__.py\n",
      "100%|██████████████████████████████████████████| 276/276 [00:00<00:00, 1.74MB/s]\n",
      "Downloading...\n",
      "From (original): https://drive.google.com/uc?id=1FKzjJRAA6zA6g_MrWmpzrCGKIW1uq1ge\n",
      "From (redirected): https://drive.google.com/uc?id=1FKzjJRAA6zA6g_MrWmpzrCGKIW1uq1ge&confirm=t&uuid=200affc7-f480-444b-8065-0dd673b7b986\n",
      "To: /teamspace/studios/this_studio/Deeplab/utils/randomCropPad.py\n",
      "100%|██████████████████████████████████████| 1.72k/1.72k [00:00<00:00, 11.6MB/s]\n",
      "Downloading...\n",
      "From: https://drive.google.com/uc?id=1SiRNWiB5uRFKyeoVrt-ViHDbob24QmZa\n",
      "To: /teamspace/studios/this_studio/Deeplab/utils/.DS_Store\n",
      "100%|██████████████████████████████████████| 6.15k/6.15k [00:00<00:00, 24.9MB/s]\n",
      "/home/zeus/miniconda3/envs/cloudspace/lib/python3.10/site-packages/gdown/download.py:32: MarkupResemblesLocatorWarning: The input looks more like a filename than markup. You may want to open this file and pass the filehandle into Beautiful Soup.\n",
      "  soup = bs4.BeautifulSoup(line, features=\"html.parser\")\n",
      "Failed to retrieve file url:\n",
      "\n",
      "\tCannot retrieve the public link of the file. You may need to change\n",
      "\tthe permission to 'Anyone with the link', or have had many accesses.\n",
      "\tCheck FAQ in https://github.com/wkentaro/gdown?tab=readme-ov-file#faq.\n",
      "\n",
      "You may still be able to access the file from the browser:\n",
      "\n",
      "\thttps://drive.google.com/uc?id=1SN2teF8bw_Pp19JgO2HyV5etOMkJgv3g\n",
      "\n",
      "but Gdown can't. Please check connections and permissions.\n"
     ]
    }
   ],
   "source": [
    "download({'/content/drive/MyDrive/Training_Medicinal_Plants/utils/loss.py': '1aq7XvCtUlmauahbP9y2NG5RduwhNbZX_',\n",
    " '/content/drive/MyDrive/Training_Medicinal_Plants/utils/utils.py': '11rt9WBd_0srXn2pqkG62GxkcsJzLBO0P',\n",
    " '/content/drive/MyDrive/Training_Medicinal_Plants/utils/visualizer.py': '1XOZoUJkFhHEsrGqPcLgk1PGlga-TL4IK',\n",
    " '/content/drive/MyDrive/Training_Medicinal_Plants/utils/ext_transforms.py': '11PFGsYw5ieRBRLFYVdjODvW8pkhH8DqO',\n",
    " '/content/drive/MyDrive/Training_Medicinal_Plants/utils/scheduler.py': '142U1KwbfcUaZLeA1fg9YpJa-auZgpcAR',\n",
    " '/content/drive/MyDrive/Training_Medicinal_Plants/utils/binaryFocal.py': '1rNDTI-7O4gmttTizod-dNhldWYQspTQs',\n",
    " '/content/drive/MyDrive/Training_Medicinal_Plants/utils/binaryDice.py': '1QpIhIzFI_Sk577OLp1ObTb5nHvrSdVkD',\n",
    " '/content/drive/MyDrive/Training_Medicinal_Plants/utils/__init__.py': '1axjJ8fq_ENZchqdVNxQTwI_D_CGS66uD',\n",
    " '/content/drive/MyDrive/Training_Medicinal_Plants/utils/randomCropPad.py': '1FKzjJRAA6zA6g_MrWmpzrCGKIW1uq1ge',\n",
    " '/content/drive/MyDrive/Training_Medicinal_Plants/utils/.DS_Store': '1SiRNWiB5uRFKyeoVrt-ViHDbob24QmZa',\n",
    " '/content/drive/MyDrive/Training_Medicinal_Plants/utils/__pycache__': '1SN2teF8bw_Pp19JgO2HyV5etOMkJgv3g'})"
   ]
  },
  {
   "cell_type": "code",
   "execution_count": 9,
   "id": "cdd99f6b-1b2f-4670-9190-f634b15fe6cb",
   "metadata": {},
   "outputs": [
    {
     "name": "stdout",
     "output_type": "stream",
     "text": [
      "/teamspace/studios/this_studio/Deeplab\n"
     ]
    }
   ],
   "source": [
    "print(os.getcwd())"
   ]
  },
  {
   "cell_type": "code",
   "execution_count": 10,
   "id": "f30b964c-0137-4445-aba1-49380aa4b0a1",
   "metadata": {},
   "outputs": [],
   "source": [
    "os.chdir('/teamspace/studios/this_studio/Deeplab/utils')"
   ]
  },
  {
   "cell_type": "code",
   "execution_count": 11,
   "id": "3852d45d-a228-4014-9383-844962e5be4e",
   "metadata": {},
   "outputs": [
    {
     "name": "stdout",
     "output_type": "stream",
     "text": [
      "Downloading...\n",
      "From (original): https://drive.google.com/uc?id=1PLdHY8UZzzaiVUi1s8_Vc9NgTjFI0NIY\n",
      "From (redirected): https://drive.google.com/uc?id=1PLdHY8UZzzaiVUi1s8_Vc9NgTjFI0NIY&confirm=t&uuid=ff92c044-7890-4da2-802c-82a632fb7324\n",
      "To: /teamspace/studios/this_studio/Deeplab/utils/__pycache__/__init__.cpython-310.pyc\n",
      "100%|██████████████████████████████████████████| 565/565 [00:00<00:00, 3.76MB/s]\n",
      "Downloading...\n",
      "From (original): https://drive.google.com/uc?id=1yIF_r_IQjVMLnuBIyqD1SxNl4NWnhtYP\n",
      "From (redirected): https://drive.google.com/uc?id=1yIF_r_IQjVMLnuBIyqD1SxNl4NWnhtYP&confirm=t&uuid=653e0bdb-b06c-426a-9c6c-98fcc206ec05\n",
      "To: /teamspace/studios/this_studio/Deeplab/utils/__pycache__/utils.cpython-310.pyc\n",
      "100%|██████████████████████████████████████| 1.71k/1.71k [00:00<00:00, 11.9MB/s]\n",
      "Downloading...\n",
      "From (original): https://drive.google.com/uc?id=1AspsWjuolPgQmlLahYXvaATf4qYFUXLP\n",
      "From (redirected): https://drive.google.com/uc?id=1AspsWjuolPgQmlLahYXvaATf4qYFUXLP&confirm=t&uuid=a0504282-e394-4fe7-94d3-05e8efbf98bc\n",
      "To: /teamspace/studios/this_studio/Deeplab/utils/__pycache__/visualizer.cpython-310.pyc\n",
      "100%|██████████████████████████████████████| 2.26k/2.26k [00:00<00:00, 10.8MB/s]\n",
      "Downloading...\n",
      "From (original): https://drive.google.com/uc?id=1-BtMSyLXuuHA6BefVshWDfNpzd86mzd0\n",
      "From (redirected): https://drive.google.com/uc?id=1-BtMSyLXuuHA6BefVshWDfNpzd86mzd0&confirm=t&uuid=a9c702b8-38ed-40cf-b848-e12969081eee\n",
      "To: /teamspace/studios/this_studio/Deeplab/utils/__pycache__/scheduler.cpython-310.pyc\n",
      "100%|██████████████████████████████████████| 2.29k/2.29k [00:00<00:00, 14.8MB/s]\n",
      "Downloading...\n",
      "From (original): https://drive.google.com/uc?id=1GGB2tLQsSEVIceUAD6VOUO3KyfRWBx0m\n",
      "From (redirected): https://drive.google.com/uc?id=1GGB2tLQsSEVIceUAD6VOUO3KyfRWBx0m&confirm=t&uuid=ec8d5078-3a29-4b1b-924b-a363dc64e62f\n",
      "To: /teamspace/studios/this_studio/Deeplab/utils/__pycache__/loss.cpython-310.pyc\n",
      "100%|██████████████████████████████████████| 1.12k/1.12k [00:00<00:00, 6.87MB/s]\n",
      "Downloading...\n",
      "From (original): https://drive.google.com/uc?id=1Kjtr4Adb8wUiBDVhTlb-Qp9gaOg19dGV\n",
      "From (redirected): https://drive.google.com/uc?id=1Kjtr4Adb8wUiBDVhTlb-Qp9gaOg19dGV&confirm=t&uuid=4f5f9d80-ce7d-42d3-938e-4b05eb4b689a\n",
      "To: /teamspace/studios/this_studio/Deeplab/utils/__pycache__/binaryFocal.cpython-310.pyc\n",
      "100%|██████████████████████████████████████| 1.17k/1.17k [00:00<00:00, 6.97MB/s]\n",
      "Downloading...\n",
      "From (original): https://drive.google.com/uc?id=1ph0UqeUhXBUBLavypQfWSKdPHMaOOB35\n",
      "From (redirected): https://drive.google.com/uc?id=1ph0UqeUhXBUBLavypQfWSKdPHMaOOB35&confirm=t&uuid=0339ceda-6765-48b9-aa03-a95ce99f671f\n",
      "To: /teamspace/studios/this_studio/Deeplab/utils/__pycache__/binaryDice.cpython-310.pyc\n",
      "100%|██████████████████████████████████████| 1.08k/1.08k [00:00<00:00, 7.70MB/s]\n",
      "Downloading...\n",
      "From (original): https://drive.google.com/uc?id=14cr3ZJb04D6_Q05a1VRTogl_Dg8pd5id\n",
      "From (redirected): https://drive.google.com/uc?id=14cr3ZJb04D6_Q05a1VRTogl_Dg8pd5id&confirm=t&uuid=e661cf2a-ba15-4843-b494-c9cfee5b1ca6\n",
      "To: /teamspace/studios/this_studio/Deeplab/utils/__pycache__/randomCropPad.cpython-310.pyc\n",
      "100%|██████████████████████████████████████| 1.80k/1.80k [00:00<00:00, 11.8MB/s]\n",
      "Downloading...\n",
      "From (original): https://drive.google.com/uc?id=1FbXsWRo2HMI3eiJavKcnmF6TSdShyz7c\n",
      "From (redirected): https://drive.google.com/uc?id=1FbXsWRo2HMI3eiJavKcnmF6TSdShyz7c&confirm=t&uuid=56b4ea39-9b39-4c7d-a4a2-041f37fd4d27\n",
      "To: /teamspace/studios/this_studio/Deeplab/utils/__pycache__/ext_transforms.cpython-310.pyc\n",
      "100%|██████████████████████████████████████| 21.5k/21.5k [00:00<00:00, 67.4MB/s]\n"
     ]
    }
   ],
   "source": [
    "download({'/content/drive/MyDrive/Training_Medicinal_Plants/utils/__pycache__/__init__.cpython-310.pyc': '1PLdHY8UZzzaiVUi1s8_Vc9NgTjFI0NIY',\n",
    " '/content/drive/MyDrive/Training_Medicinal_Plants/utils/__pycache__/utils.cpython-310.pyc': '1yIF_r_IQjVMLnuBIyqD1SxNl4NWnhtYP',\n",
    " '/content/drive/MyDrive/Training_Medicinal_Plants/utils/__pycache__/visualizer.cpython-310.pyc': '1AspsWjuolPgQmlLahYXvaATf4qYFUXLP',\n",
    " '/content/drive/MyDrive/Training_Medicinal_Plants/utils/__pycache__/scheduler.cpython-310.pyc': '1-BtMSyLXuuHA6BefVshWDfNpzd86mzd0',\n",
    " '/content/drive/MyDrive/Training_Medicinal_Plants/utils/__pycache__/loss.cpython-310.pyc': '1GGB2tLQsSEVIceUAD6VOUO3KyfRWBx0m',\n",
    " '/content/drive/MyDrive/Training_Medicinal_Plants/utils/__pycache__/binaryFocal.cpython-310.pyc': '1Kjtr4Adb8wUiBDVhTlb-Qp9gaOg19dGV',\n",
    " '/content/drive/MyDrive/Training_Medicinal_Plants/utils/__pycache__/binaryDice.cpython-310.pyc': '1ph0UqeUhXBUBLavypQfWSKdPHMaOOB35',\n",
    " '/content/drive/MyDrive/Training_Medicinal_Plants/utils/__pycache__/randomCropPad.cpython-310.pyc': '14cr3ZJb04D6_Q05a1VRTogl_Dg8pd5id',\n",
    " '/content/drive/MyDrive/Training_Medicinal_Plants/utils/__pycache__/ext_transforms.cpython-310.pyc': '1FbXsWRo2HMI3eiJavKcnmF6TSdShyz7c'})"
   ]
  },
  {
   "cell_type": "code",
   "execution_count": 13,
   "id": "1c270cfb-f9e0-46d8-9e44-50f4c16dd484",
   "metadata": {},
   "outputs": [],
   "source": [
    "this_list = os.listdir('/teamspace/studios/this_studio/Deeplab/utils')"
   ]
  },
  {
   "cell_type": "code",
   "execution_count": 14,
   "id": "7eb60d8d-2de7-458b-adbd-6d43529f4d87",
   "metadata": {},
   "outputs": [
    {
     "name": "stdout",
     "output_type": "stream",
     "text": [
      "['.DS_Store', 'visualizer.py', '__init__.py', 'ext_transforms.py', 'binaryDice.py', 'scheduler.py', '__pycache__', 'binaryFocal.py', 'randomCropPad.py', 'utils.py', 'loss.py']\n"
     ]
    }
   ],
   "source": [
    "print(this_list)"
   ]
  },
  {
   "cell_type": "code",
   "execution_count": 15,
   "id": "31840ccb-ca68-44e6-9a16-9d73f466ed2a",
   "metadata": {},
   "outputs": [],
   "source": [
    "os.chdir('/teamspace/studios/this_studio/Deeplab')"
   ]
  },
  {
   "cell_type": "code",
   "execution_count": 16,
   "id": "77568b67-0255-4707-b503-87a1292530b6",
   "metadata": {},
   "outputs": [
    {
     "name": "stdout",
     "output_type": "stream",
     "text": [
      "Downloading...\n",
      "From (original): https://drive.google.com/uc?id=1Jp8LX74zr_et6_iQZf1AQ3ouvI3_nZ0p\n",
      "From (redirected): https://drive.google.com/uc?id=1Jp8LX74zr_et6_iQZf1AQ3ouvI3_nZ0p&confirm=t&uuid=87440cf4-0999-484e-b426-3783448bcb35\n",
      "To: /teamspace/studios/this_studio/Deeplab/network/__init__.py\n",
      "100%|█████████████████████████████████████████| 71.0/71.0 [00:00<00:00, 469kB/s]\n",
      "Downloading...\n",
      "From (original): https://drive.google.com/uc?id=1oE1WxBv5j5TjpCV-o0_JtkVlHwBKgiV_\n",
      "From (redirected): https://drive.google.com/uc?id=1oE1WxBv5j5TjpCV-o0_JtkVlHwBKgiV_&confirm=t&uuid=25f40f58-5942-4548-9c7f-09600d0769c3\n",
      "To: /teamspace/studios/this_studio/Deeplab/network/utils.py\n",
      "100%|██████████████████████████████████████| 4.57k/4.57k [00:00<00:00, 20.6MB/s]\n",
      "Downloading...\n",
      "From (original): https://drive.google.com/uc?id=17Dnd7X1P6k6OSZgXCaWvZ9OsLBx5G5GM\n",
      "From (redirected): https://drive.google.com/uc?id=17Dnd7X1P6k6OSZgXCaWvZ9OsLBx5G5GM&confirm=t&uuid=680f823b-e5a2-4620-aa10-824203941062\n",
      "To: /teamspace/studios/this_studio/Deeplab/network/modeling.py\n",
      "100%|██████████████████████████████████████| 9.89k/9.89k [00:00<00:00, 33.2MB/s]\n",
      "Downloading...\n",
      "From: https://drive.google.com/uc?id=1LEMvJ8gTzUOR0nku7VM8hTmyrZrDEbQ2\n",
      "To: /teamspace/studios/this_studio/Deeplab/network/.DS_Store\n",
      "100%|██████████████████████████████████████| 6.15k/6.15k [00:00<00:00, 24.0MB/s]\n",
      "/home/zeus/miniconda3/envs/cloudspace/lib/python3.10/site-packages/gdown/download.py:32: MarkupResemblesLocatorWarning: The input looks more like a filename than markup. You may want to open this file and pass the filehandle into Beautiful Soup.\n",
      "  soup = bs4.BeautifulSoup(line, features=\"html.parser\")\n",
      "Failed to retrieve file url:\n",
      "\n",
      "\tCannot retrieve the public link of the file. You may need to change\n",
      "\tthe permission to 'Anyone with the link', or have had many accesses.\n",
      "\tCheck FAQ in https://github.com/wkentaro/gdown?tab=readme-ov-file#faq.\n",
      "\n",
      "You may still be able to access the file from the browser:\n",
      "\n",
      "\thttps://drive.google.com/uc?id=1glXF5VxL0HKAcFG5e0OsVKmFWwJdtHua\n",
      "\n",
      "but Gdown can't. Please check connections and permissions.\n",
      "/home/zeus/miniconda3/envs/cloudspace/lib/python3.10/site-packages/gdown/download.py:32: MarkupResemblesLocatorWarning: The input looks more like a filename than markup. You may want to open this file and pass the filehandle into Beautiful Soup.\n",
      "  soup = bs4.BeautifulSoup(line, features=\"html.parser\")\n",
      "Failed to retrieve file url:\n",
      "\n",
      "\tCannot retrieve the public link of the file. You may need to change\n",
      "\tthe permission to 'Anyone with the link', or have had many accesses.\n",
      "\tCheck FAQ in https://github.com/wkentaro/gdown?tab=readme-ov-file#faq.\n",
      "\n",
      "You may still be able to access the file from the browser:\n",
      "\n",
      "\thttps://drive.google.com/uc?id=1JDWoErD3SxQWnJc1co0nn40bw31lSbQi\n",
      "\n",
      "but Gdown can't. Please check connections and permissions.\n",
      "/home/zeus/miniconda3/envs/cloudspace/lib/python3.10/site-packages/gdown/download.py:32: MarkupResemblesLocatorWarning: The input looks more like a filename than markup. You may want to open this file and pass the filehandle into Beautiful Soup.\n",
      "  soup = bs4.BeautifulSoup(line, features=\"html.parser\")\n",
      "Failed to retrieve file url:\n",
      "\n",
      "\tCannot retrieve the public link of the file. You may need to change\n",
      "\tthe permission to 'Anyone with the link', or have had many accesses.\n",
      "\tCheck FAQ in https://github.com/wkentaro/gdown?tab=readme-ov-file#faq.\n",
      "\n",
      "You may still be able to access the file from the browser:\n",
      "\n",
      "\thttps://drive.google.com/uc?id=1xLNlz_U_9kGoxw9SrjpO1jR_tBfhh7mC\n",
      "\n",
      "but Gdown can't. Please check connections and permissions.\n",
      "Downloading...\n",
      "From (original): https://drive.google.com/uc?id=1JdTpiQlRK_k49j8u6jdGA_2vNyoNDhlb\n",
      "From (redirected): https://drive.google.com/uc?id=1JdTpiQlRK_k49j8u6jdGA_2vNyoNDhlb&confirm=t&uuid=f552340b-3788-41d1-8e44-38474aec569a\n",
      "To: /teamspace/studios/this_studio/Deeplab/network/_deeplab.py\n",
      "100%|██████████████████████████████████████| 6.71k/6.71k [00:00<00:00, 31.7MB/s]\n"
     ]
    }
   ],
   "source": [
    "download({'/content/drive/MyDrive/Training_Medicinal_Plants/network/__init__.py': '1Jp8LX74zr_et6_iQZf1AQ3ouvI3_nZ0p',\n",
    " '/content/drive/MyDrive/Training_Medicinal_Plants/network/utils.py': '1oE1WxBv5j5TjpCV-o0_JtkVlHwBKgiV_',\n",
    " '/content/drive/MyDrive/Training_Medicinal_Plants/network/modeling.py': '17Dnd7X1P6k6OSZgXCaWvZ9OsLBx5G5GM',\n",
    " '/content/drive/MyDrive/Training_Medicinal_Plants/network/.DS_Store': '1LEMvJ8gTzUOR0nku7VM8hTmyrZrDEbQ2',\n",
    " '/content/drive/MyDrive/Training_Medicinal_Plants/network/__pycache__': '1glXF5VxL0HKAcFG5e0OsVKmFWwJdtHua',\n",
    " '/content/drive/MyDrive/Training_Medicinal_Plants/network/.ipynb_checkpoints': '1JDWoErD3SxQWnJc1co0nn40bw31lSbQi',\n",
    " '/content/drive/MyDrive/Training_Medicinal_Plants/network/backbone': '1xLNlz_U_9kGoxw9SrjpO1jR_tBfhh7mC',\n",
    " '/content/drive/MyDrive/Training_Medicinal_Plants/network/_deeplab.py': '1JdTpiQlRK_k49j8u6jdGA_2vNyoNDhlb'})"
   ]
  },
  {
   "cell_type": "code",
   "execution_count": 18,
   "id": "80057bb6-81e4-4a5f-a0e2-8560b30abb70",
   "metadata": {},
   "outputs": [],
   "source": [
    "os.chdir('/teamspace/studios/this_studio/Deeplab/network')"
   ]
  },
  {
   "cell_type": "code",
   "execution_count": 19,
   "id": "696dcd9e-7307-49b1-a0b1-299788bcb031",
   "metadata": {},
   "outputs": [
    {
     "name": "stdout",
     "output_type": "stream",
     "text": [
      "Downloading...\n",
      "From (original): https://drive.google.com/uc?id=1II2b1lsjkzmzCai-cieb_btRkib8bAVC\n",
      "From (redirected): https://drive.google.com/uc?id=1II2b1lsjkzmzCai-cieb_btRkib8bAVC&confirm=t&uuid=c4aa7dba-6229-4e29-b401-82e0febb0bfd\n",
      "To: /teamspace/studios/this_studio/Deeplab/network/backbone/__init__.py\n",
      "100%|█████████████████████████████████████████| 92.0/92.0 [00:00<00:00, 554kB/s]\n",
      "Downloading...\n",
      "From (original): https://drive.google.com/uc?id=1qzwPRCB0_sYQa5OYEaQ7mSOUAjl_kVLw\n",
      "From (redirected): https://drive.google.com/uc?id=1qzwPRCB0_sYQa5OYEaQ7mSOUAjl_kVLw&confirm=t&uuid=b6243005-af4d-423f-a095-c335d37573c9\n",
      "To: /teamspace/studios/this_studio/Deeplab/network/backbone/resnet.py\n",
      "100%|██████████████████████████████████████| 13.7k/13.7k [00:00<00:00, 49.2MB/s]\n",
      "Downloading...\n",
      "From (original): https://drive.google.com/uc?id=1M211W9BuigoLjmXaUclJgTtONKTI0xpf\n",
      "From (redirected): https://drive.google.com/uc?id=1M211W9BuigoLjmXaUclJgTtONKTI0xpf&confirm=t&uuid=17d3452a-7c69-4f3b-907f-a4b31729b318\n",
      "To: /teamspace/studios/this_studio/Deeplab/network/backbone/hrnetv2.py\n",
      "100%|██████████████████████████████████████| 14.5k/14.5k [00:00<00:00, 54.4MB/s]\n",
      "Downloading...\n",
      "From (original): https://drive.google.com/uc?id=1VaJC-6uo0CEjT5s1Q9y5JCQ3y6rXJG0u\n",
      "From (redirected): https://drive.google.com/uc?id=1VaJC-6uo0CEjT5s1Q9y5JCQ3y6rXJG0u&confirm=t&uuid=66b54998-5061-4b2e-b9d2-262580b85ccc\n",
      "To: /teamspace/studios/this_studio/Deeplab/network/backbone/xception.py\n",
      "100%|██████████████████████████████████████| 9.38k/9.38k [00:00<00:00, 35.3MB/s]\n",
      "Downloading...\n",
      "From (original): https://drive.google.com/uc?id=1yNWEOomSizGVPywN6KQpB7W5vq78lGAy\n",
      "From (redirected): https://drive.google.com/uc?id=1yNWEOomSizGVPywN6KQpB7W5vq78lGAy&confirm=t&uuid=f0ae5986-adc2-4062-8651-d653be7526a2\n",
      "To: /teamspace/studios/this_studio/Deeplab/network/backbone/mobilenetv2.py\n",
      "100%|██████████████████████████████████████| 7.04k/7.04k [00:00<00:00, 29.8MB/s]\n",
      "/home/zeus/miniconda3/envs/cloudspace/lib/python3.10/site-packages/gdown/download.py:32: MarkupResemblesLocatorWarning: The input looks more like a filename than markup. You may want to open this file and pass the filehandle into Beautiful Soup.\n",
      "  soup = bs4.BeautifulSoup(line, features=\"html.parser\")\n",
      "Failed to retrieve file url:\n",
      "\n",
      "\tCannot retrieve the public link of the file. You may need to change\n",
      "\tthe permission to 'Anyone with the link', or have had many accesses.\n",
      "\tCheck FAQ in https://github.com/wkentaro/gdown?tab=readme-ov-file#faq.\n",
      "\n",
      "You may still be able to access the file from the browser:\n",
      "\n",
      "\thttps://drive.google.com/uc?id=14rVgSzXej39L4R_UPUUBUqMjxAbsk4ma\n",
      "\n",
      "but Gdown can't. Please check connections and permissions.\n",
      "/home/zeus/miniconda3/envs/cloudspace/lib/python3.10/site-packages/gdown/download.py:32: MarkupResemblesLocatorWarning: The input looks more like a filename than markup. You may want to open this file and pass the filehandle into Beautiful Soup.\n",
      "  soup = bs4.BeautifulSoup(line, features=\"html.parser\")\n",
      "Failed to retrieve file url:\n",
      "\n",
      "\tCannot retrieve the public link of the file. You may need to change\n",
      "\tthe permission to 'Anyone with the link', or have had many accesses.\n",
      "\tCheck FAQ in https://github.com/wkentaro/gdown?tab=readme-ov-file#faq.\n",
      "\n",
      "You may still be able to access the file from the browser:\n",
      "\n",
      "\thttps://drive.google.com/uc?id=1cuA1wbJpO2uIBWR1gmxIYn-tl6zd3Qsy\n",
      "\n",
      "but Gdown can't. Please check connections and permissions.\n"
     ]
    }
   ],
   "source": [
    "download({'/content/drive/MyDrive/Training_Medicinal_Plants/network/backbone/__init__.py': '1II2b1lsjkzmzCai-cieb_btRkib8bAVC',\n",
    " '/content/drive/MyDrive/Training_Medicinal_Plants/network/backbone/resnet.py': '1qzwPRCB0_sYQa5OYEaQ7mSOUAjl_kVLw',\n",
    " '/content/drive/MyDrive/Training_Medicinal_Plants/network/backbone/hrnetv2.py': '1M211W9BuigoLjmXaUclJgTtONKTI0xpf',\n",
    " '/content/drive/MyDrive/Training_Medicinal_Plants/network/backbone/xception.py': '1VaJC-6uo0CEjT5s1Q9y5JCQ3y6rXJG0u',\n",
    " '/content/drive/MyDrive/Training_Medicinal_Plants/network/backbone/mobilenetv2.py': '1yNWEOomSizGVPywN6KQpB7W5vq78lGAy',\n",
    " '/content/drive/MyDrive/Training_Medicinal_Plants/network/backbone/.ipynb_checkpoints': '14rVgSzXej39L4R_UPUUBUqMjxAbsk4ma',\n",
    " '/content/drive/MyDrive/Training_Medicinal_Plants/network/backbone/__pycache__': '1cuA1wbJpO2uIBWR1gmxIYn-tl6zd3Qsy'})"
   ]
  },
  {
   "cell_type": "code",
   "execution_count": 20,
   "id": "7fad92a4-e8d7-4610-ada8-351323d738bd",
   "metadata": {},
   "outputs": [
    {
     "name": "stdout",
     "output_type": "stream",
     "text": [
      "Downloading...\n",
      "From (original): https://drive.google.com/uc?id=1LC_4IToxZTVoXdwwoqIVlCddXjZCrJD9\n",
      "From (redirected): https://drive.google.com/uc?id=1LC_4IToxZTVoXdwwoqIVlCddXjZCrJD9&confirm=t&uuid=264295d7-884f-4e3b-9353-bbcfb2c2adab\n",
      "To: /teamspace/studios/this_studio/Deeplab/network/__pycache__/__init__.cpython-310.pyc\n",
      "100%|██████████████████████████████████████████| 294/294 [00:00<00:00, 1.56MB/s]\n",
      "Downloading...\n",
      "From (original): https://drive.google.com/uc?id=1Fd04r9csV381DuK9xQIDBV9ux47f7vhp\n",
      "From (redirected): https://drive.google.com/uc?id=1Fd04r9csV381DuK9xQIDBV9ux47f7vhp&confirm=t&uuid=e7c13f52-4397-4755-a1b2-720dd986c979\n",
      "To: /teamspace/studios/this_studio/Deeplab/network/__pycache__/modeling.cpython-310.pyc\n",
      "100%|██████████████████████████████████████| 6.53k/6.53k [00:00<00:00, 30.2MB/s]\n",
      "Downloading...\n",
      "From (original): https://drive.google.com/uc?id=1DfX3z3ehbE1YYsbtR83DS4uSNIyv2FG4\n",
      "From (redirected): https://drive.google.com/uc?id=1DfX3z3ehbE1YYsbtR83DS4uSNIyv2FG4&confirm=t&uuid=76583244-8833-4c78-b4df-f81395bab35b\n",
      "To: /teamspace/studios/this_studio/Deeplab/network/__pycache__/utils.cpython-310.pyc\n",
      "100%|██████████████████████████████████████| 4.36k/4.36k [00:00<00:00, 21.3MB/s]\n",
      "Downloading...\n",
      "From (original): https://drive.google.com/uc?id=1XOikbK597G4tyYX2bmn4yBAX1Y5awAxo\n",
      "From (redirected): https://drive.google.com/uc?id=1XOikbK597G4tyYX2bmn4yBAX1Y5awAxo&confirm=t&uuid=47fb6cb4-0c1f-4d17-824a-1ab94b4409b7\n",
      "To: /teamspace/studios/this_studio/Deeplab/network/__pycache__/_deeplab.cpython-310.pyc\n",
      "100%|██████████████████████████████████████| 6.47k/6.47k [00:00<00:00, 23.4MB/s]\n"
     ]
    }
   ],
   "source": [
    "download({'/content/drive/MyDrive/Training_Medicinal_Plants/network/__pycache__/__init__.cpython-310.pyc': '1LC_4IToxZTVoXdwwoqIVlCddXjZCrJD9',\n",
    " '/content/drive/MyDrive/Training_Medicinal_Plants/network/__pycache__/modeling.cpython-310.pyc': '1Fd04r9csV381DuK9xQIDBV9ux47f7vhp',\n",
    " '/content/drive/MyDrive/Training_Medicinal_Plants/network/__pycache__/utils.cpython-310.pyc': '1DfX3z3ehbE1YYsbtR83DS4uSNIyv2FG4',\n",
    " '/content/drive/MyDrive/Training_Medicinal_Plants/network/__pycache__/_deeplab.cpython-310.pyc': '1XOikbK597G4tyYX2bmn4yBAX1Y5awAxo'})"
   ]
  },
  {
   "cell_type": "code",
   "execution_count": 21,
   "id": "ea561772-3d8a-4d01-a75e-6c64cc7e5aca",
   "metadata": {},
   "outputs": [
    {
     "name": "stdout",
     "output_type": "stream",
     "text": [
      "Downloading...\n",
      "From (original): https://drive.google.com/uc?id=1WF10Jf1EWEnyt4eDEls6g9-QHt29AjuV\n",
      "From (redirected): https://drive.google.com/uc?id=1WF10Jf1EWEnyt4eDEls6g9-QHt29AjuV&confirm=t&uuid=18f21ef8-d136-4d35-ac25-db67b3a5e53d\n",
      "To: /teamspace/studios/this_studio/Deeplab/network/.ipynb_checkpoints/modeling-checkpoint.py\n",
      "100%|██████████████████████████████████████| 9.89k/9.89k [00:00<00:00, 42.7MB/s]\n",
      "Downloading...\n",
      "From (original): https://drive.google.com/uc?id=11g3PRT-fRI1b3e2zj7R_O6Vw2ufIixBs\n",
      "From (redirected): https://drive.google.com/uc?id=11g3PRT-fRI1b3e2zj7R_O6Vw2ufIixBs&confirm=t&uuid=7fc3abfb-d30c-489e-86f5-3a3225537016\n",
      "To: /teamspace/studios/this_studio/Deeplab/network/.ipynb_checkpoints/__init__-checkpoint.py\n",
      "100%|█████████████████████████████████████████| 71.0/71.0 [00:00<00:00, 480kB/s]\n",
      "Downloading...\n",
      "From (original): https://drive.google.com/uc?id=1C6_cqIKR2rKHfh4QN2-Ocib2bEyXvuzt\n",
      "From (redirected): https://drive.google.com/uc?id=1C6_cqIKR2rKHfh4QN2-Ocib2bEyXvuzt&confirm=t&uuid=d775e82b-9c10-4e36-96ef-58e45042e512\n",
      "To: /teamspace/studios/this_studio/Deeplab/network/.ipynb_checkpoints/_deeplab-checkpoint.py\n",
      "100%|██████████████████████████████████████| 6.71k/6.71k [00:00<00:00, 27.8MB/s]\n",
      "Downloading...\n",
      "From (original): https://drive.google.com/uc?id=15SDCcmiXgSRBNy0rSei7y82DAB2qfM6Y\n",
      "From (redirected): https://drive.google.com/uc?id=15SDCcmiXgSRBNy0rSei7y82DAB2qfM6Y&confirm=t&uuid=cf0d3b95-af76-4aff-b650-faf0cc43cf4a\n",
      "To: /teamspace/studios/this_studio/Deeplab/network/.ipynb_checkpoints/utils-checkpoint.py\n",
      "100%|██████████████████████████████████████| 4.57k/4.57k [00:00<00:00, 21.5MB/s]\n"
     ]
    }
   ],
   "source": [
    "download({'/content/drive/MyDrive/Training_Medicinal_Plants/network/.ipynb_checkpoints/modeling-checkpoint.py': '1WF10Jf1EWEnyt4eDEls6g9-QHt29AjuV',\n",
    " '/content/drive/MyDrive/Training_Medicinal_Plants/network/.ipynb_checkpoints/__init__-checkpoint.py': '11g3PRT-fRI1b3e2zj7R_O6Vw2ufIixBs',\n",
    " '/content/drive/MyDrive/Training_Medicinal_Plants/network/.ipynb_checkpoints/_deeplab-checkpoint.py': '1C6_cqIKR2rKHfh4QN2-Ocib2bEyXvuzt',\n",
    " '/content/drive/MyDrive/Training_Medicinal_Plants/network/.ipynb_checkpoints/utils-checkpoint.py': '15SDCcmiXgSRBNy0rSei7y82DAB2qfM6Y'})"
   ]
  },
  {
   "cell_type": "code",
   "execution_count": 22,
   "id": "c379d458-7743-4b6d-8479-0b9ff14980a7",
   "metadata": {},
   "outputs": [],
   "source": [
    "os.chdir('/teamspace/studios/this_studio/Deeplab/network/backbone')"
   ]
  },
  {
   "cell_type": "code",
   "execution_count": 23,
   "id": "3fc7eb25-9fce-4b9e-9eed-a172f2745100",
   "metadata": {},
   "outputs": [
    {
     "name": "stdout",
     "output_type": "stream",
     "text": [
      "Downloading...\n",
      "From (original): https://drive.google.com/uc?id=1RZ1bxPmz6TtQrZnuuDZ0ZbA7XM26-B1C\n",
      "From (redirected): https://drive.google.com/uc?id=1RZ1bxPmz6TtQrZnuuDZ0ZbA7XM26-B1C&confirm=t&uuid=2bb7d647-86e8-44e6-bc20-158885a07f20\n",
      "To: /teamspace/studios/this_studio/Deeplab/network/backbone/__pycache__/__init__.cpython-310.pyc\n",
      "100%|██████████████████████████████████████████| 346/346 [00:00<00:00, 2.30MB/s]\n",
      "Downloading...\n",
      "From (original): https://drive.google.com/uc?id=1NMQWjG5zz54SOIEvfUk080QWFXoS5WBR\n",
      "From (redirected): https://drive.google.com/uc?id=1NMQWjG5zz54SOIEvfUk080QWFXoS5WBR&confirm=t&uuid=9efbf774-ecec-43b7-8b71-f43c0c9ad4a8\n",
      "To: /teamspace/studios/this_studio/Deeplab/network/backbone/__pycache__/resnet.cpython-310.pyc\n",
      "100%|██████████████████████████████████████| 10.8k/10.8k [00:00<00:00, 44.9MB/s]\n",
      "Downloading...\n",
      "From (original): https://drive.google.com/uc?id=1Kew6KfILwZKpN_FQgC0a90DdoNjRhFwf\n",
      "From (redirected): https://drive.google.com/uc?id=1Kew6KfILwZKpN_FQgC0a90DdoNjRhFwf&confirm=t&uuid=69efff91-9bd5-47f1-a527-296b8efc5ac5\n",
      "To: /teamspace/studios/this_studio/Deeplab/network/backbone/__pycache__/mobilenetv2.cpython-310.pyc\n",
      "100%|██████████████████████████████████████| 5.76k/5.76k [00:00<00:00, 28.7MB/s]\n",
      "Downloading...\n",
      "From (original): https://drive.google.com/uc?id=1TS16cujAV6Xd9p0nU_U7NG99NkIR8B8V\n",
      "From (redirected): https://drive.google.com/uc?id=1TS16cujAV6Xd9p0nU_U7NG99NkIR8B8V&confirm=t&uuid=1331be69-c520-47e1-a2d8-90aab105e405\n",
      "To: /teamspace/studios/this_studio/Deeplab/network/backbone/__pycache__/hrnetv2.cpython-310.pyc\n",
      "100%|██████████████████████████████████████| 8.80k/8.80k [00:00<00:00, 41.4MB/s]\n",
      "Downloading...\n",
      "From (original): https://drive.google.com/uc?id=1PcAI_hliEej5nrhKhJSy9xfU5D5UlrxO\n",
      "From (redirected): https://drive.google.com/uc?id=1PcAI_hliEej5nrhKhJSy9xfU5D5UlrxO&confirm=t&uuid=47a224ff-143a-4964-a1c8-01a18038d140\n",
      "To: /teamspace/studios/this_studio/Deeplab/network/backbone/__pycache__/xception.cpython-310.pyc\n",
      "100%|██████████████████████████████████████| 6.83k/6.83k [00:00<00:00, 28.4MB/s]\n",
      "Downloading...\n",
      "From (original): https://drive.google.com/uc?id=13TdJK7KBp9UEBWuYkjQh2f_zipo1jdU0\n",
      "From (redirected): https://drive.google.com/uc?id=13TdJK7KBp9UEBWuYkjQh2f_zipo1jdU0&confirm=t&uuid=bb0fd38b-773b-468a-a8f5-754077c9f748\n",
      "To: /teamspace/studios/this_studio/Deeplab/network/backbone/__pycache__/__init__.cpython-310.pyc\n",
      "100%|██████████████████████████████████████████| 346/346 [00:00<00:00, 2.04MB/s]\n",
      "Downloading...\n",
      "From (original): https://drive.google.com/uc?id=1wU75IsG7rae3hLLDG4JlsEj1staIWuJz\n",
      "From (redirected): https://drive.google.com/uc?id=1wU75IsG7rae3hLLDG4JlsEj1staIWuJz&confirm=t&uuid=b6bb5784-8642-46c2-a7f5-f01a3c21d0a3\n",
      "To: /teamspace/studios/this_studio/Deeplab/network/backbone/__pycache__/resnet.cpython-310.pyc\n",
      "100%|██████████████████████████████████████| 10.8k/10.8k [00:00<00:00, 44.2MB/s]\n",
      "Downloading...\n",
      "From (original): https://drive.google.com/uc?id=1-YDokoBRU5ISbeyP44lK2V4Bm_YpnsHU\n",
      "From (redirected): https://drive.google.com/uc?id=1-YDokoBRU5ISbeyP44lK2V4Bm_YpnsHU&confirm=t&uuid=38e6e54f-c8f1-4a88-9772-1dbd93640c63\n",
      "To: /teamspace/studios/this_studio/Deeplab/network/backbone/__pycache__/mobilenetv2.cpython-310.pyc\n",
      "100%|██████████████████████████████████████| 5.76k/5.76k [00:00<00:00, 28.3MB/s]\n",
      "Downloading...\n",
      "From (original): https://drive.google.com/uc?id=1xWG59UrqI3tBZ7PjnJv-pLfN08RyoEaU\n",
      "From (redirected): https://drive.google.com/uc?id=1xWG59UrqI3tBZ7PjnJv-pLfN08RyoEaU&confirm=t&uuid=62cc437b-e9f3-49a4-b1a7-def97e270634\n",
      "To: /teamspace/studios/this_studio/Deeplab/network/backbone/__pycache__/hrnetv2.cpython-310.pyc\n",
      "100%|██████████████████████████████████████| 8.80k/8.80k [00:00<00:00, 33.8MB/s]\n",
      "Downloading...\n",
      "From (original): https://drive.google.com/uc?id=1YBSbK8sU2tOQlIkSsDtDwKrUefqw3a2E\n",
      "From (redirected): https://drive.google.com/uc?id=1YBSbK8sU2tOQlIkSsDtDwKrUefqw3a2E&confirm=t&uuid=5d2f2560-0b87-4aa3-bc44-a66e08b4769f\n",
      "To: /teamspace/studios/this_studio/Deeplab/network/backbone/__pycache__/xception.cpython-310.pyc\n",
      "100%|██████████████████████████████████████| 6.83k/6.83k [00:00<00:00, 30.4MB/s]\n"
     ]
    }
   ],
   "source": [
    "download({'/content/drive/MyDrive/Training_Medicinal_Plants/network/backbone/__pycache__/__init__ (1).cpython-310.pyc': '1RZ1bxPmz6TtQrZnuuDZ0ZbA7XM26-B1C',\n",
    " '/content/drive/MyDrive/Training_Medicinal_Plants/network/backbone/__pycache__/resnet (1).cpython-310.pyc': '1NMQWjG5zz54SOIEvfUk080QWFXoS5WBR',\n",
    " '/content/drive/MyDrive/Training_Medicinal_Plants/network/backbone/__pycache__/mobilenetv2 (1).cpython-310.pyc': '1Kew6KfILwZKpN_FQgC0a90DdoNjRhFwf',\n",
    " '/content/drive/MyDrive/Training_Medicinal_Plants/network/backbone/__pycache__/hrnetv2 (1).cpython-310.pyc': '1TS16cujAV6Xd9p0nU_U7NG99NkIR8B8V',\n",
    " '/content/drive/MyDrive/Training_Medicinal_Plants/network/backbone/__pycache__/xception (1).cpython-310.pyc': '1PcAI_hliEej5nrhKhJSy9xfU5D5UlrxO',\n",
    " '/content/drive/MyDrive/Training_Medicinal_Plants/network/backbone/__pycache__/__init__.cpython-310.pyc': '13TdJK7KBp9UEBWuYkjQh2f_zipo1jdU0',\n",
    " '/content/drive/MyDrive/Training_Medicinal_Plants/network/backbone/__pycache__/resnet.cpython-310.pyc': '1wU75IsG7rae3hLLDG4JlsEj1staIWuJz',\n",
    " '/content/drive/MyDrive/Training_Medicinal_Plants/network/backbone/__pycache__/mobilenetv2.cpython-310.pyc': '1-YDokoBRU5ISbeyP44lK2V4Bm_YpnsHU',\n",
    " '/content/drive/MyDrive/Training_Medicinal_Plants/network/backbone/__pycache__/hrnetv2.cpython-310.pyc': '1xWG59UrqI3tBZ7PjnJv-pLfN08RyoEaU',\n",
    " '/content/drive/MyDrive/Training_Medicinal_Plants/network/backbone/__pycache__/xception.cpython-310.pyc': '1YBSbK8sU2tOQlIkSsDtDwKrUefqw3a2E'})"
   ]
  },
  {
   "cell_type": "code",
   "execution_count": 24,
   "id": "f7971765-1617-412e-afa7-a9ae66204994",
   "metadata": {},
   "outputs": [
    {
     "name": "stdout",
     "output_type": "stream",
     "text": [
      "Downloading...\n",
      "From (original): https://drive.google.com/uc?id=1Musm_T4XKltfg85y5juw_oGt2xsrU-85\n",
      "From (redirected): https://drive.google.com/uc?id=1Musm_T4XKltfg85y5juw_oGt2xsrU-85&confirm=t&uuid=0c33b8fa-7f40-41b0-9e69-c580d553c02e\n",
      "To: /teamspace/studios/this_studio/Deeplab/network/backbone/.ipynb_checkpoints/mobilenetv2-checkpoint.py\n",
      "100%|██████████████████████████████████████| 7.04k/7.04k [00:00<00:00, 30.4MB/s]\n"
     ]
    }
   ],
   "source": [
    "download({'/content/drive/MyDrive/Training_Medicinal_Plants/network/backbone/.ipynb_checkpoints/mobilenetv2-checkpoint.py': '1Musm_T4XKltfg85y5juw_oGt2xsrU-85'})"
   ]
  },
  {
   "cell_type": "code",
   "execution_count": 25,
   "id": "6d533f5f-7185-448a-96a6-628a04909126",
   "metadata": {},
   "outputs": [],
   "source": [
    "os.chdir('/teamspace/studios/this_studio/Deeplab')"
   ]
  },
  {
   "cell_type": "code",
   "execution_count": 26,
   "id": "1adf11d0-e1a4-4e18-99df-c398105da290",
   "metadata": {},
   "outputs": [
    {
     "name": "stdout",
     "output_type": "stream",
     "text": [
      "Downloading...\n",
      "From (original): https://drive.google.com/uc?id=110aXCZZ_lxygqQjdndiadd7crpa5yBS_\n",
      "From (redirected): https://drive.google.com/uc?id=110aXCZZ_lxygqQjdndiadd7crpa5yBS_&confirm=t&uuid=e5124e53-83b2-497c-86b9-5ada95c542af\n",
      "To: /teamspace/studios/this_studio/Deeplab/metrics/stream_metrics.py\n",
      "100%|██████████████████████████████████████| 3.35k/3.35k [00:00<00:00, 20.2MB/s]\n",
      "Downloading...\n",
      "From (original): https://drive.google.com/uc?id=1CscJ74-ixUGL8mDIjeOCorKlKZ7dyLIF\n",
      "From (redirected): https://drive.google.com/uc?id=1CscJ74-ixUGL8mDIjeOCorKlKZ7dyLIF&confirm=t&uuid=a5d3d42d-0d53-4e1c-bf91-9cb0837e4f37\n",
      "To: /teamspace/studios/this_studio/Deeplab/metrics/__init__.py\n",
      "100%|███████████████████████████████████████████| 105/105 [00:00<00:00, 689kB/s]\n",
      "Downloading...\n",
      "From (original): https://drive.google.com/uc?id=11GJ7NXzlKlXbzyHLFGKyOYMSgmUzlbw3\n",
      "From (redirected): https://drive.google.com/uc?id=11GJ7NXzlKlXbzyHLFGKyOYMSgmUzlbw3&confirm=t&uuid=ad1a3531-a0e8-4b9e-8b1e-a2849b074fbd\n",
      "To: /teamspace/studios/this_studio/Deeplab/metrics/Binary_metrics.py\n",
      "100%|██████████████████████████████████████| 2.30k/2.30k [00:00<00:00, 14.4MB/s]\n",
      "/home/zeus/miniconda3/envs/cloudspace/lib/python3.10/site-packages/gdown/download.py:32: MarkupResemblesLocatorWarning: The input looks more like a filename than markup. You may want to open this file and pass the filehandle into Beautiful Soup.\n",
      "  soup = bs4.BeautifulSoup(line, features=\"html.parser\")\n",
      "Failed to retrieve file url:\n",
      "\n",
      "\tCannot retrieve the public link of the file. You may need to change\n",
      "\tthe permission to 'Anyone with the link', or have had many accesses.\n",
      "\tCheck FAQ in https://github.com/wkentaro/gdown?tab=readme-ov-file#faq.\n",
      "\n",
      "You may still be able to access the file from the browser:\n",
      "\n",
      "\thttps://drive.google.com/uc?id=1tfKLcTCe4T93H_wvk1RVKTlHN4u2SwRB\n",
      "\n",
      "but Gdown can't. Please check connections and permissions.\n",
      "/home/zeus/miniconda3/envs/cloudspace/lib/python3.10/site-packages/gdown/download.py:32: MarkupResemblesLocatorWarning: The input looks more like a filename than markup. You may want to open this file and pass the filehandle into Beautiful Soup.\n",
      "  soup = bs4.BeautifulSoup(line, features=\"html.parser\")\n",
      "Failed to retrieve file url:\n",
      "\n",
      "\tCannot retrieve the public link of the file. You may need to change\n",
      "\tthe permission to 'Anyone with the link', or have had many accesses.\n",
      "\tCheck FAQ in https://github.com/wkentaro/gdown?tab=readme-ov-file#faq.\n",
      "\n",
      "You may still be able to access the file from the browser:\n",
      "\n",
      "\thttps://drive.google.com/uc?id=1gmTWKhej9J4iIbh231iiJyu9p4gSwu63\n",
      "\n",
      "but Gdown can't. Please check connections and permissions.\n"
     ]
    }
   ],
   "source": [
    "download({'/content/drive/MyDrive/Training_Medicinal_Plants/metrics/stream_metrics.py': '110aXCZZ_lxygqQjdndiadd7crpa5yBS_',\n",
    " '/content/drive/MyDrive/Training_Medicinal_Plants/metrics/__init__.py': '1CscJ74-ixUGL8mDIjeOCorKlKZ7dyLIF',\n",
    " '/content/drive/MyDrive/Training_Medicinal_Plants/metrics/Binary_metrics.py': '11GJ7NXzlKlXbzyHLFGKyOYMSgmUzlbw3',\n",
    " '/content/drive/MyDrive/Training_Medicinal_Plants/metrics/__pycache__': '1tfKLcTCe4T93H_wvk1RVKTlHN4u2SwRB',\n",
    " '/content/drive/MyDrive/Training_Medicinal_Plants/metrics/.ipynb_checkpoints': '1gmTWKhej9J4iIbh231iiJyu9p4gSwu63'})"
   ]
  },
  {
   "cell_type": "code",
   "execution_count": 27,
   "id": "c54a1adf-41bc-4554-8bb4-d03917c0f1f4",
   "metadata": {},
   "outputs": [],
   "source": [
    "os.chdir('/teamspace/studios/this_studio/Deeplab/metrics')"
   ]
  },
  {
   "cell_type": "code",
   "execution_count": 28,
   "id": "5c08fb1a-208e-4d7f-b090-1f7877b58bc2",
   "metadata": {},
   "outputs": [
    {
     "name": "stdout",
     "output_type": "stream",
     "text": [
      "Downloading...\n",
      "From (original): https://drive.google.com/uc?id=1xhBeAcEN_7QAxtnT1WKUrZ2qFoCxY_Uh\n",
      "From (redirected): https://drive.google.com/uc?id=1xhBeAcEN_7QAxtnT1WKUrZ2qFoCxY_Uh&confirm=t&uuid=3506c8c3-d8ac-4e1e-a360-166410a919da\n",
      "To: /teamspace/studios/this_studio/Deeplab/metrics/.ipynb_checkpoints/Binary_metrics-checkpoint.py\n",
      "100%|██████████████████████████████████████| 2.30k/2.30k [00:00<00:00, 12.5MB/s]\n"
     ]
    }
   ],
   "source": [
    "download({'/content/drive/MyDrive/Training_Medicinal_Plants/metrics/.ipynb_checkpoints/Binary_metrics-checkpoint.py': '1xhBeAcEN_7QAxtnT1WKUrZ2qFoCxY_Uh'})"
   ]
  },
  {
   "cell_type": "code",
   "execution_count": 29,
   "id": "93aff287-3a5a-4d3c-98a7-a837f6635375",
   "metadata": {},
   "outputs": [
    {
     "name": "stdout",
     "output_type": "stream",
     "text": [
      "Downloading...\n",
      "From (original): https://drive.google.com/uc?id=1Dlq-imB2MOkSAf1Gwofw1WO_BiPUuZZv\n",
      "From (redirected): https://drive.google.com/uc?id=1Dlq-imB2MOkSAf1Gwofw1WO_BiPUuZZv&confirm=t&uuid=20b5400b-45b1-41bc-a76f-60a501106c08\n",
      "To: /teamspace/studios/this_studio/Deeplab/metrics/__pycache__/BCE_metrics.cpython-310.pyc\n",
      "100%|██████████████████████████████████████| 2.21k/2.21k [00:00<00:00, 12.4MB/s]\n",
      "Downloading...\n",
      "From (original): https://drive.google.com/uc?id=1PnCQCSy3JJTDojeTdICZi0BFbtV8TAwP\n",
      "From (redirected): https://drive.google.com/uc?id=1PnCQCSy3JJTDojeTdICZi0BFbtV8TAwP&confirm=t&uuid=79079926-242f-44f4-89f6-19cebe9236ff\n",
      "To: /teamspace/studios/this_studio/Deeplab/metrics/__pycache__/__init__.cpython-310.pyc\n",
      "100%|██████████████████████████████████████████| 344/344 [00:00<00:00, 2.10MB/s]\n",
      "Downloading...\n",
      "From (original): https://drive.google.com/uc?id=1CkpOpCAB-k9UkRBCo9JBEpJlBOnIh6qy\n",
      "From (redirected): https://drive.google.com/uc?id=1CkpOpCAB-k9UkRBCo9JBEpJlBOnIh6qy&confirm=t&uuid=1876ba6c-7432-4629-8a89-1d09adc2aa22\n",
      "To: /teamspace/studios/this_studio/Deeplab/metrics/__pycache__/stream_metrics.cpython-310.pyc\n",
      "100%|██████████████████████████████████████| 4.19k/4.19k [00:00<00:00, 18.9MB/s]\n",
      "Downloading...\n",
      "From (original): https://drive.google.com/uc?id=1Eo6ITwQHovGZGv7TFGJtKMpZYu043-9G\n",
      "From (redirected): https://drive.google.com/uc?id=1Eo6ITwQHovGZGv7TFGJtKMpZYu043-9G&confirm=t&uuid=43a960cb-611b-4b20-ac71-008bd72a2c55\n",
      "To: /teamspace/studios/this_studio/Deeplab/metrics/__pycache__/Binary_metrics.cpython-310.pyc\n",
      "100%|██████████████████████████████████████| 2.29k/2.29k [00:00<00:00, 13.9MB/s]\n"
     ]
    }
   ],
   "source": [
    "download({'/content/drive/MyDrive/Training_Medicinal_Plants/metrics/__pycache__/BCE_metrics.cpython-310.pyc': '1Dlq-imB2MOkSAf1Gwofw1WO_BiPUuZZv',\n",
    " '/content/drive/MyDrive/Training_Medicinal_Plants/metrics/__pycache__/__init__.cpython-310.pyc': '1PnCQCSy3JJTDojeTdICZi0BFbtV8TAwP',\n",
    " '/content/drive/MyDrive/Training_Medicinal_Plants/metrics/__pycache__/stream_metrics.cpython-310.pyc': '1CkpOpCAB-k9UkRBCo9JBEpJlBOnIh6qy',\n",
    " '/content/drive/MyDrive/Training_Medicinal_Plants/metrics/__pycache__/Binary_metrics.cpython-310.pyc': '1Eo6ITwQHovGZGv7TFGJtKMpZYu043-9G'})"
   ]
  },
  {
   "cell_type": "code",
   "execution_count": 30,
   "id": "74383629-2a32-4f0f-b8a7-d362f116dd73",
   "metadata": {},
   "outputs": [],
   "source": [
    "os.chdir('/teamspace/studios/this_studio/Deeplab')"
   ]
  },
  {
   "cell_type": "code",
   "execution_count": 31,
   "id": "ba2ad1f4-87ad-4c45-b9e3-0371218635c5",
   "metadata": {},
   "outputs": [
    {
     "name": "stdout",
     "output_type": "stream",
     "text": [
      "Downloading...\n",
      "From: https://drive.google.com/uc?id=1g8Lrh7tVfcftOwvHz_uaNxmaWSjGTBn1\n",
      "To: /teamspace/studios/this_studio/Deeplab/logs/log_bce+depthwise.txt\n",
      "100%|██████████████████████████████████████| 5.82k/5.82k [00:00<00:00, 25.9MB/s]\n",
      "Downloading...\n",
      "From: https://drive.google.com/uc?id=1E45dOmyIe0RKYJkIEWKsoP9usvLhQvBV\n",
      "To: /teamspace/studios/this_studio/Deeplab/logs/log_binaryFocal.txt\n",
      "100%|██████████████████████████████████████| 6.33k/6.33k [00:00<00:00, 22.2MB/s]\n",
      "Downloading...\n",
      "From: https://drive.google.com/uc?id=18zdc_ok13Rf62LHUMWvIpO-StAPEfy63\n",
      "To: /teamspace/studios/this_studio/Deeplab/logs/log_binaryFocal+depthwise.txt\n",
      "100%|██████████████████████████████████████| 6.33k/6.33k [00:00<00:00, 24.7MB/s]\n",
      "Downloading...\n",
      "From: https://drive.google.com/uc?id=1x9G8QOyGDkJlPyfgQdJInONt1cNQoCKd\n",
      "To: /teamspace/studios/this_studio/Deeplab/logs/log_bce.txt\n",
      "100%|██████████████████████████████████████| 3.58k/3.58k [00:00<00:00, 21.4MB/s]\n",
      "Downloading...\n",
      "From: https://drive.google.com/uc?id=10chs5mPw53RYidYblXkQT2eEeGxLnz1h\n",
      "To: /teamspace/studios/this_studio/Deeplab/logs/log_PV_Sub_bce.txt\n",
      "100%|██████████████████████████████████████| 6.30k/6.30k [00:00<00:00, 23.3MB/s]\n",
      "Downloading...\n",
      "From: https://drive.google.com/uc?id=1FCGFeLeQILPlAY93tcVMBXwMGSsheIKA\n",
      "To: /teamspace/studios/this_studio/Deeplab/logs/log_PV_Sub_bce+depthwise.txt\n",
      "100%|██████████████████████████████████████| 6.35k/6.35k [00:00<00:00, 18.7MB/s]\n",
      "/home/zeus/miniconda3/envs/cloudspace/lib/python3.10/site-packages/gdown/download.py:32: MarkupResemblesLocatorWarning: The input looks more like a filename than markup. You may want to open this file and pass the filehandle into Beautiful Soup.\n",
      "  soup = bs4.BeautifulSoup(line, features=\"html.parser\")\n",
      "Failed to retrieve file url:\n",
      "\n",
      "\tCannot retrieve the public link of the file. You may need to change\n",
      "\tthe permission to 'Anyone with the link', or have had many accesses.\n",
      "\tCheck FAQ in https://github.com/wkentaro/gdown?tab=readme-ov-file#faq.\n",
      "\n",
      "You may still be able to access the file from the browser:\n",
      "\n",
      "\thttps://drive.google.com/uc?id=1dqSk3h_SxJ_ZmDVkTzN0NvzYysgemn68\n",
      "\n",
      "but Gdown can't. Please check connections and permissions.\n"
     ]
    }
   ],
   "source": [
    "download({'/content/drive/MyDrive/Training_Medicinal_Plants/logs/log_bce+depthwise.txt': '1g8Lrh7tVfcftOwvHz_uaNxmaWSjGTBn1',\n",
    " '/content/drive/MyDrive/Training_Medicinal_Plants/logs/log_binaryFocal.txt': '1E45dOmyIe0RKYJkIEWKsoP9usvLhQvBV',\n",
    " '/content/drive/MyDrive/Training_Medicinal_Plants/logs/log_binaryFocal+depthwise.txt': '18zdc_ok13Rf62LHUMWvIpO-StAPEfy63',\n",
    " '/content/drive/MyDrive/Training_Medicinal_Plants/logs/log_bce.txt': '1x9G8QOyGDkJlPyfgQdJInONt1cNQoCKd',\n",
    " '/content/drive/MyDrive/Training_Medicinal_Plants/logs/log_PV_Sub_bce.txt': '10chs5mPw53RYidYblXkQT2eEeGxLnz1h',\n",
    " '/content/drive/MyDrive/Training_Medicinal_Plants/logs/log_PV_Sub_bce+depthwise.txt': '1FCGFeLeQILPlAY93tcVMBXwMGSsheIKA',\n",
    " '/content/drive/MyDrive/Training_Medicinal_Plants/logs/.ipynb_checkpoints': '1dqSk3h_SxJ_ZmDVkTzN0NvzYysgemn68'})"
   ]
  },
  {
   "cell_type": "code",
   "execution_count": 32,
   "id": "859ed65a-9171-4438-acd5-0e08d9f1dfcc",
   "metadata": {},
   "outputs": [],
   "source": [
    "os.chdir('/teamspace/studios/this_studio/Deeplab/logs')"
   ]
  },
  {
   "cell_type": "code",
   "execution_count": 33,
   "id": "057c51da-8b22-4d72-be65-24c3031020b6",
   "metadata": {},
   "outputs": [
    {
     "name": "stdout",
     "output_type": "stream",
     "text": [
      "Downloading...\n",
      "From: https://drive.google.com/uc?id=1DWstf4Yrqrk_4qu-njbSkNInFnVzPi0-\n",
      "To: /teamspace/studios/this_studio/Deeplab/logs/.ipynb_checkpoints/log_PV_Sub_bce+depthwise-checkpoint.txt\n",
      "100%|██████████████████████████████████████| 6.35k/6.35k [00:00<00:00, 26.1MB/s]\n"
     ]
    }
   ],
   "source": [
    "download({'/content/drive/MyDrive/Training_Medicinal_Plants/logs/.ipynb_checkpoints/log_PV_Sub_bce+depthwise-checkpoint.txt': '1DWstf4Yrqrk_4qu-njbSkNInFnVzPi0-'})"
   ]
  },
  {
   "cell_type": "code",
   "execution_count": 34,
   "id": "dffd6abf-52fb-4e2e-b24e-0e3a61059c4a",
   "metadata": {},
   "outputs": [],
   "source": [
    "os.chdir('/teamspace/studios/this_studio/Deeplab')"
   ]
  },
  {
   "cell_type": "code",
   "execution_count": 35,
   "id": "e47eb96e-6eea-4e9e-9986-3edeb3158137",
   "metadata": {},
   "outputs": [
    {
     "name": "stdout",
     "output_type": "stream",
     "text": [
      "Downloading...\n",
      "From: https://drive.google.com/uc?id=1kCSafqmIRvu2DQYNJxgKmvEk4uruVMCe\n",
      "To: /teamspace/studios/this_studio/Deeplab/checkpoints/best_deeplabv3plus_mobilenet_custom_os16.pth\n",
      "100%|███████████████████████████████████████| 21.5M/21.5M [00:00<00:00, 129MB/s]\n",
      "Downloading...\n",
      "From: https://drive.google.com/uc?id=1apOHZAPUWrrz0CBSVa8n8AkKrcElnY-Y\n",
      "To: /teamspace/studios/this_studio/Deeplab/checkpoints/latest_deeplabv3plus_mobilenet_custom_os16.pth\n",
      "100%|███████████████████████████████████████| 21.5M/21.5M [00:00<00:00, 115MB/s]\n"
     ]
    }
   ],
   "source": [
    "download({'/content/drive/MyDrive/Training_Medicinal_Plants/checkpoints/best_deeplabv3plus_mobilenet_custom_os16.pth': '1kCSafqmIRvu2DQYNJxgKmvEk4uruVMCe',\n",
    " '/content/drive/MyDrive/Training_Medicinal_Plants/checkpoints/latest_deeplabv3plus_mobilenet_custom_os16.pth': '1apOHZAPUWrrz0CBSVa8n8AkKrcElnY-Y'})"
   ]
  },
  {
   "cell_type": "code",
   "execution_count": 36,
   "id": "b6e0308e-e103-47d0-b3a6-329422b8b1a4",
   "metadata": {},
   "outputs": [
    {
     "name": "stdout",
     "output_type": "stream",
     "text": [
      "Downloading...\n",
      "From (original): https://drive.google.com/uc?id=1WAF0E3XbbFvnv0FSxB_NQDrg-kNRLakl\n",
      "From (redirected): https://drive.google.com/uc?id=1WAF0E3XbbFvnv0FSxB_NQDrg-kNRLakl&confirm=t&uuid=578820ff-f7c6-419a-b767-071b8c83d40d\n",
      "To: /teamspace/studios/this_studio/Deeplab/datasets/utils.py\n",
      "100%|██████████████████████████████████████| 3.80k/3.80k [00:00<00:00, 21.4MB/s]\n",
      "Downloading...\n",
      "From (original): https://drive.google.com/uc?id=1Rezn1Z-Hi2lfNAAsrTk_cH2p5oUJdaXX\n",
      "From (redirected): https://drive.google.com/uc?id=1Rezn1Z-Hi2lfNAAsrTk_cH2p5oUJdaXX&confirm=t&uuid=8171c1ee-d146-4b5f-8a2f-c18f25ace5d8\n",
      "To: /teamspace/studios/this_studio/Deeplab/datasets/cityscapes.py\n",
      "100%|██████████████████████████████████████| 8.37k/8.37k [00:00<00:00, 40.1MB/s]\n",
      "Downloading...\n",
      "From (original): https://drive.google.com/uc?id=1uAh92YcSeqb8EHb9T4YbXexv5w8Vo3i2\n",
      "From (redirected): https://drive.google.com/uc?id=1uAh92YcSeqb8EHb9T4YbXexv5w8Vo3i2&confirm=t&uuid=1640258c-8c92-4b4b-ac23-48607abc6ca6\n",
      "To: /teamspace/studios/this_studio/Deeplab/datasets/__init__.py\n",
      "100%|█████████████████████████████████████████| 97.0/97.0 [00:00<00:00, 618kB/s]\n",
      "Downloading...\n",
      "From (original): https://drive.google.com/uc?id=1DIFK610lq_CmlKS76nBeMjDfpg78pbVE\n",
      "From (redirected): https://drive.google.com/uc?id=1DIFK610lq_CmlKS76nBeMjDfpg78pbVE&confirm=t&uuid=5c1617ef-cb49-4523-9e5c-364df040cf79\n",
      "To: /teamspace/studios/this_studio/Deeplab/datasets/voc.py\n",
      "100%|██████████████████████████████████████| 6.06k/6.06k [00:00<00:00, 28.6MB/s]\n",
      "/home/zeus/miniconda3/envs/cloudspace/lib/python3.10/site-packages/gdown/download.py:32: MarkupResemblesLocatorWarning: The input looks more like a filename than markup. You may want to open this file and pass the filehandle into Beautiful Soup.\n",
      "  soup = bs4.BeautifulSoup(line, features=\"html.parser\")\n",
      "Failed to retrieve file url:\n",
      "\n",
      "\tCannot retrieve the public link of the file. You may need to change\n",
      "\tthe permission to 'Anyone with the link', or have had many accesses.\n",
      "\tCheck FAQ in https://github.com/wkentaro/gdown?tab=readme-ov-file#faq.\n",
      "\n",
      "You may still be able to access the file from the browser:\n",
      "\n",
      "\thttps://drive.google.com/uc?id=19tCSTfMY9XnHC0w3fkuscZ72n6nADnqu\n",
      "\n",
      "but Gdown can't. Please check connections and permissions.\n",
      "/home/zeus/miniconda3/envs/cloudspace/lib/python3.10/site-packages/gdown/download.py:32: MarkupResemblesLocatorWarning: The input looks more like a filename than markup. You may want to open this file and pass the filehandle into Beautiful Soup.\n",
      "  soup = bs4.BeautifulSoup(line, features=\"html.parser\")\n",
      "Failed to retrieve file url:\n",
      "\n",
      "\tCannot retrieve the public link of the file. You may need to change\n",
      "\tthe permission to 'Anyone with the link', or have had many accesses.\n",
      "\tCheck FAQ in https://github.com/wkentaro/gdown?tab=readme-ov-file#faq.\n",
      "\n",
      "You may still be able to access the file from the browser:\n",
      "\n",
      "\thttps://drive.google.com/uc?id=1JTSxFGOiskdTQ8Jnos6wHn2i-YSc6cTL\n",
      "\n",
      "but Gdown can't. Please check connections and permissions.\n",
      "Downloading...\n",
      "From (original): https://drive.google.com/uc?id=1ZW--wYrJGTPR6RvA-xFu8b7PVKsMF-Wu\n",
      "From (redirected): https://drive.google.com/uc?id=1ZW--wYrJGTPR6RvA-xFu8b7PVKsMF-Wu&confirm=t&uuid=4dc71e3d-dd5b-4963-b2ca-ae0e0c90110c\n",
      "To: /teamspace/studios/this_studio/Deeplab/datasets/leaf.py\n",
      "100%|██████████████████████████████████████| 2.70k/2.70k [00:00<00:00, 17.6MB/s]\n"
     ]
    }
   ],
   "source": [
    "download({'/content/drive/MyDrive/Training_Medicinal_Plants/datasets/utils.py': '1WAF0E3XbbFvnv0FSxB_NQDrg-kNRLakl',\n",
    " '/content/drive/MyDrive/Training_Medicinal_Plants/datasets/cityscapes.py': '1Rezn1Z-Hi2lfNAAsrTk_cH2p5oUJdaXX',\n",
    " '/content/drive/MyDrive/Training_Medicinal_Plants/datasets/__init__.py': '1uAh92YcSeqb8EHb9T4YbXexv5w8Vo3i2',\n",
    " '/content/drive/MyDrive/Training_Medicinal_Plants/datasets/voc.py': '1DIFK610lq_CmlKS76nBeMjDfpg78pbVE',\n",
    " '/content/drive/MyDrive/Training_Medicinal_Plants/datasets/.ipynb_checkpoints': '19tCSTfMY9XnHC0w3fkuscZ72n6nADnqu',\n",
    " '/content/drive/MyDrive/Training_Medicinal_Plants/datasets/__pycache__': '1JTSxFGOiskdTQ8Jnos6wHn2i-YSc6cTL',\n",
    " '/content/drive/MyDrive/Training_Medicinal_Plants/datasets/leaf.py': '1ZW--wYrJGTPR6RvA-xFu8b7PVKsMF-Wu'})"
   ]
  },
  {
   "cell_type": "code",
   "execution_count": 37,
   "id": "597510c0-d99b-4833-91dc-6023e7522be9",
   "metadata": {},
   "outputs": [],
   "source": [
    "os.chdir('/teamspace/studios/this_studio/Deeplab/datasets')"
   ]
  },
  {
   "cell_type": "code",
   "execution_count": 38,
   "id": "1c0f4aa4-37f6-4f8f-abb4-b29a1da238b9",
   "metadata": {},
   "outputs": [
    {
     "name": "stdout",
     "output_type": "stream",
     "text": [
      "Downloading...\n",
      "From (original): https://drive.google.com/uc?id=1K9n3Ktu8yDDByVWihF3OL3d7CbOjIDA5\n",
      "From (redirected): https://drive.google.com/uc?id=1K9n3Ktu8yDDByVWihF3OL3d7CbOjIDA5&confirm=t&uuid=3eae3232-c343-48aa-a9f1-caca8ef1df3e\n",
      "To: /teamspace/studios/this_studio/Deeplab/datasets/__pycache__/__init__.cpython-310.pyc\n",
      "100%|██████████████████████████████████████████| 340/340 [00:00<00:00, 1.75MB/s]\n",
      "Downloading...\n",
      "From (original): https://drive.google.com/uc?id=1UtCzqRhYqHP_YDHDTAtm2kQQBnqQJSFc\n",
      "From (redirected): https://drive.google.com/uc?id=1UtCzqRhYqHP_YDHDTAtm2kQQBnqQJSFc&confirm=t&uuid=2e30dcca-68cf-4c5e-b1df-337f957145d3\n",
      "To: /teamspace/studios/this_studio/Deeplab/datasets/__pycache__/voc.cpython-310.pyc\n",
      "100%|██████████████████████████████████████| 5.93k/5.93k [00:00<00:00, 26.3MB/s]\n",
      "Downloading...\n",
      "From (original): https://drive.google.com/uc?id=1MEJrLZda74tmjSLeoeXHEUFGz5qZQuMD\n",
      "From (redirected): https://drive.google.com/uc?id=1MEJrLZda74tmjSLeoeXHEUFGz5qZQuMD&confirm=t&uuid=27c8fc07-12a7-41b1-bbc0-e48d31caafbd\n",
      "To: /teamspace/studios/this_studio/Deeplab/datasets/__pycache__/cityscapes.cpython-310.pyc\n",
      "100%|██████████████████████████████████████| 6.60k/6.60k [00:00<00:00, 25.4MB/s]\n",
      "Downloading...\n",
      "From (original): https://drive.google.com/uc?id=1GIUViRoDOWU48dc8Tcp1lWSW8jv0oLWj\n",
      "From (redirected): https://drive.google.com/uc?id=1GIUViRoDOWU48dc8Tcp1lWSW8jv0oLWj&confirm=t&uuid=3ea7a42e-8251-4239-922c-fc2d5aeea011\n",
      "To: /teamspace/studios/this_studio/Deeplab/datasets/__pycache__/leaf.cpython-310.pyc\n",
      "100%|██████████████████████████████████████| 2.37k/2.37k [00:00<00:00, 14.8MB/s]\n"
     ]
    }
   ],
   "source": [
    "download({'/content/drive/MyDrive/Training_Medicinal_Plants/datasets/__pycache__/__init__.cpython-310.pyc': '1K9n3Ktu8yDDByVWihF3OL3d7CbOjIDA5',\n",
    " '/content/drive/MyDrive/Training_Medicinal_Plants/datasets/__pycache__/voc.cpython-310.pyc': '1UtCzqRhYqHP_YDHDTAtm2kQQBnqQJSFc',\n",
    " '/content/drive/MyDrive/Training_Medicinal_Plants/datasets/__pycache__/cityscapes.cpython-310.pyc': '1MEJrLZda74tmjSLeoeXHEUFGz5qZQuMD',\n",
    " '/content/drive/MyDrive/Training_Medicinal_Plants/datasets/__pycache__/leaf.cpython-310.pyc': '1GIUViRoDOWU48dc8Tcp1lWSW8jv0oLWj'})"
   ]
  },
  {
   "cell_type": "code",
   "execution_count": 39,
   "id": "cccd739c-c2e1-4ce4-a3b3-bbccf0a080aa",
   "metadata": {},
   "outputs": [
    {
     "name": "stdout",
     "output_type": "stream",
     "text": [
      "Downloading...\n",
      "From (original): https://drive.google.com/uc?id=13CbdkyD_otRGXDrkReQHowyll1YMJnrk\n",
      "From (redirected): https://drive.google.com/uc?id=13CbdkyD_otRGXDrkReQHowyll1YMJnrk&confirm=t&uuid=be169b94-1b67-4199-b685-de3e561868a0\n",
      "To: /teamspace/studios/this_studio/Deeplab/datasets/.ipynb_checkpoints/leaf-checkpoint.py\n",
      "100%|██████████████████████████████████████| 2.67k/2.67k [00:00<00:00, 16.7MB/s]\n"
     ]
    }
   ],
   "source": [
    "download({'/content/drive/MyDrive/Training_Medicinal_Plants/datasets/.ipynb_checkpoints/leaf-checkpoint.py': '13CbdkyD_otRGXDrkReQHowyll1YMJnrk'})"
   ]
  },
  {
   "cell_type": "code",
   "execution_count": 40,
   "id": "f7455883-ed44-41a0-b8cc-01796bb79aa4",
   "metadata": {},
   "outputs": [],
   "source": [
    "os.chdir('/teamspace/studios/this_studio/Deeplab/saved_models')"
   ]
  },
  {
   "cell_type": "code",
   "execution_count": 41,
   "id": "040512e4-7612-4a46-ae3b-f10d95531f99",
   "metadata": {},
   "outputs": [
    {
     "name": "stdout",
     "output_type": "stream",
     "text": [
      "Downloading...\n",
      "From: https://drive.google.com/uc?id=1-7sAQGDK7Feek-3aMM6ZbEUInQsAjHph\n",
      "To: /teamspace/studios/this_studio/Deeplab/saved_models/best_deeplabv3plus_mobilenet_custom_os16_0.7854892764326529.pth\n",
      "100%|██████████████████████████████████████| 21.5M/21.5M [00:00<00:00, 37.9MB/s]\n"
     ]
    }
   ],
   "source": [
    "!gdown https://drive.google.com/uc?id=1-7sAQGDK7Feek-3aMM6ZbEUInQsAjHph"
   ]
  },
  {
   "cell_type": "code",
   "execution_count": null,
   "id": "272ffb8a-a30e-44ee-b27f-d3865b479be5",
   "metadata": {},
   "outputs": [],
   "source": []
  }
 ],
 "metadata": {
  "kernelspec": {
   "display_name": "Python 3",
   "language": "python",
   "name": "python3"
  },
  "language_info": {
   "codemirror_mode": {
    "name": "ipython",
    "version": 3
   },
   "file_extension": ".py",
   "mimetype": "text/x-python",
   "name": "python",
   "nbconvert_exporter": "python",
   "pygments_lexer": "ipython3",
   "version": "3.10.10"
  }
 },
 "nbformat": 4,
 "nbformat_minor": 5
}
